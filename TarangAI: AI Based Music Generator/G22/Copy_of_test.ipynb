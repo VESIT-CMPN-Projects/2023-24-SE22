{
  "cells": [
    {
      "cell_type": "markdown",
      "metadata": {
        "id": "MT8Y9M0xU3IF"
      },
      "source": []
    },
    {
      "cell_type": "markdown",
      "metadata": {
        "id": "PZt-BYcLaWRS"
      },
      "source": [
        "**L**"
      ]
    },
    {
      "cell_type": "code",
      "execution_count": null,
      "metadata": {
        "colab": {
          "base_uri": "https://localhost:8080/"
        },
        "id": "DY_urllwSLxZ",
        "outputId": "4a89ba93-afdd-46a3-b6c6-29f07ee578e3"
      },
      "outputs": [
        {
          "name": "stdout",
          "output_type": "stream",
          "text": [
            "\u001b[33mWARNING: Package(s) not found: fluidsynth\u001b[0m\u001b[33m\n",
            "\u001b[0m"
          ]
        }
      ],
      "source": [
        "!pip show fluidsynth"
      ]
    },
    {
      "cell_type": "code",
      "execution_count": 2,
      "metadata": {
        "colab": {
          "base_uri": "https://localhost:8080/"
        },
        "id": "Z53TLHdOO8Pe",
        "outputId": "c93b133d-a951-41e4-837b-1dd6008ed019"
      },
      "outputs": [
        {
          "name": "stdout",
          "output_type": "stream",
          "text": [
            "Name: tensorflow\n",
            "Version: 2.16.1\n",
            "Summary: TensorFlow is an open source machine learning framework for everyone.\n",
            "Home-page: https://www.tensorflow.org/\n",
            "Author: Google Inc.\n",
            "Author-email: packages@tensorflow.org\n",
            "License: Apache 2.0\n",
            "Location: c:\\users\\dell\\appdata\\local\\programs\\python\\python310\\lib\\site-packages\n",
            "Requires: tensorflow-intel\n",
            "Required-by: \n"
          ]
        }
      ],
      "source": [
        "!pip show tensorflow"
      ]
    },
    {
      "cell_type": "code",
      "execution_count": 1,
      "metadata": {
        "colab": {
          "base_uri": "https://localhost:8080/"
        },
        "id": "YFBVmmDvMgx0",
        "outputId": "9232aa77-0c66-4cb2-d308-08473e7e7a22"
      },
      "outputs": [
        {
          "name": "stdout",
          "output_type": "stream",
          "text": [
            "^C\n",
            "Note: you may need to restart the kernel to use updated packages.\n"
          ]
        },
        {
          "name": "stdout",
          "output_type": "stream",
          "text": [
            "Collecting tensorflow\n",
            "  Downloading tensorflow-2.16.1-cp311-cp311-win_amd64.whl (2.1 kB)\n",
            "Collecting tensorflow-intel==2.16.1\n",
            "  Downloading tensorflow_intel-2.16.1-cp311-cp311-win_amd64.whl (377.0 MB)\n",
            "     ------------------------------------ 377.0/377.0 MB 559.0 kB/s eta 0:00:00\n",
            "Requirement already satisfied: absl-py>=1.0.0 in c:\\users\\dell\\appdata\\local\\programs\\python\\python311\\lib\\site-packages (from tensorflow-intel==2.16.1->tensorflow) (2.1.0)\n",
            "Collecting astunparse>=1.6.0\n",
            "  Using cached astunparse-1.6.3-py2.py3-none-any.whl (12 kB)\n",
            "Collecting flatbuffers>=23.5.26\n",
            "  Downloading flatbuffers-24.3.25-py2.py3-none-any.whl (26 kB)\n",
            "Collecting gast!=0.5.0,!=0.5.1,!=0.5.2,>=0.2.1\n",
            "  Using cached gast-0.5.4-py3-none-any.whl (19 kB)\n",
            "Collecting google-pasta>=0.1.1\n",
            "  Using cached google_pasta-0.2.0-py3-none-any.whl (57 kB)\n",
            "Requirement already satisfied: h5py>=3.10.0 in c:\\users\\dell\\appdata\\local\\programs\\python\\python311\\lib\\site-packages (from tensorflow-intel==2.16.1->tensorflow) (3.10.0)\n",
            "Collecting libclang>=13.0.0\n",
            "  Using cached libclang-18.1.1-py2.py3-none-win_amd64.whl (26.4 MB)\n",
            "Requirement already satisfied: ml-dtypes~=0.3.1 in c:\\users\\dell\\appdata\\local\\programs\\python\\python311\\lib\\site-packages (from tensorflow-intel==2.16.1->tensorflow) (0.3.2)\n",
            "Collecting opt-einsum>=2.3.2\n",
            "  Using cached opt_einsum-3.3.0-py3-none-any.whl (65 kB)\n",
            "Requirement already satisfied: packaging in c:\\users\\dell\\appdata\\roaming\\python\\python311\\site-packages (from tensorflow-intel==2.16.1->tensorflow) (23.2)\n",
            "Collecting protobuf!=4.21.0,!=4.21.1,!=4.21.2,!=4.21.3,!=4.21.4,!=4.21.5,<5.0.0dev,>=3.20.3\n",
            "  Using cached protobuf-4.25.3-cp310-abi3-win_amd64.whl (413 kB)\n",
            "Requirement already satisfied: requests<3,>=2.21.0 in c:\\users\\dell\\appdata\\roaming\\python\\python311\\site-packages (from tensorflow-intel==2.16.1->tensorflow) (2.31.0)\n",
            "Requirement already satisfied: setuptools in c:\\users\\dell\\appdata\\local\\programs\\python\\python311\\lib\\site-packages (from tensorflow-intel==2.16.1->tensorflow) (65.5.0)\n",
            "Requirement already satisfied: six>=1.12.0 in c:\\users\\dell\\appdata\\roaming\\python\\python311\\site-packages (from tensorflow-intel==2.16.1->tensorflow) (1.16.0)\n",
            "Collecting termcolor>=1.1.0\n",
            "  Using cached termcolor-2.4.0-py3-none-any.whl (7.7 kB)\n",
            "Requirement already satisfied: typing-extensions>=3.6.6 in c:\\users\\dell\\appdata\\roaming\\python\\python311\\site-packages (from tensorflow-intel==2.16.1->tensorflow) (4.8.0)\n",
            "Collecting wrapt>=1.11.0\n",
            "  Downloading wrapt-1.16.0-cp311-cp311-win_amd64.whl (37 kB)\n",
            "Collecting grpcio<2.0,>=1.24.3\n",
            "  Downloading grpcio-1.62.1-cp311-cp311-win_amd64.whl (3.8 MB)\n",
            "     ---------------------------------------- 3.8/3.8 MB 2.2 MB/s eta 0:00:00\n",
            "Collecting tensorboard<2.17,>=2.16\n",
            "  Using cached tensorboard-2.16.2-py3-none-any.whl (5.5 MB)\n",
            "Requirement already satisfied: keras>=3.0.0 in c:\\users\\dell\\appdata\\local\\programs\\python\\python311\\lib\\site-packages (from tensorflow-intel==2.16.1->tensorflow) (3.1.1)\n",
            "Collecting tensorflow-io-gcs-filesystem>=0.23.1\n",
            "  Downloading tensorflow_io_gcs_filesystem-0.31.0-cp311-cp311-win_amd64.whl (1.5 MB)\n",
            "     ---------------------------------------- 1.5/1.5 MB 1.9 MB/s eta 0:00:00\n",
            "Requirement already satisfied: numpy<2.0.0,>=1.23.5 in c:\\users\\dell\\appdata\\roaming\\python\\python311\\site-packages (from tensorflow-intel==2.16.1->tensorflow) (1.26.0)\n",
            "Collecting wheel<1.0,>=0.23.0\n",
            "  Using cached wheel-0.43.0-py3-none-any.whl (65 kB)\n",
            "Requirement already satisfied: rich in c:\\users\\dell\\appdata\\local\\programs\\python\\python311\\lib\\site-packages (from keras>=3.0.0->tensorflow-intel==2.16.1->tensorflow) (13.7.1)\n",
            "Requirement already satisfied: namex in c:\\users\\dell\\appdata\\local\\programs\\python\\python311\\lib\\site-packages (from keras>=3.0.0->tensorflow-intel==2.16.1->tensorflow) (0.0.7)\n",
            "Requirement already satisfied: optree in c:\\users\\dell\\appdata\\local\\programs\\python\\python311\\lib\\site-packages (from keras>=3.0.0->tensorflow-intel==2.16.1->tensorflow) (0.11.0)\n",
            "Requirement already satisfied: charset-normalizer<4,>=2 in c:\\users\\dell\\appdata\\roaming\\python\\python311\\site-packages (from requests<3,>=2.21.0->tensorflow-intel==2.16.1->tensorflow) (3.3.0)\n",
            "Requirement already satisfied: idna<4,>=2.5 in c:\\users\\dell\\appdata\\roaming\\python\\python311\\site-packages (from requests<3,>=2.21.0->tensorflow-intel==2.16.1->tensorflow) (3.4)\n",
            "Requirement already satisfied: urllib3<3,>=1.21.1 in c:\\users\\dell\\appdata\\roaming\\python\\python311\\site-packages (from requests<3,>=2.21.0->tensorflow-intel==2.16.1->tensorflow) (2.0.7)\n",
            "Requirement already satisfied: certifi>=2017.4.17 in c:\\users\\dell\\appdata\\roaming\\python\\python311\\site-packages (from requests<3,>=2.21.0->tensorflow-intel==2.16.1->tensorflow) (2023.7.22)\n",
            "Collecting markdown>=2.6.8\n",
            "  Using cached Markdown-3.6-py3-none-any.whl (105 kB)\n",
            "Collecting tensorboard-data-server<0.8.0,>=0.7.0\n",
            "  Using cached tensorboard_data_server-0.7.2-py3-none-any.whl (2.4 kB)\n",
            "Collecting werkzeug>=1.0.1\n",
            "  Using cached werkzeug-3.0.1-py3-none-any.whl (226 kB)\n",
            "Requirement already satisfied: MarkupSafe>=2.1.1 in c:\\users\\dell\\appdata\\roaming\\python\\python311\\site-packages (from werkzeug>=1.0.1->tensorboard<2.17,>=2.16->tensorflow-intel==2.16.1->tensorflow) (2.1.3)\n",
            "Requirement already satisfied: markdown-it-py>=2.2.0 in c:\\users\\dell\\appdata\\local\\programs\\python\\python311\\lib\\site-packages (from rich->keras>=3.0.0->tensorflow-intel==2.16.1->tensorflow) (3.0.0)\n",
            "Requirement already satisfied: pygments<3.0.0,>=2.13.0 in c:\\users\\dell\\appdata\\local\\programs\\python\\python311\\lib\\site-packages (from rich->keras>=3.0.0->tensorflow-intel==2.16.1->tensorflow) (2.17.2)\n",
            "Requirement already satisfied: mdurl~=0.1 in c:\\users\\dell\\appdata\\local\\programs\\python\\python311\\lib\\site-packages (from markdown-it-py>=2.2.0->rich->keras>=3.0.0->tensorflow-intel==2.16.1->tensorflow) (0.1.2)\n",
            "Installing collected packages: libclang, flatbuffers, wrapt, wheel, werkzeug, termcolor, tensorflow-io-gcs-filesystem, tensorboard-data-server, protobuf, opt-einsum, markdown, grpcio, google-pasta, gast, tensorboard, astunparse, tensorflow-intel, tensorflow\n",
            "Successfully installed astunparse-1.6.3 flatbuffers-24.3.25 gast-0.5.4 google-pasta-0.2.0 grpcio-1.62.1 libclang-18.1.1 markdown-3.6 opt-einsum-3.3.0 protobuf-4.25.3 tensorboard-2.16.2 tensorboard-data-server-0.7.2 tensorflow-2.16.1 tensorflow-intel-2.16.1 tensorflow-io-gcs-filesystem-0.31.0 termcolor-2.4.0 werkzeug-3.0.1 wheel-0.43.0 wrapt-1.16.0\n"
          ]
        },
        {
          "name": "stderr",
          "output_type": "stream",
          "text": [
            "\n",
            "[notice] A new release of pip available: 22.3 -> 24.0\n",
            "[notice] To update, run: python.exe -m pip install --upgrade pip\n"
          ]
        }
      ],
      "source": [
        "%pip install tensorflow\n"
      ]
    },
    {
      "cell_type": "code",
      "execution_count": 2,
      "metadata": {
        "colab": {
          "base_uri": "https://localhost:8080/"
        },
        "id": "wDkeqKBtJWqL",
        "outputId": "3945fef9-34b2-4e6a-e466-7fb62f7b8c47"
      },
      "outputs": [
        {
          "name": "stdout",
          "output_type": "stream",
          "text": [
            "Name: keras\n",
            "Version: 3.1.1\n",
            "Summary: Multi-backend Keras.\n",
            "Home-page: https://github.com/keras-team/keras\n",
            "Author: Keras team\n",
            "Author-email: keras-users@googlegroups.com\n",
            "License: Apache License 2.0\n",
            "Location: C:\\Users\\DELL\\AppData\\Local\\Programs\\Python\\Python311\\Lib\\site-packages\n",
            "Requires: absl-py, h5py, ml-dtypes, namex, numpy, optree, rich\n",
            "Required-by: tensorflow-intel\n"
          ]
        }
      ],
      "source": [
        "!pip show keras"
      ]
    },
    {
      "cell_type": "code",
      "execution_count": null,
      "metadata": {
        "id": "i2EKrNbFAlxl"
      },
      "outputs": [],
      "source": [
        "# from google.colab import drive\n",
        "# drive.mount('/content/dataset')"
      ]
    },
    {
      "cell_type": "code",
      "execution_count": 7,
      "metadata": {},
      "outputs": [
        {
          "name": "stdout",
          "output_type": "stream",
          "text": [
            "^C\n"
          ]
        }
      ],
      "source": [
        "!choco install fluidsynth\n"
      ]
    },
    {
      "cell_type": "code",
      "execution_count": 3,
      "metadata": {
        "colab": {
          "base_uri": "https://localhost:8080/"
        },
        "id": "kYTW1LbvWhWl",
        "outputId": "32a3aab4-6570-419b-8f2b-a461e7542f8c"
      },
      "outputs": [
        {
          "name": "stdout",
          "output_type": "stream",
          "text": [
            "hi\n"
          ]
        },
        {
          "name": "stderr",
          "output_type": "stream",
          "text": [
            "'sudo' is not recognized as an internal or external command,\n",
            "operable program or batch file.\n"
          ]
        }
      ],
      "source": [
        "!sudo apt install -y fluidsynth\n",
        "print(\"hi\")"
      ]
    },
    {
      "cell_type": "code",
      "execution_count": 4,
      "metadata": {
        "colab": {
          "base_uri": "https://localhost:8080/"
        },
        "id": "qQQc6gkEWpw_",
        "outputId": "a9f8df6e-e427-4db0-dd7c-a22e33667647"
      },
      "outputs": [
        {
          "name": "stdout",
          "output_type": "stream",
          "text": [
            "Requirement already satisfied: pyfluidsynth in c:\\users\\dell\\appdata\\local\\programs\\python\\python310\\lib\\site-packages (1.3.3)\n",
            "Requirement already satisfied: numpy in c:\\users\\dell\\appdata\\local\\programs\\python\\python310\\lib\\site-packages (from pyfluidsynth) (1.26.4)\n",
            "Note: you may need to restart the kernel to use updated packages.\n"
          ]
        }
      ],
      "source": [
        "%pip install --upgrade pyfluidsynth"
      ]
    },
    {
      "cell_type": "code",
      "execution_count": 2,
      "metadata": {
        "colab": {
          "base_uri": "https://localhost:8080/"
        },
        "id": "yfrx1YwZW4Vp",
        "outputId": "0fb78baa-39e1-41ff-e381-1637d82d869f"
      },
      "outputs": [
        {
          "name": "stdout",
          "output_type": "stream",
          "text": [
            "Requirement already satisfied: pretty_midi in c:\\users\\dell\\appdata\\local\\programs\\python\\python310\\lib\\site-packages (0.2.10)\n",
            "Requirement already satisfied: numpy>=1.7.0 in c:\\users\\dell\\appdata\\local\\programs\\python\\python310\\lib\\site-packages (from pretty_midi) (1.26.4)\n",
            "Requirement already satisfied: mido>=1.1.16 in c:\\users\\dell\\appdata\\local\\programs\\python\\python310\\lib\\site-packages (from pretty_midi) (1.3.2)\n",
            "Requirement already satisfied: six in c:\\users\\dell\\appdata\\local\\programs\\python\\python310\\lib\\site-packages (from pretty_midi) (1.16.0)\n",
            "Requirement already satisfied: packaging~=23.1 in c:\\users\\dell\\appdata\\local\\programs\\python\\python310\\lib\\site-packages (from mido>=1.1.16->pretty_midi) (23.2)\n",
            "Note: you may need to restart the kernel to use updated packages.\n"
          ]
        }
      ],
      "source": [
        "%pip install pretty_midi"
      ]
    },
    {
      "cell_type": "code",
      "execution_count": null,
      "metadata": {},
      "outputs": [],
      "source": []
    },
    {
      "cell_type": "code",
      "execution_count": 11,
      "metadata": {
        "id": "dd5EjveAW8A8"
      },
      "outputs": [],
      "source": [
        "import collections\n",
        "import datetime\n",
        "import fluidsynth\n",
        "import glob\n",
        "import numpy as np\n",
        "import pathlib\n",
        "import pandas as pd\n",
        "import pretty_midi\n",
        "import seaborn as sns\n",
        "import tensorflow as tf\n",
        "\n",
        "from IPython import display\n",
        "from matplotlib import pyplot as plt\n",
        "from typing import Optional"
      ]
    },
    {
      "cell_type": "code",
      "execution_count": 12,
      "metadata": {
        "id": "LkVB8lu6XCZd"
      },
      "outputs": [],
      "source": [
        "seed = 42\n",
        "tf.random.set_seed(seed)\n",
        "np.random.seed(seed)\n",
        "\n",
        "# Sampling rate for audio playback\n",
        "_SAMPLING_RATE = 16000"
      ]
    },
    {
      "cell_type": "code",
      "execution_count": null,
      "metadata": {
        "id": "XNhStZBbXNgT"
      },
      "outputs": [],
      "source": [
        "# data_dir = pathlib.Path('data/maestro-v2.0.0')\n",
        "# if not data_dir.exists():\n",
        "#   tf.keras.utils.get_file(\n",
        "#       'maestro-v2.0.0-midi.zip',\n",
        "#       origin='https://storage.googleapis.com/magentadata/datasets/maestro/v2.0.0/maestro-v2.0.0-midi.zip',\n",
        "#       extract=True,\n",
        "#       cache_dir='.', cache_subdir='data',\n",
        "#   )"
      ]
    },
    {
      "cell_type": "code",
      "execution_count": null,
      "metadata": {
        "colab": {
          "base_uri": "https://localhost:8080/"
        },
        "id": "bnoLhO5TXVjf",
        "outputId": "83189c7d-63d4-41f4-aadd-ee7cb10715f1"
      },
      "outputs": [
        {
          "name": "stdout",
          "output_type": "stream",
          "text": [
            "Number of files: 11\n"
          ]
        }
      ],
      "source": [
        "# filenames = glob.glob(str('*.mid*'))  #this is storing all the file in array\n",
        "# print('Number of files:', len(filenames))"
      ]
    },
    {
      "cell_type": "code",
      "execution_count": 15,
      "metadata": {},
      "outputs": [
        {
          "name": "stdout",
          "output_type": "stream",
          "text": [
            "Number of files: 1\n",
            "Files: ['C:/Users/DELL/Downloads/mididataset sad songs\\\\mididataset sad songs']\n"
          ]
        }
      ],
      "source": [
        "# import glob\n",
        "\n",
        "# # Specify the directory path where your MIDI files are located\n",
        "# directory_path = 'C:/Users/DELL/Downloads/mididataset sad songs/mididataset sad songs'\n",
        "\n",
        "# # Use the specified directory path with glob.glob to find MIDI files\n",
        "# filenames = glob.glob(directory_path + '*')\n",
        "\n",
        "# # Print the number of files found\n",
        "# print('Number of files:', len(filenames))\n",
        "\n",
        "# # Print the filenames for verification\n",
        "# print('Files:', filenames)\n"
      ]
    },
    {
      "cell_type": "code",
      "execution_count": 13,
      "metadata": {},
      "outputs": [
        {
          "name": "stdout",
          "output_type": "stream",
          "text": [
            "Number of files: 108\n",
            "Files: ['C:/Users/DELL/Downloads/mididataset sad songs/mididataset sad songs\\\\Abhagi Piya Ki Video Song  Kanika Kapoor  Ahmed  Mohammed Hussain  T-Series.mid', 'C:/Users/DELL/Downloads/mididataset sad songs/mididataset sad songs\\\\Abhagi Piya Ki Video Song  Tera Intezaar  Arbaaz Khan  Sunny Leone  Kanika Kapoor   T-Series.mid', 'C:/Users/DELL/Downloads/mididataset sad songs/mididataset sad songs\\\\AGAR TUM SAATH HO Full VIDEO song  Tamasha  Ranbir Kapoor, Deepika Padukone  T-Series.mid', 'C:/Users/DELL/Downloads/mididataset sad songs/mididataset sad songs\\\\Arijit Singh Pachtaoge  Vicky Kaushal, Nora Fatehi Jaani, B Praak, Arvindr Khaira  Bhushan Kumar.mid', 'C:/Users/DELL/Downloads/mididataset sad songs/mididataset sad songs\\\\ARIJIT SINGH VERSION Bekhayali Full Song  Kabir Singh  Shahid K,Kiara A  Sandeep Reddy V Irshad.mid', 'C:/Users/DELL/Downloads/mididataset sad songs/mididataset sad songs\\\\Arijit Singh Yeh Ishq Hai Full Video Song  Rangoon  Saif Ali Khan, Kangana Ranaut, Shahid Kapoor.mid', 'C:/Users/DELL/Downloads/mididataset sad songs/mididataset sad songs\\\\Armaan Malik Tootey Khaab (Official Video)  Songster, Kunaal Vermaa  Shabby  Bhushan Kumar.mid', 'C:/Users/DELL/Downloads/mididataset sad songs/mididataset sad songs\\\\Atif A Dekhte Dekhte Song  Batti Gul Meter Chalu  Shahid K Shraddha K  Nusrat Saab Rochak Manoj.mid', 'C:/Users/DELL/Downloads/mididataset sad songs/mididataset sad songs\\\\Atif Aslam Pehli Dafa Song (Video)  Ileana DCruz  Latest Hindi Song 2017  T-Series.mid', 'C:/Users/DELL/Downloads/mididataset sad songs/mididataset sad songs\\\\Baaghi 2 Lo Safar Song  Tiger Shroff  Disha P  Mithoon  Jubin N  Ahmed Khan Sajid Nadiadwala.mid', 'C:/Users/DELL/Downloads/mididataset sad songs/mididataset sad songs\\\\BAARISHEIN Song  Arko Feat. Atif Aslam   Nushrat Bharucha  New Romantic Song 2019  T-Series.mid', 'C:/Users/DELL/Downloads/mididataset sad songs/mididataset sad songs\\\\Banjaara Full Video Song  Ek Villain  Shraddha Kapoor, Siddharth Malhotra.mid', 'C:/Users/DELL/Downloads/mididataset sad songs/mididataset sad songs\\\\Boond Boond  Hate Story IV  Urvashi Rautela  Vivan B  Arko  Jubin N  Neeti Mohan Manoj M.mid', 'C:/Users/DELL/Downloads/mididataset sad songs/mididataset sad songs\\\\Bumro Full Song  Notebook  Zaheer Iqbal  Pranutan Bahl  Kamaal Khan  Vishal Mishra.mid', 'C:/Users/DELL/Downloads/mididataset sad songs/mididataset sad songs\\\\Chashni Reprise Song  Bharat  Salman Khan, Katrina Kaif  Vishal  Shekhar ft. Neha Bhasin.mid', 'C:/Users/DELL/Downloads/mididataset sad songs/mididataset sad songs\\\\Commando 2 Tere Dil Mein  Vidyut Jammwal, Adah Sharma, Esha Gupta, Freddy Daruwala, Armaan Malik.mid', 'C:/Users/DELL/Downloads/mididataset sad songs/mididataset sad songs\\\\CRAKK Dil Jhoom (Song)  Vidyut Jammwal  Nora Fatehi  Vishal Mishra  Shreya Ghoshal  Tanishk.mid', 'C:/Users/DELL/Downloads/mididataset sad songs/mididataset sad songs\\\\DIL JAANIYE Video  Khandaani Shafakhana  Sonakshi Sinha Jubin Nautiyal,Payal Dev  Love Song 2019 (1).mid', 'C:/Users/DELL/Downloads/mididataset sad songs/mididataset sad songs\\\\DIL JAANIYE Video  Khandaani Shafakhana  Sonakshi Sinha Jubin Nautiyal,Payal Dev  Love Song 2019.mid', 'C:/Users/DELL/Downloads/mididataset sad songs/mididataset sad songs\\\\Dilbara Full Video  Pati Patni Aur Woh  Kartik A, Bhumi P, Ananya P  Sachet-Parampara.mid', 'C:/Users/DELL/Downloads/mididataset sad songs/mididataset sad songs\\\\FIGHTER Bekaar Dil (Song) Hrithik Roshan, Deepika, Vishal-Sheykhar, Vishal M, Shilpa, Bosco-Caesar.mid', 'C:/Users/DELL/Downloads/mididataset sad songs/mididataset sad songs\\\\Full Song  DIL JAANIYE  Khandaani Shafakhana Sonakshi S, Priyansh Jubin N ,Tulsi Kumar,Payal Dev.mid', 'C:/Users/DELL/Downloads/mididataset sad songs/mididataset sad songs\\\\FULL SONG Chashni  Bharat  Salman Khan, Katrina Kaif  Vishal  Shekhar ft. Abhijeet Srivastava.mid', 'C:/Users/DELL/Downloads/mididataset sad songs/mididataset sad songs\\\\Full Song Sachiya Mohabbatan  Arjun Patiala  Diljit Dosanjh, Kriti  Sachet Tandon  Sachin-Jigar.mid', 'C:/Users/DELL/Downloads/mididataset sad songs/mididataset sad songs\\\\Full Song Safar  Zaheer Iqbal  Pranutan Bahl  Mohit Chauhan  Vishal Mishra.mid', 'C:/Users/DELL/Downloads/mididataset sad songs/mididataset sad songs\\\\FULL SONG Tere Bin  SIMMBA  Ranveer Singh, Sara Ali Khan  Tanishk B,Rahat Fateh Ali Khan,Asees K.mid', 'C:/Users/DELL/Downloads/mididataset sad songs/mididataset sad songs\\\\Full Song TU MILA TO HAINA  De De Pyaar De  Ajay Devgn, Rakul  Arijit Singh,Amaal Mallik,Kunaal.mid', 'C:/Users/DELL/Downloads/mididataset sad songs/mididataset sad songs\\\\Full Song Tujhe Kitna Chahein Aur (Film Version)  Kabir Singh  Shahid K, Kiara A  Mithoon Jubin.mid', 'C:/Users/DELL/Downloads/mididataset sad songs/mididataset sad songs\\\\Full SongTera Ban Jaunga  Kabir Singh  Shahid K, Kiara A, Sandeep V  Tulsi Kumar, Akhil Sachdeva.mid', 'C:/Users/DELL/Downloads/mididataset sad songs/mididataset sad songs\\\\Full Video CHALE AANA  De De Pyaar De I Ajay Devgn, Tabu, Rakul Preet l Armaan M, Amaal M,Kunaal V.mid', 'C:/Users/DELL/Downloads/mididataset sad songs/mididataset sad songs\\\\Full Video Enni Soni  Saaho  Prabhas, Shraddha Kapoor  Guru Randhawa, Tulsi Kumar.mid', 'C:/Users/DELL/Downloads/mididataset sad songs/mididataset sad songs\\\\Full Video Laila Song  Zaheer Iqbal  Pranutan Bahl  Dhvani Bhanushali  Vishal Mishra.mid', 'C:/Users/DELL/Downloads/mididataset sad songs/mididataset sad songs\\\\Full Video Lo Safar Song  Baaghi 2  Tiger Shroff  Disha P  Mithoon  Jubin N  Ahmed K Sajid N.mid', 'C:/Users/DELL/Downloads/mididataset sad songs/mididataset sad songs\\\\Full Video NAAD KHULA  Malaal  Sharmin Segal  Meezaan  Shreyas Puranik.mid', 'C:/Users/DELL/Downloads/mididataset sad songs/mididataset sad songs\\\\Full Video Naina Lade  Dabangg 3  Salman Khan, Saiee Manjrekar  Javed Ali  Sajid Wajid.mid', 'C:/Users/DELL/Downloads/mididataset sad songs/mididataset sad songs\\\\Full Video Nazar Na Lag Jaaye  STREE  Rajkummar Rao, Shraddha Kapoor  Ash King  Sachin-Jigar.mid', 'C:/Users/DELL/Downloads/mididataset sad songs/mididataset sad songs\\\\Full Video Tum Mere Ho Song  Hate Story IV  Vivan Bhathena Ihana Dhillon Mithoon Jubin N Manoj M.mid', 'C:/Users/DELL/Downloads/mididataset sad songs/mididataset sad songs\\\\Full Video Tum Se Hi  Jab We Met  Kareena Kapoor, Shahid Kapoor  Mohit Chauhan  Pritam.mid', 'C:/Users/DELL/Downloads/mididataset sad songs/mididataset sad songs\\\\Full VideoTu Hi Yaar Mera  Pati Patni Aur Woh  Kartik A,Bhumi P,Ananya P Rochak,Arijit S,Neha K.mid', 'C:/Users/DELL/Downloads/mididataset sad songs/mididataset sad songs\\\\Gal Sun Official Video Song  Akhil Sachdeva  Manoj Muntashir  Bhushan Kumar.mid', 'C:/Users/DELL/Downloads/mididataset sad songs/mididataset sad songs\\\\Gazab Ka Hai Din Video  DIL JUUNGLEE  Tanishk B Jubin N Prakriti K  Taapsee Pannu  Saqib S.mid', 'C:/Users/DELL/Downloads/mididataset sad songs/mididataset sad songs\\\\Ghar Se Nikalte Hi Song  Amaal Mallik Feat. Armaan Malik  Bhushan Kumar  Angel.mid', 'C:/Users/DELL/Downloads/mididataset sad songs/mididataset sad songs\\\\Guru Randhawa Ban Ja Rani  Tumhari Sulu Video Song  Vidya Balan Manav Kaul.mid', 'C:/Users/DELL/Downloads/mididataset sad songs/mididataset sad songs\\\\Guru Randhawa Ishq Tera (Official Video)  Nushrat Bharucha  Bhushan Kumar  T-Series.mid', 'C:/Users/DELL/Downloads/mididataset sad songs/mididataset sad songs\\\\Hai Pyaar Kya Video  Jubin Nautiyal, Kritika Kamra  Rocky - Jubin  Love Song 2019  T-Series.mid', 'C:/Users/DELL/Downloads/mididataset sad songs/mididataset sad songs\\\\Halka Halka Full Video  FANNEY KHAN  Aishwarya Rai Bachchan  Rajkummar Rao  Amit Trivedi.mid', 'C:/Users/DELL/Downloads/mididataset sad songs/mididataset sad songs\\\\HUMNE RAIT PE Song   HUME TUMSE PYAAR KITNA  Tony Kakkar, Neha Kakkar  Karanvir Bohra  Priya B.mid', 'C:/Users/DELL/Downloads/mididataset sad songs/mididataset sad songs\\\\Humsafar (Full Video)   Varun  Alia Bhatt  Akhil Sachdeva  Badrinath Ki Dulhania.mid', 'C:/Users/DELL/Downloads/mididataset sad songs/mididataset sad songs\\\\Ik Vaari Aa  Raabta  Sushant Singh Rajput  Kriti Sanon  Pritam Arijit Singh Amitabh Bhattacharya.mid', 'C:/Users/DELL/Downloads/mididataset sad songs/mididataset sad songs\\\\Ik Vaari Aa Full Song  Raabta  Sushant Singh Rajput  Kriti Sanon  Pritam Arijit Singh Amitabh B.mid', 'C:/Users/DELL/Downloads/mididataset sad songs/mididataset sad songs\\\\Intezaar Title Full Video Song  Tera Intezaar  Arbaaz Khan Sunny Leone  Shreya Ghoshal T-Series.mid', 'C:/Users/DELL/Downloads/mididataset sad songs/mididataset sad songs\\\\Ishquiya Full Song (Video) l Lipstick Under My Burkha  Songs 2017   T-Series.mid', 'C:/Users/DELL/Downloads/mididataset sad songs/mididataset sad songs\\\\Itna Tumhe  Full Video Song   Yaseer Desai  Shashaa Tirupati  Abbas-Mustan  T-Series.mid', 'C:/Users/DELL/Downloads/mididataset sad songs/mididataset sad songs\\\\Itni Si Baat Hain Full Video Song  AZHAR  Emraan Hashmi, Prachi Desai  Arijit Singh, Pritam.mid', 'C:/Users/DELL/Downloads/mididataset sad songs/mididataset sad songs\\\\JAB JAB (Official Music Video) Tanya Singgh, Arhhan Singgh  Jeff Hunt Gittanjali S Bhushan Kumar.mid', 'C:/Users/DELL/Downloads/mididataset sad songs/mididataset sad songs\\\\JAB TAK Full Video  M.S. DHONI -THE UNTOLD STORY  Armaan Malik, Amaal Mallik Sushant Singh Rajput.mid', 'C:/Users/DELL/Downloads/mididataset sad songs/mididataset sad songs\\\\Kali Kali Zulfon Ke (Song) Abhishek Singh,Adah Sharma  Jubin Nautiyal,Rochak K,NFAK  Bhushan K.mid', 'C:/Users/DELL/Downloads/mididataset sad songs/mididataset sad songs\\\\KATTHAI KATTHAI Video  Malaal  Sharmin Segal  Meezaan  Sanjay Leela Bhansali  Shreya Ghoshal.mid', 'C:/Users/DELL/Downloads/mididataset sad songs/mididataset sad songs\\\\Khuda Ka Noor Video  One Day Justice Delivered  Sunidhi Chauhan  Vikrant-Parijat.mid', 'C:/Users/DELL/Downloads/mididataset sad songs/mididataset sad songs\\\\Kinna Sona Video  Marjaavaan  Sidharth M, Tara S  Meet Bros, Kumaar, Jubin N, Dhvani Bhanushali.mid', 'C:/Users/DELL/Downloads/mididataset sad songs/mididataset sad songs\\\\Lag Ja Gale Full Video Song  Bhoomi  Rahat Fateh Ali Khan  Sachin-Jigar  Aditi Rao Hydari.mid', 'C:/Users/DELL/Downloads/mididataset sad songs/mididataset sad songs\\\\LOVE JAMS  THE ULTIMATE VALENTINE MASHUP OF 2024  NON STOP  DJ BASQUE  T-SERIES.mid', 'C:/Users/DELL/Downloads/mididataset sad songs/mididataset sad songs\\\\Luka Chuppi Duniyaa Full Video Song  Kartik Aaryan Kriti Sanon  Akhil  Dhvani B.mid', 'C:/Users/DELL/Downloads/mididataset sad songs/mididataset sad songs\\\\LYRICALDilbara (B Praak Version) Pati Patni Aur Woh Kartik A,Bhumi P,Ananya PSachet  Parampara.mid', 'C:/Users/DELL/Downloads/mididataset sad songs/mididataset sad songs\\\\Main Rahoon Ya Na Rahoon Full Video  Emraan Hashmi, Esha Gupta  Amaal Mallik, Armaan Malik.mid', 'C:/Users/DELL/Downloads/mididataset sad songs/mididataset sad songs\\\\Manmohini Video  HUME TUMSE PYAAR KITNA  Karanvir B  Priya B  Mika Singh, Kanika Kapoor, Ikka.mid', 'C:/Users/DELL/Downloads/mididataset sad songs/mididataset sad songs\\\\Mast Magan FULL Video Song  2 States  Arijit Singh  Arjun Kapoor, Alia Bhatt.mid', 'C:/Users/DELL/Downloads/mididataset sad songs/mididataset sad songs\\\\Mehfooz Reprise Video Song  Tera Intezaar   Arbaaz Khan  Sunny Leone.mid', 'C:/Users/DELL/Downloads/mididataset sad songs/mididataset sad songs\\\\Millind Gaba Zindagi Di Paudi  Bhushan Kumar  Jannat Zubair, Nirmaan, Shabby  Hindi New Song 2019.mid', 'C:/Users/DELL/Downloads/mididataset sad songs/mididataset sad songs\\\\MIRZA (Music Video) Tanishk Bagchi  Shehnaaz Gill  Bhushan Kumar.mid', 'C:/Users/DELL/Downloads/mididataset sad songs/mididataset sad songs\\\\Mohabbat Nasha Hai (FILM VERSION) Hate Story IV Neha Kakkar Tony Kakkar Urvashi Rautela Karan Wahi.mid', 'C:/Users/DELL/Downloads/mididataset sad songs/mididataset sad songs\\\\Muntashir Ki Diary Se Aaoge Jab Tum  Episode 16  Manoj Muntashir   T-Series.mid', 'C:/Users/DELL/Downloads/mididataset sad songs/mididataset sad songs\\\\Neha Kakkar Ring Song  Jatinder Jeetu  Surjit Khairhwala  New Punjabi Song 2017  T-Series.mid', 'C:/Users/DELL/Downloads/mididataset sad songs/mididataset sad songs\\\\NOTEBOOK Main Taare Full Video  Salman Khan  Pranutan Bahl  Zaheer Iqbal  Vishal M  Manoj M.mid', 'C:/Users/DELL/Downloads/mididataset sad songs/mididataset sad songs\\\\Notebook Safar Video  Zaheer Iqbal  Pranutan Bahl  Mohit Chauhan  Vishal Mishra.mid', 'C:/Users/DELL/Downloads/mididataset sad songs/mididataset sad songs\\\\O Saathi Video Song  Baaghi 2  Tiger Shroff  Disha Patani  Arko  Ahmed Khan  Sajid Nadiadwala.mid', 'C:/Users/DELL/Downloads/mididataset sad songs/mididataset sad songs\\\\O Saathiya Full Song  Sweetiee Weds NRI  Himansh Kohli, Zoya Afroz  Armaan Malik, Arko.mid', 'C:/Users/DELL/Downloads/mididataset sad songs/mididataset sad songs\\\\Official Video Harjai Song  Maniesh Paul, Iulia Vantur  Sachin Gupta  Hindi Songs 2018  T-Series.mid', 'C:/Users/DELL/Downloads/mididataset sad songs/mididataset sad songs\\\\Official Video Humnava Mere Song  Jubin Nautiyal  Manoj Muntashir  Rocky - Shiv  Bhushan Kumar.mid', 'C:/Users/DELL/Downloads/mididataset sad songs/mididataset sad songs\\\\Oh Humsafar Song  Neha Kakkar Himansh Kohli  Tony Kakkar  Bhushan Kumar  Manoj Muntashir (1).mid', 'C:/Users/DELL/Downloads/mididataset sad songs/mididataset sad songs\\\\Oh Humsafar Song  Neha Kakkar Himansh Kohli  Tony Kakkar  Bhushan Kumar  Manoj Muntashir.mid', 'C:/Users/DELL/Downloads/mididataset sad songs/mididataset sad songs\\\\Roke Na Ruke Naina Full Video Song  Arijit Singh  Varun, Alia Amaal MallikBadrinath Ki Dulhania.mid', 'C:/Users/DELL/Downloads/mididataset sad songs/mididataset sad songs\\\\Rom Rom Full Video  The Body  Rishi K, Emraan H, Sobhita, Vedhika  Sunny, Shamir T, Sameer A.mid', 'C:/Users/DELL/Downloads/mididataset sad songs/mididataset sad songs\\\\Saansein Video Song  Karwaan  Irrfan Khan, Dulquer Salmaan, Mithila Palkar  Prateek Kuhad (1).mid', 'C:/Users/DELL/Downloads/mididataset sad songs/mididataset sad songs\\\\Saansein Video Song  Karwaan  Irrfan Khan, Dulquer Salmaan, Mithila Palkar  Prateek Kuhad.mid', 'C:/Users/DELL/Downloads/mididataset sad songs/mididataset sad songs\\\\Sanu Ek Pal Chain Video  Raid  Ajay Devgn  Ileana DCruz Tanishk B Rahat Fateh Ali Khan Manoj M.mid', 'C:/Users/DELL/Downloads/mididataset sad songs/mididataset sad songs\\\\SIMMBA Tere Bin  Ranveer Singh, Sara Ali Khan  Tanishk Bagchi, Rahat Fateh Ali Khan, Asees Kaur.mid', 'C:/Users/DELL/Downloads/mididataset sad songs/mididataset sad songs\\\\Soch Na Sake FULL VIDEO SONG  AIRLIFT  Akshay Kumar, Nimrat Kaur  Arijit Singh, Tulsi Kumar.mid', 'C:/Users/DELL/Downloads/mididataset sad songs/mididataset sad songs\\\\Soniye Dil Nayi Full Video  Baaghi 2  Tiger Shroff, Disha Patani  Ankit Tiwari  Shruti Pathak.mid', 'C:/Users/DELL/Downloads/mididataset sad songs/mididataset sad songs\\\\Soniye Dil Nayi Video Song  Baaghi 2  Tiger Shroff  Disha Patani  Ankit Tiwari Shruti Pathak.mid', 'C:/Users/DELL/Downloads/mididataset sad songs/mididataset sad songs\\\\Starfish Bairaage (Full Video) Khushalii Kumar,Tusharr K,Ehan B Sachet-Parampara KumaarBhushan K.mid', 'C:/Users/DELL/Downloads/mididataset sad songs/mididataset sad songs\\\\Sunn Raha Hai Na Tu Aashiqui 2 Full Video Song  Aditya Roy Kapur, Shraddha Kapoor.mid', 'C:/Users/DELL/Downloads/mididataset sad songs/mididataset sad songs\\\\Tera Ban Jaunga (Reprise)  Akhil Sachdeva  T-Series Acoustics  Love Song 2019  T-Series.mid', 'C:/Users/DELL/Downloads/mididataset sad songs/mididataset sad songs\\\\Tera Hua Full Song  Loveyatri  Atif Aslam  Aayush Sharma Warina Hussain Tanishk Bagchi Manoj M.mid', 'C:/Users/DELL/Downloads/mididataset sad songs/mididataset sad songs\\\\Tera Intezaar Khali Khali Dil  Video Song  Sunny Leone  Arbaaz Khan.mid', 'C:/Users/DELL/Downloads/mididataset sad songs/mididataset sad songs\\\\Tera Junoon Full Video Song  Machine  Jubin Nautiyal  Mustafa Kiara Advani Eshan ShankerT-Series.mid', 'C:/Users/DELL/Downloads/mididataset sad songs/mididataset sad songs\\\\Tera Shehar Video  Himansh Kohli, Pia B  Amaal Mallik  Mohd. Kalam  Manoj Muntashir  Shabby.mid', 'C:/Users/DELL/Downloads/mididataset sad songs/mididataset sad songs\\\\Tera Yaar Hoon Main Video  Sonu Ke Titu Ki Sweety  Arijit Singh Rochak Kohli  Song 2018.mid', 'C:/Users/DELL/Downloads/mididataset sad songs/mididataset sad songs\\\\TERE JAISA  T-Series Acoustics  TULSI KUMAR  ARKO  SATYAMEVA JAYATE  Bollywood Songs.mid', 'C:/Users/DELL/Downloads/mididataset sad songs/mididataset sad songs\\\\Tere Sang Full Video  Satellite Shankar  Sooraj, Megha Mithoon Featuring Arijit Singh,Aakanksha S.mid', 'C:/Users/DELL/Downloads/mididataset sad songs/mididataset sad songs\\\\Tere Sang Video  Satellite Shankar  Sooraj, Megha  Mithoon Featuring Arijit Singh Aakanksha S.mid', 'C:/Users/DELL/Downloads/mididataset sad songs/mididataset sad songs\\\\Tu Hi Toh Mera Full Video Song  Machine  Mustafa   Kiara Advani  Yaseer Desai  Tanishk Bagchi.mid', 'C:/Users/DELL/Downloads/mididataset sad songs/mididataset sad songs\\\\TU MILA TO HAINA De De Pyaar De  Ajay Devgn, Rakul  Arijit Singh, Amaal Mallik, Kunaal Vermaa.mid', 'C:/Users/DELL/Downloads/mididataset sad songs/mididataset sad songs\\\\Tujhe Paane Ko Video  Shalin Bhanot,Priyanka Agrawal  Jubin Nautiyal Neeti Mohan Abhijit V Manoj M.mid', 'C:/Users/DELL/Downloads/mididataset sad songs/mididataset sad songs\\\\Tulsi Kumar Ik Yaad Purani Song Feat. Khushali Kumar  New Hindi Song  Jashan Singh, Shaarib Toshi.mid', 'C:/Users/DELL/Downloads/mididataset sad songs/mididataset sad songs\\\\Tum Hi Aana Full Video  Marjaavaan  Riteish D, Sidharth M, Tara S  Jubin N  Payal Dev Kunaal V (1).mid', 'C:/Users/DELL/Downloads/mididataset sad songs/mididataset sad songs\\\\Tum Hi Aana Full Video  Marjaavaan  Riteish D, Sidharth M, Tara S  Jubin N  Payal Dev Kunaal V.mid', 'C:/Users/DELL/Downloads/mididataset sad songs/mididataset sad songs\\\\ZERO Mere Naam Tu Full Song  Shah Rukh Khan, Anushka Sharma, Katrina Kaif  Ajay-Atul T-Series.mid']\n"
          ]
        }
      ],
      "source": [
        "import glob\n",
        "import os\n",
        "\n",
        "# Specify the directory path where your MIDI files are located\n",
        "directory_path = r'C:/Users/DELL/Downloads/mididataset sad songs/mididataset sad songs/'\n",
        "\n",
        "# Use os.path.join to handle paths with spaces and special characters\n",
        "pattern = os.path.join(directory_path, '*.mid*')\n",
        "\n",
        "# Use the specified directory path with glob.glob to find MIDI files\n",
        "filenames = glob.glob(pattern)\n",
        "\n",
        "# Print the number of files found\n",
        "print('Number of files:', len(filenames))\n",
        "\n",
        "# Print the filenames for verification\n",
        "print('Files:', filenames)\n"
      ]
    },
    {
      "cell_type": "code",
      "execution_count": 14,
      "metadata": {
        "colab": {
          "base_uri": "https://localhost:8080/"
        },
        "id": "hxY_HL40XbAb",
        "outputId": "3e2f2cae-b0af-4923-a07b-f24f91acbf6b"
      },
      "outputs": [
        {
          "name": "stdout",
          "output_type": "stream",
          "text": [
            "C:/Users/DELL/Downloads/mididataset sad songs/mididataset sad songs\\Abhagi Piya Ki Video Song  Tera Intezaar  Arbaaz Khan  Sunny Leone  Kanika Kapoor   T-Series.mid\n"
          ]
        }
      ],
      "source": [
        "sample_file = filenames[1]\n",
        "print(sample_file)"
      ]
    },
    {
      "cell_type": "markdown",
      "metadata": {
        "id": "LoNXC6QB4QLO"
      },
      "source": []
    },
    {
      "cell_type": "code",
      "execution_count": 15,
      "metadata": {
        "id": "0lBZG9uBXsiy"
      },
      "outputs": [],
      "source": [
        "pmc = pretty_midi.PrettyMIDI(sample_file)"
      ]
    },
    {
      "cell_type": "markdown",
      "metadata": {
        "id": "OOY8qn4C4RHK"
      },
      "source": [
        "the above library return the synthesized output means it will calculate all the stuff and return the data"
      ]
    },
    {
      "cell_type": "code",
      "execution_count": 17,
      "metadata": {
        "id": "9dEJKnuAXvoH"
      },
      "outputs": [],
      "source": [
        "def display_audio(pm: pretty_midi.PrettyMIDI, seconds=60):\n",
        "  waveform = pm.fluidsynth(fs=_SAMPLING_RATE)\n",
        "  # Take a sample of the generated waveform to mitigate kernel resets\n",
        "  waveform_short = waveform[:seconds*_SAMPLING_RATE]\n",
        "  return display.Audio(waveform_short, rate=_SAMPLING_RATE)"
      ]
    },
    {
      "cell_type": "code",
      "execution_count": 21,
      "metadata": {},
      "outputs": [
        {
          "name": "stdout",
          "output_type": "stream",
          "text": [
            "^C\n",
            "Note: you may need to restart the kernel to use updated packages.\n"
          ]
        }
      ],
      "source": [
        "# %pip uninstall fluidsynth"
      ]
    },
    {
      "cell_type": "code",
      "execution_count": 18,
      "metadata": {
        "colab": {
          "base_uri": "https://localhost:8080/",
          "height": 75
        },
        "id": "EMH4K5w2X2QB",
        "outputId": "84630990-2fda-4473-8ec5-5164e76ffcf8"
      },
      "outputs": [
        {
          "ename": "AttributeError",
          "evalue": "module 'fluidsynth' has no attribute 'Synth'",
          "output_type": "error",
          "traceback": [
            "\u001b[1;31m---------------------------------------------------------------------------\u001b[0m",
            "\u001b[1;31mAttributeError\u001b[0m                            Traceback (most recent call last)",
            "Cell \u001b[1;32mIn[18], line 1\u001b[0m\n\u001b[1;32m----> 1\u001b[0m \u001b[43mdisplay_audio\u001b[49m\u001b[43m(\u001b[49m\u001b[43mpmc\u001b[49m\u001b[43m)\u001b[49m\n",
            "Cell \u001b[1;32mIn[17], line 2\u001b[0m, in \u001b[0;36mdisplay_audio\u001b[1;34m(pm, seconds)\u001b[0m\n\u001b[0;32m      1\u001b[0m \u001b[38;5;28;01mdef\u001b[39;00m \u001b[38;5;21mdisplay_audio\u001b[39m(pm: pretty_midi\u001b[38;5;241m.\u001b[39mPrettyMIDI, seconds\u001b[38;5;241m=\u001b[39m\u001b[38;5;241m60\u001b[39m):\n\u001b[1;32m----> 2\u001b[0m   waveform \u001b[38;5;241m=\u001b[39m \u001b[43mpm\u001b[49m\u001b[38;5;241;43m.\u001b[39;49m\u001b[43mfluidsynth\u001b[49m\u001b[43m(\u001b[49m\u001b[43mfs\u001b[49m\u001b[38;5;241;43m=\u001b[39;49m\u001b[43m_SAMPLING_RATE\u001b[49m\u001b[43m)\u001b[49m\n\u001b[0;32m      3\u001b[0m   \u001b[38;5;66;03m# Take a sample of the generated waveform to mitigate kernel resets\u001b[39;00m\n\u001b[0;32m      4\u001b[0m   waveform_short \u001b[38;5;241m=\u001b[39m waveform[:seconds\u001b[38;5;241m*\u001b[39m_SAMPLING_RATE]\n",
            "File \u001b[1;32mc:\\Users\\DELL\\AppData\\Local\\Programs\\Python\\Python311\\Lib\\site-packages\\pretty_midi\\pretty_midi.py:974\u001b[0m, in \u001b[0;36mPrettyMIDI.fluidsynth\u001b[1;34m(self, fs, sf2_path)\u001b[0m\n\u001b[0;32m    972\u001b[0m     \u001b[38;5;28;01mreturn\u001b[39;00m np\u001b[38;5;241m.\u001b[39marray([])\n\u001b[0;32m    973\u001b[0m \u001b[38;5;66;03m# Get synthesized waveform for each instrument\u001b[39;00m\n\u001b[1;32m--> 974\u001b[0m waveforms \u001b[38;5;241m=\u001b[39m \u001b[43m[\u001b[49m\u001b[43mi\u001b[49m\u001b[38;5;241;43m.\u001b[39;49m\u001b[43mfluidsynth\u001b[49m\u001b[43m(\u001b[49m\u001b[43mfs\u001b[49m\u001b[38;5;241;43m=\u001b[39;49m\u001b[43mfs\u001b[49m\u001b[43m,\u001b[49m\n\u001b[0;32m    975\u001b[0m \u001b[43m                          \u001b[49m\u001b[43msf2_path\u001b[49m\u001b[38;5;241;43m=\u001b[39;49m\u001b[43msf2_path\u001b[49m\u001b[43m)\u001b[49m\u001b[43m \u001b[49m\u001b[38;5;28;43;01mfor\u001b[39;49;00m\u001b[43m \u001b[49m\u001b[43mi\u001b[49m\u001b[43m \u001b[49m\u001b[38;5;129;43;01min\u001b[39;49;00m\u001b[43m \u001b[49m\u001b[38;5;28;43mself\u001b[39;49m\u001b[38;5;241;43m.\u001b[39;49m\u001b[43minstruments\u001b[49m\u001b[43m]\u001b[49m\n\u001b[0;32m    976\u001b[0m \u001b[38;5;66;03m# Allocate output waveform, with #sample = max length of all waveforms\u001b[39;00m\n\u001b[0;32m    977\u001b[0m synthesized \u001b[38;5;241m=\u001b[39m np\u001b[38;5;241m.\u001b[39mzeros(np\u001b[38;5;241m.\u001b[39mmax([w\u001b[38;5;241m.\u001b[39mshape[\u001b[38;5;241m0\u001b[39m] \u001b[38;5;28;01mfor\u001b[39;00m w \u001b[38;5;129;01min\u001b[39;00m waveforms]))\n",
            "File \u001b[1;32mc:\\Users\\DELL\\AppData\\Local\\Programs\\Python\\Python311\\Lib\\site-packages\\pretty_midi\\pretty_midi.py:974\u001b[0m, in \u001b[0;36m<listcomp>\u001b[1;34m(.0)\u001b[0m\n\u001b[0;32m    972\u001b[0m     \u001b[38;5;28;01mreturn\u001b[39;00m np\u001b[38;5;241m.\u001b[39marray([])\n\u001b[0;32m    973\u001b[0m \u001b[38;5;66;03m# Get synthesized waveform for each instrument\u001b[39;00m\n\u001b[1;32m--> 974\u001b[0m waveforms \u001b[38;5;241m=\u001b[39m [\u001b[43mi\u001b[49m\u001b[38;5;241;43m.\u001b[39;49m\u001b[43mfluidsynth\u001b[49m\u001b[43m(\u001b[49m\u001b[43mfs\u001b[49m\u001b[38;5;241;43m=\u001b[39;49m\u001b[43mfs\u001b[49m\u001b[43m,\u001b[49m\n\u001b[0;32m    975\u001b[0m \u001b[43m                          \u001b[49m\u001b[43msf2_path\u001b[49m\u001b[38;5;241;43m=\u001b[39;49m\u001b[43msf2_path\u001b[49m\u001b[43m)\u001b[49m \u001b[38;5;28;01mfor\u001b[39;00m i \u001b[38;5;129;01min\u001b[39;00m \u001b[38;5;28mself\u001b[39m\u001b[38;5;241m.\u001b[39minstruments]\n\u001b[0;32m    976\u001b[0m \u001b[38;5;66;03m# Allocate output waveform, with #sample = max length of all waveforms\u001b[39;00m\n\u001b[0;32m    977\u001b[0m synthesized \u001b[38;5;241m=\u001b[39m np\u001b[38;5;241m.\u001b[39mzeros(np\u001b[38;5;241m.\u001b[39mmax([w\u001b[38;5;241m.\u001b[39mshape[\u001b[38;5;241m0\u001b[39m] \u001b[38;5;28;01mfor\u001b[39;00m w \u001b[38;5;129;01min\u001b[39;00m waveforms]))\n",
            "File \u001b[1;32mc:\\Users\\DELL\\AppData\\Local\\Programs\\Python\\Python311\\Lib\\site-packages\\pretty_midi\\instrument.py:468\u001b[0m, in \u001b[0;36mInstrument.fluidsynth\u001b[1;34m(self, fs, sf2_path)\u001b[0m\n\u001b[0;32m    465\u001b[0m     \u001b[38;5;28;01mreturn\u001b[39;00m np\u001b[38;5;241m.\u001b[39marray([])\n\u001b[0;32m    467\u001b[0m \u001b[38;5;66;03m# Create fluidsynth instance\u001b[39;00m\n\u001b[1;32m--> 468\u001b[0m fl \u001b[38;5;241m=\u001b[39m \u001b[43mfluidsynth\u001b[49m\u001b[38;5;241;43m.\u001b[39;49m\u001b[43mSynth\u001b[49m(samplerate\u001b[38;5;241m=\u001b[39mfs)\n\u001b[0;32m    469\u001b[0m \u001b[38;5;66;03m# Load in the soundfont\u001b[39;00m\n\u001b[0;32m    470\u001b[0m sfid \u001b[38;5;241m=\u001b[39m fl\u001b[38;5;241m.\u001b[39msfload(sf2_path)\n",
            "\u001b[1;31mAttributeError\u001b[0m: module 'fluidsynth' has no attribute 'Synth'"
          ]
        }
      ],
      "source": [
        "display_audio(pmc)"
      ]
    },
    {
      "cell_type": "code",
      "execution_count": 19,
      "metadata": {
        "colab": {
          "base_uri": "https://localhost:8080/"
        },
        "id": "Cc4KuNtwX48f",
        "outputId": "6ee4e722-1099-4678-d253-79dbc04e2839"
      },
      "outputs": [
        {
          "name": "stdout",
          "output_type": "stream",
          "text": [
            "Instrument name: Acoustic Grand Piano\n"
          ]
        }
      ],
      "source": [
        "# print('Number of instruments:', len(pmc.instruments))\n",
        "instrument = pmc.instruments[0]\n",
        "instrument_name = pretty_midi.program_to_instrument_name(instrument.program)\n",
        "print('Instrument name:', instrument_name)"
      ]
    },
    {
      "cell_type": "markdown",
      "metadata": {
        "id": "ha3-VP5f59s2"
      },
      "source": [
        "Imp cell"
      ]
    },
    {
      "cell_type": "code",
      "execution_count": 20,
      "metadata": {
        "colab": {
          "base_uri": "https://localhost:8080/"
        },
        "id": "XHFrfUVqYIzm",
        "outputId": "b58e5b43-3354-40cf-b7f2-ef2117d851fb"
      },
      "outputs": [
        {
          "name": "stdout",
          "output_type": "stream",
          "text": [
            "0: pitch=61, note_name=C#4, duration=0.1522\n",
            "1: pitch=61, note_name=C#4, duration=0.0435\n",
            "2: pitch=68, note_name=G#4, duration=0.0978\n",
            "3: pitch=73, note_name=C#5, duration=0.2391\n",
            "4: pitch=41, note_name=F2, duration=0.0217\n",
            "5: pitch=65, note_name=F4, duration=0.0326\n",
            "6: pitch=103, note_name=G7, duration=0.0326\n",
            "7: pitch=66, note_name=F#4, duration=0.0109\n",
            "8: pitch=80, note_name=G#5, duration=0.0326\n",
            "9: pitch=58, note_name=A#3, duration=0.0217\n"
          ]
        }
      ],
      "source": [
        "for i, note in enumerate(instrument.notes[:10]):\n",
        "  note_name = pretty_midi.note_number_to_name(note.pitch)\n",
        "  duration = note.end - note.start\n",
        "  print(f'{i}: pitch={note.pitch}, note_name={note_name},'\n",
        "        f' duration={duration:.4f}')"
      ]
    },
    {
      "cell_type": "code",
      "execution_count": null,
      "metadata": {
        "id": "cMlrj9rc9d5S"
      },
      "outputs": [],
      "source": [
        "# from google.colab import auth\n",
        "# auth.authenticate_user()\n",
        "\n",
        "\n",
        "# from google.colab import drive\n",
        "# drive.mount('/content/dataset')"
      ]
    },
    {
      "cell_type": "code",
      "execution_count": 22,
      "metadata": {
        "id": "qchj5rQMYUv9"
      },
      "outputs": [],
      "source": [
        "def midi_to_notes(midi_file: str) -> pd.DataFrame:\n",
        "  pm = pretty_midi.PrettyMIDI(midi_file)  #the main this pretty midi is doing giving all the data\n",
        "  instrument = pm.instruments[0]\n",
        "  notes = collections.defaultdict(list)\n",
        "\n",
        "  # Sort the notes by start time\n",
        "  sorted_notes = sorted(instrument.notes, key=lambda note: note.start)\n",
        "  prev_start = sorted_notes[0].start\n",
        "\n",
        "  for note in sorted_notes:\n",
        "    start = note.start\n",
        "    end = note.end\n",
        "    notes['pitch'].append(note.pitch)\n",
        "    notes['start'].append(start)\n",
        "    notes['end'].append(end)\n",
        "    notes['step'].append(start - prev_start)\n",
        "    notes['duration'].append(end - start)\n",
        "    prev_start = start\n",
        "\n",
        "  return pd.DataFrame({name: np.array(value) for name, value in notes.items()})"
      ]
    },
    {
      "cell_type": "markdown",
      "metadata": {
        "id": "77LDdix961-N"
      },
      "source": [
        "The above function we convert the midi to notes imp"
      ]
    },
    {
      "cell_type": "markdown",
      "metadata": {
        "id": "wBV_MVrHiRtv"
      },
      "source": [
        "Here the raw notes is the dataset variable name"
      ]
    },
    {
      "cell_type": "code",
      "execution_count": 24,
      "metadata": {
        "colab": {
          "base_uri": "https://localhost:8080/",
          "height": 206
        },
        "id": "F-hRIli7YjNy",
        "outputId": "65f2c5d7-85f8-43eb-a3d5-4931b04a8cdf"
      },
      "outputs": [
        {
          "data": {
            "text/html": [
              "<div>\n",
              "<style scoped>\n",
              "    .dataframe tbody tr th:only-of-type {\n",
              "        vertical-align: middle;\n",
              "    }\n",
              "\n",
              "    .dataframe tbody tr th {\n",
              "        vertical-align: top;\n",
              "    }\n",
              "\n",
              "    .dataframe thead th {\n",
              "        text-align: right;\n",
              "    }\n",
              "</style>\n",
              "<table border=\"1\" class=\"dataframe\">\n",
              "  <thead>\n",
              "    <tr style=\"text-align: right;\">\n",
              "      <th></th>\n",
              "      <th>pitch</th>\n",
              "      <th>start</th>\n",
              "      <th>end</th>\n",
              "      <th>step</th>\n",
              "      <th>duration</th>\n",
              "    </tr>\n",
              "  </thead>\n",
              "  <tbody>\n",
              "    <tr>\n",
              "      <th>0</th>\n",
              "      <td>47</td>\n",
              "      <td>0.000000</td>\n",
              "      <td>0.086957</td>\n",
              "      <td>0.000000</td>\n",
              "      <td>0.086957</td>\n",
              "    </tr>\n",
              "    <tr>\n",
              "      <th>1</th>\n",
              "      <td>66</td>\n",
              "      <td>0.000000</td>\n",
              "      <td>0.293478</td>\n",
              "      <td>0.000000</td>\n",
              "      <td>0.293478</td>\n",
              "    </tr>\n",
              "    <tr>\n",
              "      <th>2</th>\n",
              "      <td>47</td>\n",
              "      <td>0.097826</td>\n",
              "      <td>0.358696</td>\n",
              "      <td>0.097826</td>\n",
              "      <td>0.260870</td>\n",
              "    </tr>\n",
              "    <tr>\n",
              "      <th>3</th>\n",
              "      <td>66</td>\n",
              "      <td>0.326087</td>\n",
              "      <td>0.467391</td>\n",
              "      <td>0.228261</td>\n",
              "      <td>0.141304</td>\n",
              "    </tr>\n",
              "    <tr>\n",
              "      <th>4</th>\n",
              "      <td>47</td>\n",
              "      <td>0.369565</td>\n",
              "      <td>0.804348</td>\n",
              "      <td>0.043478</td>\n",
              "      <td>0.434783</td>\n",
              "    </tr>\n",
              "  </tbody>\n",
              "</table>\n",
              "</div>"
            ],
            "text/plain": [
              "   pitch     start       end      step  duration\n",
              "0     47  0.000000  0.086957  0.000000  0.086957\n",
              "1     66  0.000000  0.293478  0.000000  0.293478\n",
              "2     47  0.097826  0.358696  0.097826  0.260870\n",
              "3     66  0.326087  0.467391  0.228261  0.141304\n",
              "4     47  0.369565  0.804348  0.043478  0.434783"
            ]
          },
          "execution_count": 24,
          "metadata": {},
          "output_type": "execute_result"
        }
      ],
      "source": [
        "raw_notes = midi_to_notes(\"C:/Users/DELL/Downloads/mididataset sad songs/mididataset sad songs/AGAR TUM SAATH HO Full VIDEO song  Tamasha  Ranbir Kapoor, Deepika Padukone  T-Series.mid\")  #this sample file was declared before\n",
        "raw_notes.head()"
      ]
    },
    {
      "cell_type": "code",
      "execution_count": 25,
      "metadata": {
        "colab": {
          "base_uri": "https://localhost:8080/"
        },
        "id": "BwYwFAzOYodQ",
        "outputId": "56101edc-565e-4af6-c3ed-6b4670c30538"
      },
      "outputs": [
        {
          "data": {
            "text/plain": [
              "array(['B2', 'F#4', 'B2', 'F#4', 'B2', 'A4', 'A4', 'A#2', 'A4', 'A4'],\n",
              "      dtype='<U3')"
            ]
          },
          "execution_count": 25,
          "metadata": {},
          "output_type": "execute_result"
        }
      ],
      "source": [
        "get_note_names = np.vectorize(pretty_midi.note_number_to_name)\n",
        "sample_note_names = get_note_names(raw_notes['pitch'])\n",
        "sample_note_names[:10]"
      ]
    },
    {
      "cell_type": "markdown",
      "metadata": {
        "id": "8DE-99ABiBqn"
      },
      "source": [
        "plot_piano_roll function plots graph on base pitch and time in notes"
      ]
    },
    {
      "cell_type": "code",
      "execution_count": 27,
      "metadata": {
        "id": "nS2AUqrdY4lu"
      },
      "outputs": [],
      "source": [
        "def plot_piano_roll(notes: pd.DataFrame, count: Optional[int] = None):\n",
        "  if count:\n",
        "    title = f'First {count} notes'\n",
        "  else:\n",
        "    title = f'Whole track'\n",
        "    count = len(notes['pitch'])\n",
        "  plt.figure(figsize=(20, 4))\n",
        "  plot_pitch = np.stack([notes['pitch'], notes['pitch']], axis=0)\n",
        "  plot_start_stop = np.stack([notes['start'], notes['end']], axis=0)\n",
        "  plt.plot(                       # this is mathplot library\n",
        "      plot_start_stop[:, :count], plot_pitch[:, :count], color=\"b\", marker=\".\")\n",
        "  plt.xlabel('Time [s]')\n",
        "  plt.ylabel('Pitch')\n",
        "  _ = plt.title(title)"
      ]
    },
    {
      "cell_type": "code",
      "execution_count": null,
      "metadata": {
        "id": "szaeL3xAY8fg"
      },
      "outputs": [],
      "source": [
        "# plot_piano_roll(raw_notes, count=100)   #this is print the first 100 notes"
      ]
    },
    {
      "cell_type": "code",
      "execution_count": null,
      "metadata": {
        "id": "IerqQuDsZFh-"
      },
      "outputs": [],
      "source": [
        "# plot_piano_roll(raw_notes)    #this will print the notes of whole song"
      ]
    },
    {
      "cell_type": "code",
      "execution_count": 28,
      "metadata": {
        "id": "yS264K9rZLOm"
      },
      "outputs": [],
      "source": [
        "def plot_distributions(notes: pd.DataFrame, drop_percentile=2.5):\n",
        "  plt.figure(figsize=[15, 5])\n",
        "  plt.subplot(1, 3, 1)\n",
        "  sns.histplot(notes, x=\"pitch\", bins=20)\n",
        "\n",
        "  plt.subplot(1, 3, 2)\n",
        "  max_step = np.percentile(notes['step'], 100 - drop_percentile)\n",
        "  sns.histplot(notes, x=\"step\", bins=np.linspace(0, max_step, 21))\n",
        "\n",
        "  plt.subplot(1, 3, 3)\n",
        "  max_duration = np.percentile(notes['duration'], 100 - drop_percentile)\n",
        "  sns.histplot(notes, x=\"duration\", bins=np.linspace(0, max_duration, 21))"
      ]
    },
    {
      "cell_type": "code",
      "execution_count": null,
      "metadata": {
        "id": "FcN-aSz3ZW4X"
      },
      "outputs": [],
      "source": [
        "# plot_distributions(raw_notes)"
      ]
    },
    {
      "cell_type": "markdown",
      "metadata": {
        "id": "96dz7TEO9yFI"
      },
      "source": [
        "Here we again we are converting notes to midi"
      ]
    },
    {
      "cell_type": "code",
      "execution_count": null,
      "metadata": {
        "id": "F9TQ5-TJZZUj"
      },
      "outputs": [],
      "source": [
        "# def notes_to_midi(\n",
        "#   notes: pd.DataFrame,\n",
        "#   out_file: str,\n",
        "#   instrument_name: str,\n",
        "#   velocity: int = 100,  # note loudness\n",
        "# ) -> pretty_midi.PrettyMIDI:\n",
        "\n",
        "#   pm = pretty_midi.PrettyMIDI()\n",
        "#   instrument = pretty_midi.Instrument(\n",
        "#       program=pretty_midi.instrument_name_to_program(     # again the pretty midi is converting the notes to midi\n",
        "#           instrument_name))\n",
        "\n",
        "#   prev_start = 0\n",
        "#   for i, note in notes.iterrows():\n",
        "#     start = float(prev_start + note['step'])\n",
        "#     end = float(start + note['duration'])\n",
        "#     note = pretty_midi.Note(\n",
        "#         velocity=velocity,\n",
        "#         pitch=int(note['pitch']),\n",
        "#         start=start,\n",
        "#         end=end,\n",
        "#     )\n",
        "#     instrument.notes.append(note)\n",
        "#     prev_start = start\n",
        "\n",
        "#   pm.instruments.append(instrument)\n",
        "#   pm.write(out_file)\n",
        "#   return pm"
      ]
    },
    {
      "cell_type": "code",
      "execution_count": 29,
      "metadata": {
        "id": "gVCBX4RbWCIt"
      },
      "outputs": [],
      "source": [
        "def notes_to_midi(\n",
        "  notes: pd.DataFrame,\n",
        "  out_file: str,\n",
        "  instrument_name: str,\n",
        "  velocity: int = 100,  # note loudness\n",
        ") -> pretty_midi.PrettyMIDI:\n",
        "\n",
        "  pm = pretty_midi.PrettyMIDI()\n",
        "  instrument = pretty_midi.Instrument(\n",
        "      program=pretty_midi.instrument_name_to_program(     # again the pretty midi is converting the notes to midi\n",
        "          instrument_name))\n",
        "\n",
        "  prev_start = 0\n",
        "  for i, note in notes.iterrows():\n",
        "    start = float(note['step'])\n",
        "    end = float(note['duration'])\n",
        "    note = pretty_midi.Note(\n",
        "        velocity=velocity,\n",
        "        pitch=int(note['pitch']),\n",
        "        start=start,\n",
        "        end=end,\n",
        "    )\n",
        "    instrument.notes.append(note)\n",
        "    prev_start = end\n",
        "\n",
        "  pm.instruments.append(instrument)\n",
        "  pm.write(out_file)\n",
        "  return pm"
      ]
    },
    {
      "cell_type": "code",
      "execution_count": null,
      "metadata": {
        "id": "NHaNlM63ZeyH"
      },
      "outputs": [],
      "source": [
        "# example_file = 'example.midi'\n",
        "# example_pm = notes_to_midi(\n",
        "#     raw_notes, out_file=example_file, instrument_name=instrument_name)"
      ]
    },
    {
      "cell_type": "code",
      "execution_count": null,
      "metadata": {
        "id": "CYanOa93ZlPZ"
      },
      "outputs": [],
      "source": [
        "# display_audio(example_pm)"
      ]
    },
    {
      "cell_type": "markdown",
      "metadata": {
        "id": "8oJmSSGPjnCd"
      },
      "source": [
        "Creating data set 5"
      ]
    },
    {
      "cell_type": "code",
      "execution_count": 32,
      "metadata": {
        "id": "cVS4v--3ZuW5"
      },
      "outputs": [
        {
          "name": "stdout",
          "output_type": "stream",
          "text": [
            "1\n",
            "1\n",
            "1\n",
            "1\n",
            "1\n",
            "1\n",
            "1\n",
            "1\n",
            "1\n",
            "1\n"
          ]
        }
      ],
      "source": [
        "num_files = 10\n",
        "all_notes = []\n",
        "for f in filenames[:num_files]:\n",
        "  print(\"1\")\n",
        "  notes = midi_to_notes(f)         #notes of 5 files\n",
        "  all_notes.append(notes)\n",
        "\n",
        "all_notes = pd.concat(all_notes)"
      ]
    },
    {
      "cell_type": "code",
      "execution_count": 33,
      "metadata": {
        "colab": {
          "base_uri": "https://localhost:8080/"
        },
        "id": "t_RK6O5VJM9j",
        "outputId": "b5fb59b2-7c57-49be-8245-fcb7c231d789"
      },
      "outputs": [
        {
          "data": {
            "text/plain": [
              "242631"
            ]
          },
          "execution_count": 33,
          "metadata": {},
          "output_type": "execute_result"
        }
      ],
      "source": [
        "len(all_notes)"
      ]
    },
    {
      "cell_type": "code",
      "execution_count": 34,
      "metadata": {
        "colab": {
          "base_uri": "https://localhost:8080/"
        },
        "id": "TC5t-tEVpFlt",
        "outputId": "dce32c95-99ce-47b6-8da6-27de326c1a92"
      },
      "outputs": [
        {
          "ename": "FileNotFoundError",
          "evalue": "[WinError 3] The system cannot find the path specified: '/content'",
          "output_type": "error",
          "traceback": [
            "\u001b[1;31m---------------------------------------------------------------------------\u001b[0m",
            "\u001b[1;31mFileNotFoundError\u001b[0m                         Traceback (most recent call last)",
            "Cell \u001b[1;32mIn[34], line 5\u001b[0m\n\u001b[0;32m      2\u001b[0m \u001b[38;5;28;01mimport\u001b[39;00m \u001b[38;5;21;01mpandas\u001b[39;00m \u001b[38;5;28;01mas\u001b[39;00m \u001b[38;5;21;01mpd\u001b[39;00m\n\u001b[0;32m      4\u001b[0m \u001b[38;5;66;03m# Assuming filenames is a list containing the MIDI file paths in Colab content\u001b[39;00m\n\u001b[1;32m----> 5\u001b[0m filenames \u001b[38;5;241m=\u001b[39m [os\u001b[38;5;241m.\u001b[39mpath\u001b[38;5;241m.\u001b[39mjoin(\u001b[38;5;124m'\u001b[39m\u001b[38;5;124m/content\u001b[39m\u001b[38;5;124m'\u001b[39m, filename) \u001b[38;5;28;01mfor\u001b[39;00m filename \u001b[38;5;129;01min\u001b[39;00m \u001b[43mos\u001b[49m\u001b[38;5;241;43m.\u001b[39;49m\u001b[43mlistdir\u001b[49m\u001b[43m(\u001b[49m\u001b[38;5;124;43m'\u001b[39;49m\u001b[38;5;124;43m/content\u001b[39;49m\u001b[38;5;124;43m'\u001b[39;49m\u001b[43m)\u001b[49m \u001b[38;5;28;01mif\u001b[39;00m filename\u001b[38;5;241m.\u001b[39mendswith(\u001b[38;5;124m'\u001b[39m\u001b[38;5;124m.MID\u001b[39m\u001b[38;5;124m'\u001b[39m) \u001b[38;5;129;01mor\u001b[39;00m filename\u001b[38;5;241m.\u001b[39mendswith(\u001b[38;5;124m'\u001b[39m\u001b[38;5;124m.mid\u001b[39m\u001b[38;5;124m'\u001b[39m)]\n\u001b[0;32m      7\u001b[0m num_files \u001b[38;5;241m=\u001b[39m \u001b[38;5;241m10\u001b[39m\n\u001b[0;32m      8\u001b[0m all_notes \u001b[38;5;241m=\u001b[39m []\n",
            "\u001b[1;31mFileNotFoundError\u001b[0m: [WinError 3] The system cannot find the path specified: '/content'"
          ]
        }
      ],
      "source": [
        "import os\n",
        "import pandas as pd\n",
        "\n",
        "# Assuming filenames is a list containing the MIDI file paths in Colab content\n",
        "filenames = [os.path.join('/content', filename) for filename in os.listdir('/content') if filename.endswith('.MID') or filename.endswith('.mid')]\n",
        "\n",
        "num_files = 10\n",
        "all_notes = []\n",
        "\n",
        "for f in filenames[:num_files]:\n",
        "    print(f)\n",
        "    notes = midi_to_notes(f)\n",
        "    all_notes.append(notes)\n",
        "\n",
        "all_notes = pd.concat(all_notes)\n"
      ]
    },
    {
      "cell_type": "code",
      "execution_count": 35,
      "metadata": {
        "colab": {
          "base_uri": "https://localhost:8080/"
        },
        "id": "0OGDShxsaGe3",
        "outputId": "ad12b405-0b5a-44cd-dab2-b3238cb242f0"
      },
      "outputs": [
        {
          "name": "stdout",
          "output_type": "stream",
          "text": [
            "Number of notes parsed: 242631\n"
          ]
        }
      ],
      "source": [
        "n_notes = len(all_notes)\n",
        "print('Number of notes parsed:', n_notes)"
      ]
    },
    {
      "cell_type": "code",
      "execution_count": 36,
      "metadata": {
        "id": "OLQ8RoftaXAt"
      },
      "outputs": [],
      "source": [
        "key_order = ['pitch', 'step', 'duration']\n",
        "train_notes = np.stack([all_notes[key] for key in key_order], axis=1)"
      ]
    },
    {
      "cell_type": "code",
      "execution_count": 37,
      "metadata": {
        "colab": {
          "base_uri": "https://localhost:8080/"
        },
        "id": "bv79mKVbabDC",
        "outputId": "2dde4361-ee7e-4d13-ffa1-757cdb20c2bf"
      },
      "outputs": [
        {
          "data": {
            "text/plain": [
              "TensorSpec(shape=(3,), dtype=tf.float64, name=None)"
            ]
          },
          "execution_count": 37,
          "metadata": {},
          "output_type": "execute_result"
        }
      ],
      "source": [
        "notes_ds = tf.data.Dataset.from_tensor_slices(train_notes)  #here it is making notes dataset\n",
        "notes_ds.element_spec"
      ]
    },
    {
      "cell_type": "code",
      "execution_count": 38,
      "metadata": {
        "id": "-WqjbdNmagEM"
      },
      "outputs": [],
      "source": [
        "def create_sequences(\n",
        "    dataset: tf.data.Dataset,\n",
        "    seq_length: int,\n",
        "    vocab_size = 128,\n",
        ") -> tf.data.Dataset:\n",
        "  \"\"\"Returns TF Dataset of sequence and label examples.\"\"\"\n",
        "  seq_length = seq_length+1\n",
        "\n",
        "  # Take 1 extra for the labels\n",
        "  windows = dataset.window(seq_length, shift=1, stride=1,\n",
        "                              drop_remainder=True)\n",
        "\n",
        "  # `flat_map` flattens the\" dataset of datasets\" into a dataset of tensors\n",
        "  flatten = lambda x: x.batch(seq_length, drop_remainder=True)\n",
        "  sequences = windows.flat_map(flatten)\n",
        "\n",
        "  # Normalize note pitch\n",
        "  def scale_pitch(x):\n",
        "    x = x/[vocab_size,3.0,4.0]\n",
        "    return x\n",
        "\n",
        "  # Split the labels\n",
        "  def split_labels(sequences):\n",
        "    inputs = sequences[:-1]\n",
        "    labels_dense = sequences[-1]\n",
        "    labels = {key:labels_dense[i] for i,key in enumerate(key_order)}\n",
        "\n",
        "    return scale_pitch(inputs), labels\n",
        "\n",
        "  return sequences.map(split_labels, num_parallel_calls=tf.data.AUTOTUNE)"
      ]
    },
    {
      "cell_type": "code",
      "execution_count": 39,
      "metadata": {
        "colab": {
          "base_uri": "https://localhost:8080/"
        },
        "id": "GDH4egtpasn3",
        "outputId": "5eedfa59-e291-40f6-b55c-8981a75da7f9"
      },
      "outputs": [
        {
          "data": {
            "text/plain": [
              "(TensorSpec(shape=(1, 3), dtype=tf.float64, name=None),\n",
              " {'pitch': TensorSpec(shape=(), dtype=tf.float64, name=None),\n",
              "  'step': TensorSpec(shape=(), dtype=tf.float64, name=None),\n",
              "  'duration': TensorSpec(shape=(), dtype=tf.float64, name=None)})"
            ]
          },
          "execution_count": 39,
          "metadata": {},
          "output_type": "execute_result"
        }
      ],
      "source": [
        "seq_length = 1\n",
        "vocab_size = 256\n",
        "seq_ds = create_sequences(notes_ds, seq_length, vocab_size)\n",
        "seq_ds.element_spec"
      ]
    },
    {
      "cell_type": "code",
      "execution_count": 40,
      "metadata": {
        "colab": {
          "base_uri": "https://localhost:8080/"
        },
        "id": "z7KVUb1ZbIdd",
        "outputId": "bd698d47-7c0f-4a08-ceec-8f63c5be2227"
      },
      "outputs": [
        {
          "name": "stdout",
          "output_type": "stream",
          "text": [
            "sequence shape: (1, 3)\n",
            "sequence elements (first 10): tf.Tensor([[0.23828125 0.         0.0326087 ]], shape=(1, 3), dtype=float64)\n",
            "\n",
            "target: {'pitch': <tf.Tensor: shape=(), dtype=float64, numpy=97.0>, 'step': <tf.Tensor: shape=(), dtype=float64, numpy=0.021739130434782608>, 'duration': <tf.Tensor: shape=(), dtype=float64, numpy=0.08695652173913043>}\n"
          ]
        }
      ],
      "source": [
        "for seq, target in seq_ds.take(1):\n",
        "  print('sequence shape:', seq.shape)\n",
        "  print('sequence elements (first 10):', seq[0: 10])\n",
        "  print()\n",
        "  print('target:', target)"
      ]
    },
    {
      "cell_type": "code",
      "execution_count": 41,
      "metadata": {
        "id": "Dqow1XJFbLbx"
      },
      "outputs": [],
      "source": [
        "batch_size = 128\n",
        "buffer_size = n_notes - seq_length  # the number of items in the dataset\n",
        "train_ds = (seq_ds\n",
        "            .shuffle(buffer_size)\n",
        "            .batch(batch_size, drop_remainder=True)\n",
        "            .cache()\n",
        "            .prefetch(tf.data.experimental.AUTOTUNE))"
      ]
    },
    {
      "cell_type": "code",
      "execution_count": 42,
      "metadata": {
        "colab": {
          "base_uri": "https://localhost:8080/"
        },
        "id": "IDnmS6OybRKS",
        "outputId": "35655a28-1b7a-4d49-a68f-447dbcc3b4d6"
      },
      "outputs": [
        {
          "data": {
            "text/plain": [
              "(TensorSpec(shape=(128, 1, 3), dtype=tf.float64, name=None),\n",
              " {'pitch': TensorSpec(shape=(128,), dtype=tf.float64, name=None),\n",
              "  'step': TensorSpec(shape=(128,), dtype=tf.float64, name=None),\n",
              "  'duration': TensorSpec(shape=(128,), dtype=tf.float64, name=None)})"
            ]
          },
          "execution_count": 42,
          "metadata": {},
          "output_type": "execute_result"
        }
      ],
      "source": [
        "train_ds.element_spec"
      ]
    },
    {
      "cell_type": "markdown",
      "metadata": {
        "id": "c-E_1LJ-acea"
      },
      "source": [
        "A"
      ]
    },
    {
      "cell_type": "markdown",
      "metadata": {
        "id": "g6o4GovjbbcN"
      },
      "source": [
        "**Model yaha hai**"
      ]
    },
    {
      "cell_type": "code",
      "execution_count": 43,
      "metadata": {
        "id": "flKSbEuTbURv"
      },
      "outputs": [],
      "source": [
        "def mse_with_positive_pressure(y_true: tf.Tensor, y_pred: tf.Tensor):\n",
        "  mse = (y_true - y_pred) ** 2\n",
        "  positive_pressure = 10 * tf.maximum(-y_pred, 0.0)\n",
        "  return tf.reduce_mean(mse + positive_pressure)"
      ]
    },
    {
      "cell_type": "code",
      "execution_count": 44,
      "metadata": {
        "colab": {
          "base_uri": "https://localhost:8080/"
        },
        "id": "hZZvYSEsb97q",
        "outputId": "2bdde3d3-f8fb-46c0-fdf0-41162e107844"
      },
      "outputs": [
        {
          "data": {
            "text/html": [
              "<pre style=\"white-space:pre;overflow-x:auto;line-height:normal;font-family:Menlo,'DejaVu Sans Mono',consolas,'Courier New',monospace\"><span style=\"font-weight: bold\">Model: \"functional_1\"</span>\n",
              "</pre>\n"
            ],
            "text/plain": [
              "\u001b[1mModel: \"functional_1\"\u001b[0m\n"
            ]
          },
          "metadata": {},
          "output_type": "display_data"
        },
        {
          "data": {
            "text/html": [
              "<pre style=\"white-space:pre;overflow-x:auto;line-height:normal;font-family:Menlo,'DejaVu Sans Mono',consolas,'Courier New',monospace\">┏━━━━━━━━━━━━━━━━━━━━━┳━━━━━━━━━━━━━━━━━━━┳━━━━━━━━━━━━┳━━━━━━━━━━━━━━━━━━━┓\n",
              "┃<span style=\"font-weight: bold\"> Layer (type)        </span>┃<span style=\"font-weight: bold\"> Output Shape      </span>┃<span style=\"font-weight: bold\">    Param # </span>┃<span style=\"font-weight: bold\"> Connected to      </span>┃\n",
              "┡━━━━━━━━━━━━━━━━━━━━━╇━━━━━━━━━━━━━━━━━━━╇━━━━━━━━━━━━╇━━━━━━━━━━━━━━━━━━━┩\n",
              "│ input_layer         │ (<span style=\"color: #00d7ff; text-decoration-color: #00d7ff\">None</span>, <span style=\"color: #00af00; text-decoration-color: #00af00\">1</span>, <span style=\"color: #00af00; text-decoration-color: #00af00\">3</span>)      │          <span style=\"color: #00af00; text-decoration-color: #00af00\">0</span> │ -                 │\n",
              "│ (<span style=\"color: #0087ff; text-decoration-color: #0087ff\">InputLayer</span>)        │                   │            │                   │\n",
              "├─────────────────────┼───────────────────┼────────────┼───────────────────┤\n",
              "│ lstm (<span style=\"color: #0087ff; text-decoration-color: #0087ff\">LSTM</span>)         │ (<span style=\"color: #00d7ff; text-decoration-color: #00d7ff\">None</span>, <span style=\"color: #00af00; text-decoration-color: #00af00\">128</span>)       │     <span style=\"color: #00af00; text-decoration-color: #00af00\">67,584</span> │ input_layer[<span style=\"color: #00af00; text-decoration-color: #00af00\">0</span>][<span style=\"color: #00af00; text-decoration-color: #00af00\">0</span>] │\n",
              "├─────────────────────┼───────────────────┼────────────┼───────────────────┤\n",
              "│ duration (<span style=\"color: #0087ff; text-decoration-color: #0087ff\">Dense</span>)    │ (<span style=\"color: #00d7ff; text-decoration-color: #00d7ff\">None</span>, <span style=\"color: #00af00; text-decoration-color: #00af00\">1</span>)         │        <span style=\"color: #00af00; text-decoration-color: #00af00\">129</span> │ lstm[<span style=\"color: #00af00; text-decoration-color: #00af00\">0</span>][<span style=\"color: #00af00; text-decoration-color: #00af00\">0</span>]        │\n",
              "├─────────────────────┼───────────────────┼────────────┼───────────────────┤\n",
              "│ pitch (<span style=\"color: #0087ff; text-decoration-color: #0087ff\">Dense</span>)       │ (<span style=\"color: #00d7ff; text-decoration-color: #00d7ff\">None</span>, <span style=\"color: #00af00; text-decoration-color: #00af00\">128</span>)       │     <span style=\"color: #00af00; text-decoration-color: #00af00\">16,512</span> │ lstm[<span style=\"color: #00af00; text-decoration-color: #00af00\">0</span>][<span style=\"color: #00af00; text-decoration-color: #00af00\">0</span>]        │\n",
              "├─────────────────────┼───────────────────┼────────────┼───────────────────┤\n",
              "│ step (<span style=\"color: #0087ff; text-decoration-color: #0087ff\">Dense</span>)        │ (<span style=\"color: #00d7ff; text-decoration-color: #00d7ff\">None</span>, <span style=\"color: #00af00; text-decoration-color: #00af00\">1</span>)         │        <span style=\"color: #00af00; text-decoration-color: #00af00\">129</span> │ lstm[<span style=\"color: #00af00; text-decoration-color: #00af00\">0</span>][<span style=\"color: #00af00; text-decoration-color: #00af00\">0</span>]        │\n",
              "└─────────────────────┴───────────────────┴────────────┴───────────────────┘\n",
              "</pre>\n"
            ],
            "text/plain": [
              "┏━━━━━━━━━━━━━━━━━━━━━┳━━━━━━━━━━━━━━━━━━━┳━━━━━━━━━━━━┳━━━━━━━━━━━━━━━━━━━┓\n",
              "┃\u001b[1m \u001b[0m\u001b[1mLayer (type)       \u001b[0m\u001b[1m \u001b[0m┃\u001b[1m \u001b[0m\u001b[1mOutput Shape     \u001b[0m\u001b[1m \u001b[0m┃\u001b[1m \u001b[0m\u001b[1m   Param #\u001b[0m\u001b[1m \u001b[0m┃\u001b[1m \u001b[0m\u001b[1mConnected to     \u001b[0m\u001b[1m \u001b[0m┃\n",
              "┡━━━━━━━━━━━━━━━━━━━━━╇━━━━━━━━━━━━━━━━━━━╇━━━━━━━━━━━━╇━━━━━━━━━━━━━━━━━━━┩\n",
              "│ input_layer         │ (\u001b[38;5;45mNone\u001b[0m, \u001b[38;5;34m1\u001b[0m, \u001b[38;5;34m3\u001b[0m)      │          \u001b[38;5;34m0\u001b[0m │ -                 │\n",
              "│ (\u001b[38;5;33mInputLayer\u001b[0m)        │                   │            │                   │\n",
              "├─────────────────────┼───────────────────┼────────────┼───────────────────┤\n",
              "│ lstm (\u001b[38;5;33mLSTM\u001b[0m)         │ (\u001b[38;5;45mNone\u001b[0m, \u001b[38;5;34m128\u001b[0m)       │     \u001b[38;5;34m67,584\u001b[0m │ input_layer[\u001b[38;5;34m0\u001b[0m][\u001b[38;5;34m0\u001b[0m] │\n",
              "├─────────────────────┼───────────────────┼────────────┼───────────────────┤\n",
              "│ duration (\u001b[38;5;33mDense\u001b[0m)    │ (\u001b[38;5;45mNone\u001b[0m, \u001b[38;5;34m1\u001b[0m)         │        \u001b[38;5;34m129\u001b[0m │ lstm[\u001b[38;5;34m0\u001b[0m][\u001b[38;5;34m0\u001b[0m]        │\n",
              "├─────────────────────┼───────────────────┼────────────┼───────────────────┤\n",
              "│ pitch (\u001b[38;5;33mDense\u001b[0m)       │ (\u001b[38;5;45mNone\u001b[0m, \u001b[38;5;34m128\u001b[0m)       │     \u001b[38;5;34m16,512\u001b[0m │ lstm[\u001b[38;5;34m0\u001b[0m][\u001b[38;5;34m0\u001b[0m]        │\n",
              "├─────────────────────┼───────────────────┼────────────┼───────────────────┤\n",
              "│ step (\u001b[38;5;33mDense\u001b[0m)        │ (\u001b[38;5;45mNone\u001b[0m, \u001b[38;5;34m1\u001b[0m)         │        \u001b[38;5;34m129\u001b[0m │ lstm[\u001b[38;5;34m0\u001b[0m][\u001b[38;5;34m0\u001b[0m]        │\n",
              "└─────────────────────┴───────────────────┴────────────┴───────────────────┘\n"
            ]
          },
          "metadata": {},
          "output_type": "display_data"
        },
        {
          "data": {
            "text/html": [
              "<pre style=\"white-space:pre;overflow-x:auto;line-height:normal;font-family:Menlo,'DejaVu Sans Mono',consolas,'Courier New',monospace\"><span style=\"font-weight: bold\"> Total params: </span><span style=\"color: #00af00; text-decoration-color: #00af00\">84,354</span> (329.51 KB)\n",
              "</pre>\n"
            ],
            "text/plain": [
              "\u001b[1m Total params: \u001b[0m\u001b[38;5;34m84,354\u001b[0m (329.51 KB)\n"
            ]
          },
          "metadata": {},
          "output_type": "display_data"
        },
        {
          "data": {
            "text/html": [
              "<pre style=\"white-space:pre;overflow-x:auto;line-height:normal;font-family:Menlo,'DejaVu Sans Mono',consolas,'Courier New',monospace\"><span style=\"font-weight: bold\"> Trainable params: </span><span style=\"color: #00af00; text-decoration-color: #00af00\">84,354</span> (329.51 KB)\n",
              "</pre>\n"
            ],
            "text/plain": [
              "\u001b[1m Trainable params: \u001b[0m\u001b[38;5;34m84,354\u001b[0m (329.51 KB)\n"
            ]
          },
          "metadata": {},
          "output_type": "display_data"
        },
        {
          "data": {
            "text/html": [
              "<pre style=\"white-space:pre;overflow-x:auto;line-height:normal;font-family:Menlo,'DejaVu Sans Mono',consolas,'Courier New',monospace\"><span style=\"font-weight: bold\"> Non-trainable params: </span><span style=\"color: #00af00; text-decoration-color: #00af00\">0</span> (0.00 B)\n",
              "</pre>\n"
            ],
            "text/plain": [
              "\u001b[1m Non-trainable params: \u001b[0m\u001b[38;5;34m0\u001b[0m (0.00 B)\n"
            ]
          },
          "metadata": {},
          "output_type": "display_data"
        }
      ],
      "source": [
        "input_shape = (seq_length, 3)\n",
        "learning_rate = 0.10\n",
        "\n",
        "inputs = tf.keras.Input(input_shape)\n",
        "x = tf.keras.layers.LSTM(128)(inputs)\n",
        "\n",
        "outputs = {\n",
        "  'pitch': tf.keras.layers.Dense(128, name='pitch')(x),\n",
        "  'step': tf.keras.layers.Dense(1, name='step')(x),\n",
        "  'duration': tf.keras.layers.Dense(1, name='duration')(x),\n",
        "}\n",
        "\n",
        "model = tf.keras.Model(inputs, outputs)\n",
        "\n",
        "loss = {\n",
        "      'pitch': tf.keras.losses.SparseCategoricalCrossentropy(\n",
        "          from_logits=True),\n",
        "      'step': mse_with_positive_pressure,\n",
        "      'duration': mse_with_positive_pressure,\n",
        "}\n",
        "\n",
        "optimizer = tf.keras.optimizers.Adam(learning_rate=learning_rate)\n",
        "\n",
        "model.compile(loss=loss, optimizer=optimizer)\n",
        "\n",
        "model.summary()"
      ]
    },
    {
      "cell_type": "code",
      "execution_count": null,
      "metadata": {
        "id": "tbatNCaEhlmU"
      },
      "outputs": [],
      "source": [
        "# import tensorflow as tf\n",
        "\n",
        "# input_shape = (seq_length, 3)\n",
        "# learning_rate = 0.10\n",
        "\n",
        "# inputs = tf.keras.Input(input_shape)\n",
        "# x = tf.keras.layers.LSTM(128, recurrent_initializer='glorot_uniform')(inputs)\n",
        "\n",
        "# outputs = {\n",
        "#     'pitch': tf.keras.layers.Dense(128, name='pitch')(x),\n",
        "#     'step': tf.keras.layers.Dense(1, name='step')(x),\n",
        "#     'duration': tf.keras.layers.Dense(1, name='duration')(x),\n",
        "# }\n",
        "\n",
        "# model = tf.keras.Model(inputs, outputs)\n",
        "\n",
        "# loss = {\n",
        "#     'pitch': tf.keras.losses.SparseCategoricalCrossentropy(from_logits=True),\n",
        "#     'step': mse_with_positive_pressure,\n",
        "#     'duration': mse_with_positive_pressure,\n",
        "# }\n",
        "\n",
        "# optimizer = tf.keras.optimizers.Adam(learning_rate=learning_rate)\n",
        "\n",
        "# model.compile(loss=loss, optimizer=optimizer)\n",
        "\n",
        "# model.summary()\n"
      ]
    },
    {
      "cell_type": "code",
      "execution_count": 45,
      "metadata": {
        "colab": {
          "base_uri": "https://localhost:8080/"
        },
        "id": "MGH996cVcAaC",
        "outputId": "5aa91899-57b6-46b2-9bc1-16fe042fdfdc"
      },
      "outputs": [
        {
          "name": "stdout",
          "output_type": "stream",
          "text": [
            "\u001b[1m1895/1895\u001b[0m \u001b[32m━━━━━━━━━━━━━━━━━━━━\u001b[0m\u001b[37m\u001b[0m \u001b[1m111s\u001b[0m 8ms/step - loss: 4.9712\n"
          ]
        },
        {
          "name": "stderr",
          "output_type": "stream",
          "text": [
            "c:\\Users\\DELL\\AppData\\Local\\Programs\\Python\\Python311\\Lib\\contextlib.py:155: UserWarning: Your input ran out of data; interrupting training. Make sure that your dataset or generator can generate at least `steps_per_epoch * epochs` batches. You may need to use the `.repeat()` function when building your dataset.\n",
            "  self.gen.throw(typ, value, traceback)\n"
          ]
        },
        {
          "data": {
            "text/plain": [
              "{'loss': 4.968989372253418}"
            ]
          },
          "execution_count": 45,
          "metadata": {},
          "output_type": "execute_result"
        }
      ],
      "source": [
        "losses = model.evaluate(train_ds, return_dict = True)\n",
        "losses"
      ]
    },
    {
      "cell_type": "code",
      "execution_count": 46,
      "metadata": {
        "id": "_TYWqO1pcE5J"
      },
      "outputs": [],
      "source": [
        "model.compile(\n",
        "    loss=loss,\n",
        "    loss_weights={\n",
        "        'pitch': 0.05,\n",
        "        'step': 0.5,\n",
        "        'duration':0.5,\n",
        "    },\n",
        "    optimizer=optimizer,\n",
        ")"
      ]
    },
    {
      "cell_type": "code",
      "execution_count": 47,
      "metadata": {
        "colab": {
          "base_uri": "https://localhost:8080/"
        },
        "id": "MfjK0JJhcTVc",
        "outputId": "9e898561-d4cb-4e32-8e53-b1db309d6a6a"
      },
      "outputs": [
        {
          "name": "stdout",
          "output_type": "stream",
          "text": [
            "\u001b[1m1895/1895\u001b[0m \u001b[32m━━━━━━━━━━━━━━━━━━━━\u001b[0m\u001b[37m\u001b[0m \u001b[1m26s\u001b[0m 12ms/step - loss: 0.3023\n"
          ]
        },
        {
          "data": {
            "text/plain": [
              "{'loss': 0.30228888988494873}"
            ]
          },
          "execution_count": 47,
          "metadata": {},
          "output_type": "execute_result"
        }
      ],
      "source": [
        "model.evaluate(train_ds, return_dict=True)"
      ]
    },
    {
      "cell_type": "markdown",
      "metadata": {
        "id": "Fo33j3qHcjqi"
      },
      "source": [
        "** training**"
      ]
    },
    {
      "cell_type": "code",
      "execution_count": 50,
      "metadata": {
        "id": "O6MELjZvcgXe"
      },
      "outputs": [],
      "source": [
        "callbacks = [\n",
        "    tf.keras.callbacks.ModelCheckpoint(\n",
        "        filepath='./training_checkpoints/ckpt_{epoch}.weights.h5',\n",
        "        save_weights_only=True),\n",
        "    tf.keras.callbacks.EarlyStopping(\n",
        "        monitor='loss',\n",
        "        patience=5,\n",
        "        verbose=1,\n",
        "        restore_best_weights=True),\n",
        "]"
      ]
    },
    {
      "cell_type": "code",
      "execution_count": 51,
      "metadata": {
        "colab": {
          "base_uri": "https://localhost:8080/"
        },
        "id": "4yJgkgrTcV01",
        "outputId": "59e1c8b0-94d4-4007-9437-8f595db7695e"
      },
      "outputs": [
        {
          "name": "stdout",
          "output_type": "stream",
          "text": [
            "Epoch 1/50\n"
          ]
        },
        {
          "name": "stdout",
          "output_type": "stream",
          "text": [
            "   1893/Unknown \u001b[1m52s\u001b[0m 16ms/step - loss: 0.2698"
          ]
        },
        {
          "name": "stderr",
          "output_type": "stream",
          "text": [
            "c:\\Users\\DELL\\AppData\\Local\\Programs\\Python\\Python311\\Lib\\contextlib.py:155: UserWarning: Your input ran out of data; interrupting training. Make sure that your dataset or generator can generate at least `steps_per_epoch * epochs` batches. You may need to use the `.repeat()` function when building your dataset.\n",
            "  self.gen.throw(typ, value, traceback)\n"
          ]
        },
        {
          "name": "stdout",
          "output_type": "stream",
          "text": [
            "\u001b[1m1895/1895\u001b[0m \u001b[32m━━━━━━━━━━━━━━━━━━━━\u001b[0m\u001b[37m\u001b[0m \u001b[1m54s\u001b[0m 17ms/step - loss: 0.2697\n",
            "Epoch 2/50\n",
            "\u001b[1m1895/1895\u001b[0m \u001b[32m━━━━━━━━━━━━━━━━━━━━\u001b[0m\u001b[37m\u001b[0m \u001b[1m32s\u001b[0m 17ms/step - loss: 0.2381\n",
            "Epoch 3/50\n",
            "\u001b[1m1895/1895\u001b[0m \u001b[32m━━━━━━━━━━━━━━━━━━━━\u001b[0m\u001b[37m\u001b[0m \u001b[1m32s\u001b[0m 17ms/step - loss: 0.2267\n",
            "Epoch 4/50\n",
            "\u001b[1m1895/1895\u001b[0m \u001b[32m━━━━━━━━━━━━━━━━━━━━\u001b[0m\u001b[37m\u001b[0m \u001b[1m29s\u001b[0m 15ms/step - loss: 0.2294\n",
            "Epoch 5/50\n",
            "\u001b[1m1895/1895\u001b[0m \u001b[32m━━━━━━━━━━━━━━━━━━━━\u001b[0m\u001b[37m\u001b[0m \u001b[1m27s\u001b[0m 14ms/step - loss: 0.2302\n",
            "Epoch 6/50\n",
            "\u001b[1m1895/1895\u001b[0m \u001b[32m━━━━━━━━━━━━━━━━━━━━\u001b[0m\u001b[37m\u001b[0m \u001b[1m24s\u001b[0m 12ms/step - loss: 0.2298\n",
            "Epoch 7/50\n",
            "\u001b[1m1895/1895\u001b[0m \u001b[32m━━━━━━━━━━━━━━━━━━━━\u001b[0m\u001b[37m\u001b[0m \u001b[1m23s\u001b[0m 12ms/step - loss: 0.2283\n",
            "Epoch 8/50\n",
            "\u001b[1m1895/1895\u001b[0m \u001b[32m━━━━━━━━━━━━━━━━━━━━\u001b[0m\u001b[37m\u001b[0m \u001b[1m25s\u001b[0m 13ms/step - loss: 0.2301\n",
            "Epoch 9/50\n",
            "\u001b[1m1895/1895\u001b[0m \u001b[32m━━━━━━━━━━━━━━━━━━━━\u001b[0m\u001b[37m\u001b[0m \u001b[1m27s\u001b[0m 14ms/step - loss: 0.2236\n",
            "Epoch 10/50\n",
            "\u001b[1m1895/1895\u001b[0m \u001b[32m━━━━━━━━━━━━━━━━━━━━\u001b[0m\u001b[37m\u001b[0m \u001b[1m29s\u001b[0m 15ms/step - loss: 0.2417\n",
            "Epoch 11/50\n",
            "\u001b[1m1895/1895\u001b[0m \u001b[32m━━━━━━━━━━━━━━━━━━━━\u001b[0m\u001b[37m\u001b[0m \u001b[1m29s\u001b[0m 15ms/step - loss: 0.2294\n",
            "Epoch 12/50\n",
            "\u001b[1m1895/1895\u001b[0m \u001b[32m━━━━━━━━━━━━━━━━━━━━\u001b[0m\u001b[37m\u001b[0m \u001b[1m29s\u001b[0m 16ms/step - loss: 0.2271\n",
            "Epoch 13/50\n",
            "\u001b[1m1895/1895\u001b[0m \u001b[32m━━━━━━━━━━━━━━━━━━━━\u001b[0m\u001b[37m\u001b[0m \u001b[1m29s\u001b[0m 15ms/step - loss: 0.2256\n",
            "Epoch 14/50\n",
            "\u001b[1m1895/1895\u001b[0m \u001b[32m━━━━━━━━━━━━━━━━━━━━\u001b[0m\u001b[37m\u001b[0m \u001b[1m30s\u001b[0m 16ms/step - loss: 0.2268\n",
            "Epoch 15/50\n",
            "\u001b[1m1895/1895\u001b[0m \u001b[32m━━━━━━━━━━━━━━━━━━━━\u001b[0m\u001b[37m\u001b[0m \u001b[1m33s\u001b[0m 17ms/step - loss: 0.2363\n",
            "Epoch 16/50\n",
            "\u001b[1m1895/1895\u001b[0m \u001b[32m━━━━━━━━━━━━━━━━━━━━\u001b[0m\u001b[37m\u001b[0m \u001b[1m42s\u001b[0m 22ms/step - loss: 0.2290\n",
            "Epoch 17/50\n",
            "\u001b[1m1895/1895\u001b[0m \u001b[32m━━━━━━━━━━━━━━━━━━━━\u001b[0m\u001b[37m\u001b[0m \u001b[1m83s\u001b[0m 43ms/step - loss: 0.2242\n",
            "Epoch 18/50\n",
            "\u001b[1m1895/1895\u001b[0m \u001b[32m━━━━━━━━━━━━━━━━━━━━\u001b[0m\u001b[37m\u001b[0m \u001b[1m65s\u001b[0m 33ms/step - loss: 0.2274\n",
            "Epoch 19/50\n",
            "\u001b[1m1895/1895\u001b[0m \u001b[32m━━━━━━━━━━━━━━━━━━━━\u001b[0m\u001b[37m\u001b[0m \u001b[1m52s\u001b[0m 27ms/step - loss: 0.2344\n",
            "Epoch 19: early stopping\n",
            "Restoring model weights from the end of the best epoch: 14.\n",
            "CPU times: total: 9min 39s\n",
            "Wall time: 11min 35s\n"
          ]
        }
      ],
      "source": [
        "%%time\n",
        "epochs = 50\n",
        "\n",
        "history = model.fit(\n",
        "    train_ds,\n",
        "    epochs=epochs,\n",
        "    callbacks=callbacks,\n",
        ")"
      ]
    },
    {
      "cell_type": "code",
      "execution_count": 52,
      "metadata": {
        "colab": {
          "base_uri": "https://localhost:8080/",
          "height": 430
        },
        "id": "ytU3vgbpcx6q",
        "outputId": "9d7122aa-3954-4a23-a16c-410b4efa9939"
      },
      "outputs": [
        {
          "data": {
            "image/png": "[encoded data removed]",
            "text/plain": [
              "<Figure size 640x480 with 1 Axes>"
            ]
          },
          "metadata": {},
          "output_type": "display_data"
        }
      ],
      "source": [
        "plt.plot(history.epoch, history.history['loss'], label='total loss')\n",
        "plt.show()"
      ]
    },
    {
      "cell_type": "code",
      "execution_count": 54,
      "metadata": {
        "colab": {
          "base_uri": "https://localhost:8080/"
        },
        "id": "vKFf5lRHjY-0",
        "outputId": "dbcf27b7-d878-4195-f6fe-06b19464ed8c"
      },
      "outputs": [
        {
          "name": "stderr",
          "output_type": "stream",
          "text": [
            "WARNING:absl:You are saving your model as an HDF5 file via `model.save()` or `keras.saving.save_model(model)`. This file format is considered legacy. We recommend using instead the native Keras format, e.g. `model.save('my_model.keras')` or `keras.saving.save_model(model, 'my_model.keras')`. \n"
          ]
        },
        {
          "name": "stdout",
          "output_type": "stream",
          "text": [
            "Trained model saved successfully.\n"
          ]
        }
      ],
      "source": [
        "model.save('./model_terminal.h5')\n",
        "print(\"Trained model saved successfully.\")"
      ]
    },
    {
      "cell_type": "code",
      "execution_count": null,
      "metadata": {
        "id": "lMJnjiMf9EUH"
      },
      "outputs": [],
      "source": [
        "# model.save('new.keras')"
      ]
    },
    {
      "cell_type": "code",
      "execution_count": 56,
      "metadata": {
        "id": "whoRxfKhyDHm"
      },
      "outputs": [],
      "source": [
        "model.save('./model_terminal.keras')"
      ]
    },
    {
      "cell_type": "code",
      "execution_count": null,
      "metadata": {
        "colab": {
          "base_uri": "https://localhost:8080/"
        },
        "id": "f5muWEBVTadM",
        "outputId": "f17f2b93-0887-49eb-d9e4-c64b56ffcdab"
      },
      "outputs": [
        {
          "name": "stdout",
          "output_type": "stream",
          "text": [
            "Name: tensorflow\n",
            "Version: 2.15.0\n",
            "Summary: TensorFlow is an open source machine learning framework for everyone.\n",
            "Home-page: https://www.tensorflow.org/\n",
            "Author: Google Inc.\n",
            "Author-email: packages@tensorflow.org\n",
            "License: Apache 2.0\n",
            "Location: /usr/local/lib/python3.10/dist-packages\n",
            "Requires: absl-py, astunparse, flatbuffers, gast, google-pasta, grpcio, h5py, keras, libclang, ml-dtypes, numpy, opt-einsum, packaging, protobuf, setuptools, six, tensorboard, tensorflow-estimator, tensorflow-io-gcs-filesystem, termcolor, typing-extensions, wrapt\n",
            "Required-by: dopamine-rl, tf_keras\n"
          ]
        }
      ],
      "source": [
        "!pip show tensorflow"
      ]
    },
    {
      "cell_type": "code",
      "execution_count": 60,
      "metadata": {
        "id": "D0wcoHgnIFoG"
      },
      "outputs": [
        {
          "name": "stderr",
          "output_type": "stream",
          "text": [
            "WARNING:absl:Compiled the loaded model, but the compiled metrics have yet to be built. `model.compile_metrics` will be empty until you train or evaluate the model.\n"
          ]
        }
      ],
      "source": [
        "import tensorflow as tf\n",
        "from tensorflow.keras.models import load_model\n",
        "\n",
        "# Define the custom loss function\n",
        "def mse_with_positive_pressure(y_true: tf.Tensor, y_pred: tf.Tensor):\n",
        "  mse = (y_true - y_pred) ** 2\n",
        "  positive_pressure = 10 * tf.maximum(-y_pred, 0.0)\n",
        "  return tf.reduce_mean(mse + positive_pressure)\n",
        "\n",
        "# Register the custom loss function with Keras\n",
        "losses = {'mse_with_positive_pressure': mse_with_positive_pressure}\n",
        "\n",
        "# Load the model with custom loss function\n",
        "model = load_model(\"C:/Users/DELL/OneDrive/Desktop/tarangAI/model_terminal.h5\", custom_objects=losses)\n"
      ]
    },
    {
      "cell_type": "code",
      "execution_count": 58,
      "metadata": {
        "colab": {
          "base_uri": "https://localhost:8080/",
          "height": 356
        },
        "id": "BXorV1ZbHHaj",
        "outputId": "bbb8d6d8-4051-40ca-9a00-432ed17d0193"
      },
      "outputs": [
        {
          "ename": "FileNotFoundError",
          "evalue": "[Errno 2] Unable to synchronously open file (unable to open file: name = '/content/new_model.h5', errno = 2, error message = 'No such file or directory', flags = 0, o_flags = 0)",
          "output_type": "error",
          "traceback": [
            "\u001b[1;31m---------------------------------------------------------------------------\u001b[0m",
            "\u001b[1;31mFileNotFoundError\u001b[0m                         Traceback (most recent call last)",
            "Cell \u001b[1;32mIn[58], line 2\u001b[0m\n\u001b[0;32m      1\u001b[0m \u001b[38;5;28;01mfrom\u001b[39;00m \u001b[38;5;21;01mtensorflow\u001b[39;00m\u001b[38;5;21;01m.\u001b[39;00m\u001b[38;5;21;01mkeras\u001b[39;00m\u001b[38;5;21;01m.\u001b[39;00m\u001b[38;5;21;01mmodels\u001b[39;00m \u001b[38;5;28;01mimport\u001b[39;00m load_model\n\u001b[1;32m----> 2\u001b[0m model\u001b[38;5;241m=\u001b[39m\u001b[43mload_model\u001b[49m\u001b[43m(\u001b[49m\u001b[38;5;124;43m\"\u001b[39;49m\u001b[38;5;124;43m/content/new_model.h5\u001b[39;49m\u001b[38;5;124;43m\"\u001b[39;49m\u001b[43m)\u001b[49m\n",
            "File \u001b[1;32mc:\\Users\\DELL\\AppData\\Local\\Programs\\Python\\Python311\\Lib\\site-packages\\keras\\src\\saving\\saving_api.py:183\u001b[0m, in \u001b[0;36mload_model\u001b[1;34m(filepath, custom_objects, compile, safe_mode)\u001b[0m\n\u001b[0;32m    176\u001b[0m     \u001b[38;5;28;01mreturn\u001b[39;00m saving_lib\u001b[38;5;241m.\u001b[39mload_model(\n\u001b[0;32m    177\u001b[0m         filepath,\n\u001b[0;32m    178\u001b[0m         custom_objects\u001b[38;5;241m=\u001b[39mcustom_objects,\n\u001b[0;32m    179\u001b[0m         \u001b[38;5;28mcompile\u001b[39m\u001b[38;5;241m=\u001b[39m\u001b[38;5;28mcompile\u001b[39m,\n\u001b[0;32m    180\u001b[0m         safe_mode\u001b[38;5;241m=\u001b[39msafe_mode,\n\u001b[0;32m    181\u001b[0m     )\n\u001b[0;32m    182\u001b[0m \u001b[38;5;28;01mif\u001b[39;00m \u001b[38;5;28mstr\u001b[39m(filepath)\u001b[38;5;241m.\u001b[39mendswith((\u001b[38;5;124m\"\u001b[39m\u001b[38;5;124m.h5\u001b[39m\u001b[38;5;124m\"\u001b[39m, \u001b[38;5;124m\"\u001b[39m\u001b[38;5;124m.hdf5\u001b[39m\u001b[38;5;124m\"\u001b[39m)):\n\u001b[1;32m--> 183\u001b[0m     \u001b[38;5;28;01mreturn\u001b[39;00m \u001b[43mlegacy_h5_format\u001b[49m\u001b[38;5;241;43m.\u001b[39;49m\u001b[43mload_model_from_hdf5\u001b[49m\u001b[43m(\u001b[49m\u001b[43mfilepath\u001b[49m\u001b[43m)\u001b[49m\n\u001b[0;32m    184\u001b[0m \u001b[38;5;28;01melif\u001b[39;00m \u001b[38;5;28mstr\u001b[39m(filepath)\u001b[38;5;241m.\u001b[39mendswith(\u001b[38;5;124m\"\u001b[39m\u001b[38;5;124m.keras\u001b[39m\u001b[38;5;124m\"\u001b[39m):\n\u001b[0;32m    185\u001b[0m     \u001b[38;5;28;01mraise\u001b[39;00m \u001b[38;5;167;01mValueError\u001b[39;00m(\n\u001b[0;32m    186\u001b[0m         \u001b[38;5;124mf\u001b[39m\u001b[38;5;124m\"\u001b[39m\u001b[38;5;124mFile not found: filepath=\u001b[39m\u001b[38;5;132;01m{\u001b[39;00mfilepath\u001b[38;5;132;01m}\u001b[39;00m\u001b[38;5;124m. \u001b[39m\u001b[38;5;124m\"\u001b[39m\n\u001b[0;32m    187\u001b[0m         \u001b[38;5;124m\"\u001b[39m\u001b[38;5;124mPlease ensure the file is an accessible `.keras` \u001b[39m\u001b[38;5;124m\"\u001b[39m\n\u001b[0;32m    188\u001b[0m         \u001b[38;5;124m\"\u001b[39m\u001b[38;5;124mzip file.\u001b[39m\u001b[38;5;124m\"\u001b[39m\n\u001b[0;32m    189\u001b[0m     )\n",
            "File \u001b[1;32mc:\\Users\\DELL\\AppData\\Local\\Programs\\Python\\Python311\\Lib\\site-packages\\keras\\src\\legacy\\saving\\legacy_h5_format.py:116\u001b[0m, in \u001b[0;36mload_model_from_hdf5\u001b[1;34m(filepath, custom_objects, compile)\u001b[0m\n\u001b[0;32m    114\u001b[0m opened_new_file \u001b[38;5;241m=\u001b[39m \u001b[38;5;129;01mnot\u001b[39;00m \u001b[38;5;28misinstance\u001b[39m(filepath, h5py\u001b[38;5;241m.\u001b[39mFile)\n\u001b[0;32m    115\u001b[0m \u001b[38;5;28;01mif\u001b[39;00m opened_new_file:\n\u001b[1;32m--> 116\u001b[0m     f \u001b[38;5;241m=\u001b[39m \u001b[43mh5py\u001b[49m\u001b[38;5;241;43m.\u001b[39;49m\u001b[43mFile\u001b[49m\u001b[43m(\u001b[49m\u001b[43mfilepath\u001b[49m\u001b[43m,\u001b[49m\u001b[43m \u001b[49m\u001b[43mmode\u001b[49m\u001b[38;5;241;43m=\u001b[39;49m\u001b[38;5;124;43m\"\u001b[39;49m\u001b[38;5;124;43mr\u001b[39;49m\u001b[38;5;124;43m\"\u001b[39;49m\u001b[43m)\u001b[49m\n\u001b[0;32m    117\u001b[0m \u001b[38;5;28;01melse\u001b[39;00m:\n\u001b[0;32m    118\u001b[0m     f \u001b[38;5;241m=\u001b[39m filepath\n",
            "File \u001b[1;32mc:\\Users\\DELL\\AppData\\Local\\Programs\\Python\\Python311\\Lib\\site-packages\\h5py\\_hl\\files.py:562\u001b[0m, in \u001b[0;36mFile.__init__\u001b[1;34m(self, name, mode, driver, libver, userblock_size, swmr, rdcc_nslots, rdcc_nbytes, rdcc_w0, track_order, fs_strategy, fs_persist, fs_threshold, fs_page_size, page_buf_size, min_meta_keep, min_raw_keep, locking, alignment_threshold, alignment_interval, meta_block_size, **kwds)\u001b[0m\n\u001b[0;32m    553\u001b[0m     fapl \u001b[38;5;241m=\u001b[39m make_fapl(driver, libver, rdcc_nslots, rdcc_nbytes, rdcc_w0,\n\u001b[0;32m    554\u001b[0m                      locking, page_buf_size, min_meta_keep, min_raw_keep,\n\u001b[0;32m    555\u001b[0m                      alignment_threshold\u001b[38;5;241m=\u001b[39malignment_threshold,\n\u001b[0;32m    556\u001b[0m                      alignment_interval\u001b[38;5;241m=\u001b[39malignment_interval,\n\u001b[0;32m    557\u001b[0m                      meta_block_size\u001b[38;5;241m=\u001b[39mmeta_block_size,\n\u001b[0;32m    558\u001b[0m                      \u001b[38;5;241m*\u001b[39m\u001b[38;5;241m*\u001b[39mkwds)\n\u001b[0;32m    559\u001b[0m     fcpl \u001b[38;5;241m=\u001b[39m make_fcpl(track_order\u001b[38;5;241m=\u001b[39mtrack_order, fs_strategy\u001b[38;5;241m=\u001b[39mfs_strategy,\n\u001b[0;32m    560\u001b[0m                      fs_persist\u001b[38;5;241m=\u001b[39mfs_persist, fs_threshold\u001b[38;5;241m=\u001b[39mfs_threshold,\n\u001b[0;32m    561\u001b[0m                      fs_page_size\u001b[38;5;241m=\u001b[39mfs_page_size)\n\u001b[1;32m--> 562\u001b[0m     fid \u001b[38;5;241m=\u001b[39m \u001b[43mmake_fid\u001b[49m\u001b[43m(\u001b[49m\u001b[43mname\u001b[49m\u001b[43m,\u001b[49m\u001b[43m \u001b[49m\u001b[43mmode\u001b[49m\u001b[43m,\u001b[49m\u001b[43m \u001b[49m\u001b[43muserblock_size\u001b[49m\u001b[43m,\u001b[49m\u001b[43m \u001b[49m\u001b[43mfapl\u001b[49m\u001b[43m,\u001b[49m\u001b[43m \u001b[49m\u001b[43mfcpl\u001b[49m\u001b[43m,\u001b[49m\u001b[43m \u001b[49m\u001b[43mswmr\u001b[49m\u001b[38;5;241;43m=\u001b[39;49m\u001b[43mswmr\u001b[49m\u001b[43m)\u001b[49m\n\u001b[0;32m    564\u001b[0m \u001b[38;5;28;01mif\u001b[39;00m \u001b[38;5;28misinstance\u001b[39m(libver, \u001b[38;5;28mtuple\u001b[39m):\n\u001b[0;32m    565\u001b[0m     \u001b[38;5;28mself\u001b[39m\u001b[38;5;241m.\u001b[39m_libver \u001b[38;5;241m=\u001b[39m libver\n",
            "File \u001b[1;32mc:\\Users\\DELL\\AppData\\Local\\Programs\\Python\\Python311\\Lib\\site-packages\\h5py\\_hl\\files.py:235\u001b[0m, in \u001b[0;36mmake_fid\u001b[1;34m(name, mode, userblock_size, fapl, fcpl, swmr)\u001b[0m\n\u001b[0;32m    233\u001b[0m     \u001b[38;5;28;01mif\u001b[39;00m swmr \u001b[38;5;129;01mand\u001b[39;00m swmr_support:\n\u001b[0;32m    234\u001b[0m         flags \u001b[38;5;241m|\u001b[39m\u001b[38;5;241m=\u001b[39m h5f\u001b[38;5;241m.\u001b[39mACC_SWMR_READ\n\u001b[1;32m--> 235\u001b[0m     fid \u001b[38;5;241m=\u001b[39m \u001b[43mh5f\u001b[49m\u001b[38;5;241;43m.\u001b[39;49m\u001b[43mopen\u001b[49m\u001b[43m(\u001b[49m\u001b[43mname\u001b[49m\u001b[43m,\u001b[49m\u001b[43m \u001b[49m\u001b[43mflags\u001b[49m\u001b[43m,\u001b[49m\u001b[43m \u001b[49m\u001b[43mfapl\u001b[49m\u001b[38;5;241;43m=\u001b[39;49m\u001b[43mfapl\u001b[49m\u001b[43m)\u001b[49m\n\u001b[0;32m    236\u001b[0m \u001b[38;5;28;01melif\u001b[39;00m mode \u001b[38;5;241m==\u001b[39m \u001b[38;5;124m'\u001b[39m\u001b[38;5;124mr+\u001b[39m\u001b[38;5;124m'\u001b[39m:\n\u001b[0;32m    237\u001b[0m     fid \u001b[38;5;241m=\u001b[39m h5f\u001b[38;5;241m.\u001b[39mopen(name, h5f\u001b[38;5;241m.\u001b[39mACC_RDWR, fapl\u001b[38;5;241m=\u001b[39mfapl)\n",
            "File \u001b[1;32mh5py\\_objects.pyx:54\u001b[0m, in \u001b[0;36mh5py._objects.with_phil.wrapper\u001b[1;34m()\u001b[0m\n",
            "File \u001b[1;32mh5py\\_objects.pyx:55\u001b[0m, in \u001b[0;36mh5py._objects.with_phil.wrapper\u001b[1;34m()\u001b[0m\n",
            "File \u001b[1;32mh5py\\h5f.pyx:102\u001b[0m, in \u001b[0;36mh5py.h5f.open\u001b[1;34m()\u001b[0m\n",
            "\u001b[1;31mFileNotFoundError\u001b[0m: [Errno 2] Unable to synchronously open file (unable to open file: name = '/content/new_model.h5', errno = 2, error message = 'No such file or directory', flags = 0, o_flags = 0)"
          ]
        }
      ],
      "source": [
        "# from tensorflow.keras.models import load_model\n",
        "# model=load_model(\"/content/new_model.h5\")"
      ]
    },
    {
      "cell_type": "code",
      "execution_count": 64,
      "metadata": {
        "id": "RCL3T6CeifDG"
      },
      "outputs": [],
      "source": [
        "def predict_next_note(\n",
        "    notes: np.ndarray,\n",
        "    model: tf.keras.Model,\n",
        "    temperature: float = 1.0) -> tuple[int, float, float]:\n",
        "  \"\"\"Generates a note as a tuple of (pitch, step, duration), using a trained sequence model.\"\"\"\n",
        "\n",
        "  assert temperature > 0\n",
        "\n",
        "  # Add batch dimension\n",
        "  inputs = tf.expand_dims(notes, 0)\n",
        "\n",
        "  predictions = model.predict(inputs)\n",
        "  pitch_logits = predictions['pitch']\n",
        "  step = predictions['step']\n",
        "  duration = predictions['duration']\n",
        "  print(pitch_logits)\n",
        "  print(step)\n",
        "  print(duration)\n",
        "\n",
        "  pitch_logits /= temperature\n",
        "  pitch = tf.random.categorical(pitch_logits, num_samples=1)\n",
        "  pitch = tf.squeeze(pitch, axis=-1)\n",
        "  duration = tf.squeeze(duration, axis=-1)\n",
        "  step = tf.squeeze(step, axis=-1)\n",
        "\n",
        "  # `step` and `duration` values should be non-negative\n",
        "  step = tf.maximum(0, -step)\n",
        "  duration = tf.maximum(0, -duration)\n",
        "  print(\"----------------------------------------------------------------\")\n",
        "  print(int(pitch))\n",
        "  print(float(step))\n",
        "  print(float(duration))\n",
        "  print(\"----------------------------------------------------------------\")\n",
        "\n",
        "\n",
        "  return int(pitch), float(step), float(duration)"
      ]
    },
    {
      "cell_type": "code",
      "execution_count": 65,
      "metadata": {
        "colab": {
          "base_uri": "https://localhost:8080/"
        },
        "id": "-BOj6dw8iycR",
        "outputId": "b6447351-7e05-4971-9676-cf0d64eb6d8b"
      },
      "outputs": [
        {
          "name": "stdout",
          "output_type": "stream",
          "text": [
            "1\n",
            "///////////////////////////////////\n",
            "\u001b[1m1/1\u001b[0m \u001b[32m━━━━━━━━━━━━━━━━━━━━\u001b[0m\u001b[37m\u001b[0m \u001b[1m2s\u001b[0m 2s/step\n",
            "[[-17.123987  -17.120321  -16.80483   -17.040339    9.174761  -16.987123\n",
            "  -17.0462    -16.976662  -22.620626  -17.172663  -17.09518   -18.159882\n",
            "  -31.014315  -22.855938  -11.819604  -16.71452   -28.856293  -18.577026\n",
            "  -28.050278  -41.403217  -32.32563   -39.045246  -22.815699  -26.389091\n",
            "  -10.527967  -32.728493  -19.234104  -16.232801  -24.30416    -8.261675\n",
            "  -23.9029    -16.933348  -33.29284   -33.659668  -34.518734  -17.028181\n",
            "  -27.294353  -27.71765   -32.580288  -31.990225  -34.17682   -26.200026\n",
            "  -19.493818  -28.39113   -26.546457  -28.33239   -23.369585  -24.654451\n",
            "  -30.062115  -29.566263  -32.020676  -34.043205  -25.82063   -25.842916\n",
            "  -31.884935  -17.897793  -34.869957  -32.17502   -29.012814  -33.74208\n",
            "  -27.694702  -25.376106  -12.007277  -19.84754   -24.24896     7.063561\n",
            "  -16.09393   -10.223765  -20.39054   -22.654793    3.6800282 -24.044006\n",
            "    0.6009238   3.224495    1.726073   10.661254  -10.724552   28.809992\n",
            "    2.442079   14.513724   19.326963   10.830072   43.95542    17.686846\n",
            "   33.93333    29.33061    51.088852   35.538223   26.629725   56.202137\n",
            "   42.15761    43.52361    49.57005    41.644825   58.607704   45.336956\n",
            "   56.179924   55.074486   54.288647   49.112335   36.908146   44.470497\n",
            "   32.340286   57.386063  -17.034767  -16.92438   -17.028122  -16.997164\n",
            "  -16.928797  -16.95026   -17.012856  -17.043478  -16.82348   -17.044788\n",
            "  -16.925867  -16.905462  -17.155672  -17.149857  -16.796396  -16.940216\n",
            "  -17.087784  -17.005924  -16.908062  -16.98762   -16.809357  -17.0882\n",
            "  -16.961699  -16.937632 ]]\n",
            "[[-0.16114052]]\n",
            "[[-2.5164127]]\n",
            "----------------------------------------------------------------\n",
            "93\n",
            "0.16114051640033722\n",
            "2.5164127349853516\n",
            "----------------------------------------------------------------\n",
            "\u001b[1m1/1\u001b[0m \u001b[32m━━━━━━━━━━━━━━━━━━━━\u001b[0m\u001b[37m\u001b[0m \u001b[1m1s\u001b[0m 1s/step\n",
            "[[-14.778875  -14.835177  -14.68694   -14.841806    5.0940576 -14.654373\n",
            "  -14.741623  -14.674479  -19.027054  -14.852184  -14.855187  -10.387152\n",
            "  -22.594307  -19.076447  -10.588076  -14.472254  -13.544807  -13.731997\n",
            "  -18.462372  -33.662964  -22.17087   -29.339989  -19.342993  -23.564558\n",
            "   -6.5537033 -26.062563  -15.690293   -9.965016  -19.009047   -8.554969\n",
            "  -18.073286  -15.511023  -22.488235  -24.088148  -22.037453  -14.628535\n",
            "  -21.32087   -20.643309  -23.456913  -22.28496   -21.62501   -16.220413\n",
            "  -11.777581  -18.304619  -21.048615  -22.059927  -18.554043  -16.994822\n",
            "  -21.766617  -21.773672  -24.179731  -26.1879    -18.720438  -18.781221\n",
            "  -22.461395  -12.836165  -22.456888  -21.32618   -19.618507  -22.368484\n",
            "  -18.746662  -17.733158   -9.781916  -13.164527  -16.597311    5.447263\n",
            "   -9.884614   -5.7355814 -14.435546  -13.9377165   3.7113693 -14.750563\n",
            "    2.6125998   3.3916125   1.0803338  10.408535   -4.6164384  22.459509\n",
            "    5.4225254  12.899969   16.689953   11.318559   34.009007   14.167564\n",
            "   26.453644   22.852018   38.448895   26.084759   22.32243    41.562645\n",
            "   29.220097   31.758888   33.681175   28.591928   39.833614   29.083164\n",
            "   36.881092   36.957256   35.26065    33.20729    24.325775   28.930523\n",
            "   19.924799   37.024307  -14.814678  -14.752291  -14.67325   -14.766959\n",
            "  -14.697693  -14.704905  -14.68222   -14.764818  -14.660947  -14.831918\n",
            "  -14.661524  -14.692913  -14.777986  -14.843914  -14.655086  -14.769215\n",
            "  -14.7450075 -14.79789   -14.76636   -14.657405  -14.648483  -14.835197\n",
            "  -14.776619  -14.748385 ]]\n",
            "[[-0.17812763]]\n",
            "[[-1.8302636]]\n",
            "----------------------------------------------------------------\n",
            "82\n",
            "0.17812763154506683\n",
            "1.830263614654541\n",
            "----------------------------------------------------------------\n",
            "\u001b[1m1/1\u001b[0m \u001b[32m━━━━━━━━━━━━━━━━━━━━\u001b[0m\u001b[37m\u001b[0m \u001b[1m2s\u001b[0m 2s/step\n",
            "[[-14.780853  -14.837105  -14.688726  -14.84366     5.0974984 -14.656341\n",
            "  -14.743566  -14.676419  -19.030083  -14.854141  -14.857076  -10.393705\n",
            "  -22.601408  -19.079634  -10.589114  -14.474145  -13.55772   -13.736082\n",
            "  -18.470455  -33.66949   -22.179434  -29.348171  -19.34592   -23.56694\n",
            "   -6.557055  -26.068184  -15.693282   -9.970302  -19.013512   -8.554722\n",
            "  -18.078201  -15.512222  -22.497347  -24.09622   -22.047977  -14.630559\n",
            "  -21.325907  -20.649275  -23.464607  -22.293144  -21.635595  -16.228828\n",
            "  -11.784088  -18.313126  -21.053251  -22.065216  -18.558104  -17.001282\n",
            "  -21.773613  -21.780243  -24.186344  -26.194525  -18.726425  -18.787176\n",
            "  -22.469341  -12.840434  -22.467356  -21.335327  -19.62643   -22.378077\n",
            "  -18.754208  -17.739603   -9.7837925 -13.170163  -16.603764    5.4486256\n",
            "   -9.889851   -5.7393665 -14.440568  -13.945067    3.7113428 -14.7584\n",
            "    2.6109033   3.3914714   1.0808784  10.408748   -4.621589   22.464865\n",
            "    5.4200125  12.90133    16.692177   11.318147   34.017395   14.170532\n",
            "   26.459951   22.857481   38.459553   26.092731   22.326061   41.57499\n",
            "   29.231007   31.76881    33.694576   28.602936   39.849445   29.09687\n",
            "   36.897366   36.972534   35.276695   33.220703   24.336386   28.943628\n",
            "   19.935268   37.041477  -14.81655   -14.754122  -14.675237  -14.76884\n",
            "  -14.699574  -14.706799  -14.684186  -14.766739  -14.662771  -14.833784\n",
            "  -14.663433  -14.694778  -14.779991  -14.84586   -14.656891  -14.771045\n",
            "  -14.746984  -14.799752  -14.768167  -14.659369  -14.650306  -14.837098\n",
            "  -14.778461  -14.750232 ]]\n",
            "[[-0.17811331]]\n",
            "[[-1.8308423]]\n",
            "----------------------------------------------------------------\n",
            "98\n",
            "0.17811331152915955\n",
            "1.8308422565460205\n",
            "----------------------------------------------------------------\n",
            "\u001b[1m1/1\u001b[0m \u001b[32m━━━━━━━━━━━━━━━━━━━━\u001b[0m\u001b[37m\u001b[0m \u001b[1m0s\u001b[0m 451ms/step\n",
            "[[-17.116983   -17.113497   -16.798504   -17.033772     9.162573\n",
            "  -16.980156   -17.039318   -16.969786   -22.609894   -17.165731\n",
            "  -17.088491   -18.136665   -30.989166   -22.844648   -11.815926\n",
            "  -16.707823   -28.810562   -18.562553   -28.02164    -41.3801\n",
            "  -32.2953     -39.01626    -22.805326   -26.380655   -10.516097\n",
            "  -32.708584   -19.22352    -16.21408    -24.288343    -8.262551\n",
            "  -23.88549    -16.9291     -33.26057    -33.63108    -34.481457\n",
            "  -17.021013   -27.276512   -27.69652    -32.55304    -31.961237\n",
            "  -34.13933    -26.17022    -19.470772   -28.361006   -26.530035\n",
            "  -28.313656   -23.355204   -24.631573   -30.037338   -29.542988\n",
            "  -31.99726    -34.019745   -25.799423   -25.821825   -31.85679\n",
            "  -17.882675   -34.832882   -32.142616   -28.984755   -33.70811\n",
            "  -27.667976   -25.35328    -12.00063    -19.82758    -24.226107\n",
            "    7.0587335  -16.075384   -10.210361   -20.372753   -22.628756\n",
            "    3.680122   -24.01625      0.60693216   3.2249942    1.7241445\n",
            "   10.6605     -10.706308    28.791025     2.450981    14.508904\n",
            "   19.319088    10.831532    43.925713    17.676334    33.91099\n",
            "   29.31126     51.0511      35.509987    26.61686     56.158413\n",
            "   42.11897     43.488472    49.52259     41.60584     58.551632\n",
            "   45.28841     56.122284    55.020374    54.231815    49.06483\n",
            "   36.870564    44.424084    32.303204    57.325245   -17.028137\n",
            "  -16.917892   -17.021088   -16.990503   -16.922132   -16.943552\n",
            "  -17.005894   -17.036673   -16.81702    -17.03818    -16.919104\n",
            "  -16.898853   -17.148571   -17.14297    -16.79       -16.933731\n",
            "  -17.080788   -16.999329   -16.901667   -16.98066    -16.802902\n",
            "  -17.08147    -16.955172   -16.931093  ]]\n",
            "[[-0.16119125]]\n",
            "[[-2.5143633]]\n",
            "----------------------------------------------------------------\n",
            "103\n",
            "0.16119125485420227\n",
            "2.5143632888793945\n",
            "----------------------------------------------------------------\n",
            "\u001b[1m1/1\u001b[0m \u001b[32m━━━━━━━━━━━━━━━━━━━━\u001b[0m\u001b[37m\u001b[0m \u001b[1m1s\u001b[0m 1s/step\n",
            "[[-14.778918  -14.835219  -14.686978  -14.8418455   5.094132  -14.654416\n",
            "  -14.741664  -14.67452   -19.027119  -14.852226  -14.855227  -10.387292\n",
            "  -22.59446   -19.076515  -10.588099  -14.472295  -13.545085  -13.732084\n",
            "  -18.462543  -33.663105  -22.171053  -29.340164  -19.343056  -23.56461\n",
            "   -6.553776  -26.062683  -15.690357   -9.96513   -19.009142   -8.554963\n",
            "  -18.073391  -15.511049  -22.488432  -24.088322  -22.03768   -14.628579\n",
            "  -21.320978  -20.643436  -23.457079  -22.285135  -21.625237  -16.220594\n",
            "  -11.777721  -18.304802  -21.048714  -22.060041  -18.55413   -16.99496\n",
            "  -21.766768  -21.773813  -24.179873  -26.188044  -18.720566  -18.78135\n",
            "  -22.461565  -12.836257  -22.457113  -21.326374  -19.618677  -22.36869\n",
            "  -18.746824  -17.733297   -9.781956  -13.164648  -16.59745     5.447292\n",
            "   -9.884727   -5.7356625 -14.435654  -13.937875    3.7113688 -14.750731\n",
            "    2.6125634   3.3916092   1.0803455  10.40854    -4.616549   22.459623\n",
            "    5.422472   12.899999   16.69       11.31855    34.009186   14.167628\n",
            "   26.45378    22.852137   38.449123   26.08493    22.322508   41.562912\n",
            "   29.220331   31.759102   33.68146    28.592165   39.833954   29.083458\n",
            "   36.881443   36.957584   35.260994   33.20758    24.326002   28.930805\n",
            "   19.925024   37.024677  -14.814718  -14.75233   -14.673293  -14.766999\n",
            "  -14.697733  -14.704946  -14.682263  -14.764859  -14.660986  -14.831958\n",
            "  -14.661565  -14.692953  -14.7780285 -14.843956  -14.655125  -14.769254\n",
            "  -14.74505   -14.79793   -14.766398  -14.657447  -14.648522  -14.835238\n",
            "  -14.776658  -14.7484255]]\n",
            "[[-0.17812732]]\n",
            "[[-1.830276]]\n",
            "----------------------------------------------------------------\n",
            "99\n",
            "0.17812731862068176\n",
            "1.8302760124206543\n",
            "----------------------------------------------------------------\n",
            "\u001b[1m1/1\u001b[0m \u001b[32m━━━━━━━━━━━━━━━━━━━━\u001b[0m\u001b[37m\u001b[0m \u001b[1m2s\u001b[0m 2s/step\n",
            "[[-17.120909  -17.117323  -16.80205   -17.037453    9.169405  -16.984062\n",
            "  -17.043175  -16.97364   -22.61591   -17.169617  -17.092241  -18.149677\n",
            "  -31.003262  -22.850975  -11.817987  -16.711576  -28.836193  -18.570665\n",
            "  -28.03769   -41.39306   -32.3123    -39.032505  -22.81114   -26.385384\n",
            "  -10.52275   -32.71974   -19.229452  -16.224573  -24.297207   -8.26206\n",
            "  -23.895248  -16.93148   -33.278656  -33.647102  -34.50235   -17.02503\n",
            "  -27.286512  -27.708363  -32.56831   -31.977484  -34.160343  -26.186926\n",
            "  -19.483688  -28.37789   -26.53924   -28.324156  -23.363264  -24.644396\n",
            "  -30.051226  -29.556034  -32.010384  -34.032894  -25.81131   -25.833647\n",
            "  -31.872564  -17.891148  -34.853664  -32.160778  -29.00048   -33.72715\n",
            "  -27.682957  -25.366074  -12.004355  -19.838768  -24.238916    7.061439\n",
            "  -16.085777  -10.217874  -20.382723  -22.643349    3.6800694 -24.031807\n",
            "    0.6035645   3.2247148   1.7252254  10.660922  -10.716534   28.801657\n",
            "    2.4459915  14.511606   19.323502   10.830713   43.942364   17.682226\n",
            "   33.92351    29.322105   51.07226    35.525814   26.62407    56.18292\n",
            "   42.14063    43.508163   49.54919    41.62769    58.58306    45.31562\n",
            "   56.15459    55.050705   54.263668   49.091457   36.89163    44.4501\n",
            "   32.32399    57.359333  -17.031853  -16.921528  -17.02503   -16.994236\n",
            "  -16.925869  -16.947311  -17.009796  -17.040487  -16.82064   -17.041883\n",
            "  -16.922894  -16.902557  -17.15255   -17.14683   -16.793587  -16.937366\n",
            "  -17.08471   -17.003025  -16.90525   -16.98456   -16.80652   -17.085241\n",
            "  -16.95883   -16.93476  ]]\n",
            "[[-0.16116281]]\n",
            "[[-2.515512]]\n",
            "----------------------------------------------------------------\n",
            "97\n",
            "0.16116280853748322\n",
            "2.515511989593506\n",
            "----------------------------------------------------------------\n",
            "\u001b[1m1/1\u001b[0m \u001b[32m━━━━━━━━━━━━━━━━━━━━\u001b[0m\u001b[37m\u001b[0m \u001b[1m2s\u001b[0m 2s/step\n",
            "[[-14.778875  -14.835178  -14.68694   -14.841806    5.0940585 -14.654374\n",
            "  -14.741623  -14.674479  -19.027054  -14.852184  -14.855187  -10.387152\n",
            "  -22.594309  -19.076447  -10.588076  -14.472254  -13.544809  -13.731997\n",
            "  -18.462372  -33.662964  -22.170872  -29.339989  -19.342993  -23.564558\n",
            "   -6.5537043 -26.062563  -15.690294   -9.965017  -19.009047   -8.554969\n",
            "  -18.073286  -15.511023  -22.488237  -24.08815   -22.037455  -14.628535\n",
            "  -21.32087   -20.64331   -23.456915  -22.284962  -21.625011  -16.220415\n",
            "  -11.777582  -18.30462   -21.048615  -22.059927  -18.554043  -16.994823\n",
            "  -21.766619  -21.773674  -24.179733  -26.187902  -18.72044   -18.781223\n",
            "  -22.461397  -12.836166  -22.45689   -21.32618   -19.61851   -22.368486\n",
            "  -18.746664  -17.73316    -9.781916  -13.164528  -16.597313    5.447263\n",
            "   -9.884615   -5.7355814 -14.435547  -13.937717    3.7113693 -14.750564\n",
            "    2.6125996   3.3916125   1.080334   10.408535   -4.6164393  22.459509\n",
            "    5.4225254  12.899969   16.689953   11.318559   34.009007   14.167565\n",
            "   26.453646   22.852018   38.448895   26.08476    22.32243    41.56265\n",
            "   29.220098   31.75889    33.68118    28.59193    39.83362    29.083166\n",
            "   36.881096   36.95726    35.260654   33.207294   24.325777   28.930525\n",
            "   19.9248     37.02431   -14.814678  -14.752291  -14.673251  -14.766959\n",
            "  -14.697693  -14.704905  -14.682221  -14.764818  -14.660948  -14.831918\n",
            "  -14.661524  -14.692913  -14.777987  -14.843915  -14.655086  -14.769215\n",
            "  -14.745008  -14.79789   -14.76636   -14.657405  -14.648484  -14.835198\n",
            "  -14.776619  -14.748386 ]]\n",
            "[[-0.17812763]]\n",
            "[[-1.8302637]]\n",
            "----------------------------------------------------------------\n",
            "5\n",
            "0.17812763154506683\n",
            "1.8302637338638306\n",
            "----------------------------------------------------------------\n",
            "\u001b[1m1/1\u001b[0m \u001b[32m━━━━━━━━━━━━━━━━━━━━\u001b[0m\u001b[37m\u001b[0m \u001b[1m2s\u001b[0m 2s/step\n",
            "[[-15.495608   -15.497795   -15.490178   -15.495353    -6.830802\n",
            "  -15.49719    -15.494675   -15.494903    -8.045304   -15.491869\n",
            "  -15.49577     -6.140046    -5.957989    -6.9404955   -8.223865\n",
            "   -3.937424    -5.7841554   -5.8845525   -5.208345    -4.7767906\n",
            "   -3.8733337   -4.6457524   -3.0385666   -2.727203    -2.0805106\n",
            "   -1.0714873   -0.70779914  -0.23609215   0.20351407   0.57246935\n",
            "    1.0329263    1.0909443    0.8606292    1.0982459    0.74848264\n",
            "    0.94653875   1.4591222    1.1533906    0.9541584    1.0100849\n",
            "    0.7969819    0.12408343   0.8183584    0.68436587   0.21417911\n",
            "    0.471209     1.1238176    0.6986467   -0.70414084  -0.02398634\n",
            "    0.12212233  -0.36851224   0.68442893  -0.431723     0.42601192\n",
            "    0.42182937   0.8060281    0.7887919    0.2095722    0.8951584\n",
            "    0.7826781    0.5245367   -0.3424948    0.58344805   0.7048327\n",
            "    0.45413652   0.08818746   0.62244487   0.32911938   0.67326635\n",
            "   -0.32162443   0.80601805   0.5570235    0.5627432    0.51603043\n",
            "    0.64222676   0.750638     0.2082142    0.9896818    0.41661495\n",
            "    0.7767972    0.7926431    0.2809518    0.95605636   0.30622166\n",
            "    0.4302469    0.4041079    0.5709243    0.74126154   0.5369142\n",
            "    0.45282352   0.32067046   0.3855796    0.45571828   0.46982285\n",
            "    0.7072318    0.82857734   0.8157176    0.35088795   0.5191208\n",
            "    0.63135225   0.37923706   0.7229133   -0.3967196  -15.492668\n",
            "  -15.493454   -15.4944105  -15.4955845  -15.493192   -15.493508\n",
            "  -15.497052   -15.495076   -15.49279    -15.496237   -15.494884\n",
            "  -15.493851   -15.495485   -15.491553   -15.492599   -15.495132\n",
            "  -15.499175   -15.493025   -15.491812   -15.500785   -15.495555\n",
            "  -15.492171   -15.494121   -15.495068  ]]\n",
            "[[0.01148426]]\n",
            "[[0.11850548]]\n",
            "----------------------------------------------------------------\n",
            "72\n",
            "0.0\n",
            "0.0\n",
            "----------------------------------------------------------------\n",
            "\u001b[1m1/1\u001b[0m \u001b[32m━━━━━━━━━━━━━━━━━━━━\u001b[0m\u001b[37m\u001b[0m \u001b[1m2s\u001b[0m 2s/step\n",
            "[[-17.123987  -17.120321  -16.80483   -17.040339    9.174761  -16.987123\n",
            "  -17.0462    -16.976662  -22.620626  -17.172663  -17.09518   -18.159882\n",
            "  -31.014315  -22.855938  -11.819604  -16.71452   -28.856293  -18.577026\n",
            "  -28.050278  -41.403217  -32.32563   -39.045246  -22.815699  -26.389091\n",
            "  -10.527967  -32.728493  -19.234104  -16.232801  -24.30416    -8.261675\n",
            "  -23.9029    -16.933348  -33.29284   -33.659668  -34.518734  -17.028181\n",
            "  -27.294353  -27.71765   -32.580288  -31.990225  -34.17682   -26.200026\n",
            "  -19.493818  -28.39113   -26.546457  -28.33239   -23.369585  -24.654451\n",
            "  -30.062115  -29.566263  -32.020676  -34.043205  -25.82063   -25.842916\n",
            "  -31.884935  -17.897793  -34.869957  -32.17502   -29.012814  -33.74208\n",
            "  -27.694702  -25.376106  -12.007277  -19.84754   -24.24896     7.063561\n",
            "  -16.09393   -10.223765  -20.39054   -22.654793    3.6800282 -24.044006\n",
            "    0.6009238   3.224495    1.726073   10.661254  -10.724552   28.809992\n",
            "    2.442079   14.513724   19.326963   10.830072   43.95542    17.686846\n",
            "   33.93333    29.33061    51.088852   35.538223   26.629725   56.202137\n",
            "   42.15761    43.52361    49.57005    41.644825   58.607704   45.336956\n",
            "   56.179924   55.074486   54.288647   49.112335   36.908146   44.470497\n",
            "   32.340286   57.386063  -17.034767  -16.92438   -17.028122  -16.997164\n",
            "  -16.928797  -16.95026   -17.012856  -17.043478  -16.82348   -17.044788\n",
            "  -16.925867  -16.905462  -17.155672  -17.149857  -16.796396  -16.940216\n",
            "  -17.087784  -17.005924  -16.908062  -16.98762   -16.809357  -17.0882\n",
            "  -16.961699  -16.937632 ]]\n",
            "[[-0.16114052]]\n",
            "[[-2.5164127]]\n",
            "----------------------------------------------------------------\n",
            "96\n",
            "0.16114051640033722\n",
            "2.5164127349853516\n",
            "----------------------------------------------------------------\n",
            "\u001b[1m1/1\u001b[0m \u001b[32m━━━━━━━━━━━━━━━━━━━━\u001b[0m\u001b[37m\u001b[0m \u001b[1m1s\u001b[0m 534ms/step\n",
            "[[-14.778875  -14.835177  -14.68694   -14.841806    5.0940576 -14.654374\n",
            "  -14.741623  -14.674479  -19.027054  -14.852184  -14.855187  -10.387152\n",
            "  -22.594307  -19.076447  -10.588076  -14.472254  -13.544808  -13.731997\n",
            "  -18.462372  -33.662964  -22.17087   -29.339989  -19.342993  -23.564558\n",
            "   -6.553704  -26.062563  -15.690293   -9.965016  -19.009047   -8.554969\n",
            "  -18.073286  -15.511023  -22.488235  -24.088148  -22.037453  -14.628535\n",
            "  -21.32087   -20.643309  -23.456913  -22.28496   -21.62501   -16.220413\n",
            "  -11.777581  -18.304619  -21.048615  -22.059927  -18.554043  -16.994822\n",
            "  -21.766617  -21.773672  -24.179731  -26.1879    -18.720438  -18.781221\n",
            "  -22.461395  -12.836165  -22.456888  -21.32618   -19.618507  -22.368484\n",
            "  -18.746662  -17.733158   -9.781916  -13.164527  -16.597311    5.447263\n",
            "   -9.884614   -5.7355814 -14.435546  -13.937717    3.7113693 -14.750564\n",
            "    2.6125996   3.3916125   1.080334   10.408535   -4.616439   22.459509\n",
            "    5.4225254  12.899969   16.689953   11.318559   34.009007   14.167564\n",
            "   26.453644   22.852018   38.448895   26.084759   22.32243    41.562645\n",
            "   29.220097   31.758888   33.681175   28.591928   39.833614   29.083166\n",
            "   36.881092   36.957256   35.26065    33.20729    24.325775   28.930523\n",
            "   19.924799   37.024307  -14.814678  -14.752291  -14.67325   -14.766959\n",
            "  -14.697693  -14.704905  -14.682221  -14.764818  -14.660947  -14.831918\n",
            "  -14.661524  -14.692913  -14.777986  -14.843915  -14.655086  -14.769215\n",
            "  -14.745008  -14.79789   -14.76636   -14.657405  -14.648483  -14.835198\n",
            "  -14.776619  -14.748386 ]]\n",
            "[[-0.17812763]]\n",
            "[[-1.8302636]]\n",
            "----------------------------------------------------------------\n",
            "85\n",
            "0.17812763154506683\n",
            "1.830263614654541\n",
            "----------------------------------------------------------------\n"
          ]
        }
      ],
      "source": [
        "temperature = 10.0\n",
        "num_predictions = 10\n",
        "\n",
        "sample_notes = np.stack([raw_notes[key] for key in key_order], axis=1)\n",
        "\n",
        "# The initial sequence of notes; pitch is normalized similar to training\n",
        "\n",
        "# sequences\n",
        "input_notes = (\n",
        "    [[80,0.12,0.36]])\n",
        "print(len(input_notes))\n",
        "print('///////////////////////////////////')\n",
        "generated_notes_1 = []\n",
        "prev_start = 0\n",
        "for _ in range(num_predictions):\n",
        "  pitch, step, duration = predict_next_note(input_notes, model, temperature)\n",
        "  start = prev_start + step\n",
        "  end = start + duration\n",
        "  input_note = (pitch, step, duration)\n",
        "  generated_notes_1.append((*input_note, start, end))\n",
        "  input_notes = np.delete(input_notes, 0, axis=0)\n",
        "  input_notes = np.append(input_notes, np.expand_dims(input_note, 0), axis=0)\n",
        "  prev_start = end\n",
        "\n",
        "generated_notes_1 = pd.DataFrame(\n",
        "    generated_notes_1, columns=(*key_order, 'start', 'end'))"
      ]
    },
    {
      "cell_type": "code",
      "execution_count": 66,
      "metadata": {
        "colab": {
          "base_uri": "https://localhost:8080/",
          "height": 424
        },
        "id": "BA7zXW9vi8Jm",
        "outputId": "a8a133bf-3fd5-4711-cf4f-f86fd9996249"
      },
      "outputs": [
        {
          "data": {
            "text/html": [
              "<div>\n",
              "<style scoped>\n",
              "    .dataframe tbody tr th:only-of-type {\n",
              "        vertical-align: middle;\n",
              "    }\n",
              "\n",
              "    .dataframe tbody tr th {\n",
              "        vertical-align: top;\n",
              "    }\n",
              "\n",
              "    .dataframe thead th {\n",
              "        text-align: right;\n",
              "    }\n",
              "</style>\n",
              "<table border=\"1\" class=\"dataframe\">\n",
              "  <thead>\n",
              "    <tr style=\"text-align: right;\">\n",
              "      <th></th>\n",
              "      <th>pitch</th>\n",
              "      <th>step</th>\n",
              "      <th>duration</th>\n",
              "      <th>start</th>\n",
              "      <th>end</th>\n",
              "    </tr>\n",
              "  </thead>\n",
              "  <tbody>\n",
              "    <tr>\n",
              "      <th>0</th>\n",
              "      <td>93</td>\n",
              "      <td>0.161141</td>\n",
              "      <td>2.516413</td>\n",
              "      <td>0.161141</td>\n",
              "      <td>2.677553</td>\n",
              "    </tr>\n",
              "    <tr>\n",
              "      <th>1</th>\n",
              "      <td>82</td>\n",
              "      <td>0.178128</td>\n",
              "      <td>1.830264</td>\n",
              "      <td>2.855681</td>\n",
              "      <td>4.685944</td>\n",
              "    </tr>\n",
              "    <tr>\n",
              "      <th>2</th>\n",
              "      <td>98</td>\n",
              "      <td>0.178113</td>\n",
              "      <td>1.830842</td>\n",
              "      <td>4.864058</td>\n",
              "      <td>6.694900</td>\n",
              "    </tr>\n",
              "    <tr>\n",
              "      <th>3</th>\n",
              "      <td>103</td>\n",
              "      <td>0.161191</td>\n",
              "      <td>2.514363</td>\n",
              "      <td>6.856091</td>\n",
              "      <td>9.370455</td>\n",
              "    </tr>\n",
              "    <tr>\n",
              "      <th>4</th>\n",
              "      <td>99</td>\n",
              "      <td>0.178127</td>\n",
              "      <td>1.830276</td>\n",
              "      <td>9.548582</td>\n",
              "      <td>11.378858</td>\n",
              "    </tr>\n",
              "    <tr>\n",
              "      <th>5</th>\n",
              "      <td>97</td>\n",
              "      <td>0.161163</td>\n",
              "      <td>2.515512</td>\n",
              "      <td>11.540021</td>\n",
              "      <td>14.055533</td>\n",
              "    </tr>\n",
              "    <tr>\n",
              "      <th>6</th>\n",
              "      <td>5</td>\n",
              "      <td>0.178128</td>\n",
              "      <td>1.830264</td>\n",
              "      <td>14.233660</td>\n",
              "      <td>16.063924</td>\n",
              "    </tr>\n",
              "    <tr>\n",
              "      <th>7</th>\n",
              "      <td>72</td>\n",
              "      <td>0.000000</td>\n",
              "      <td>0.000000</td>\n",
              "      <td>16.063924</td>\n",
              "      <td>16.063924</td>\n",
              "    </tr>\n",
              "    <tr>\n",
              "      <th>8</th>\n",
              "      <td>96</td>\n",
              "      <td>0.161141</td>\n",
              "      <td>2.516413</td>\n",
              "      <td>16.225065</td>\n",
              "      <td>18.741477</td>\n",
              "    </tr>\n",
              "    <tr>\n",
              "      <th>9</th>\n",
              "      <td>85</td>\n",
              "      <td>0.178128</td>\n",
              "      <td>1.830264</td>\n",
              "      <td>18.919605</td>\n",
              "      <td>20.749869</td>\n",
              "    </tr>\n",
              "  </tbody>\n",
              "</table>\n",
              "</div>"
            ],
            "text/plain": [
              "   pitch      step  duration      start        end\n",
              "0     93  0.161141  2.516413   0.161141   2.677553\n",
              "1     82  0.178128  1.830264   2.855681   4.685944\n",
              "2     98  0.178113  1.830842   4.864058   6.694900\n",
              "3    103  0.161191  2.514363   6.856091   9.370455\n",
              "4     99  0.178127  1.830276   9.548582  11.378858\n",
              "5     97  0.161163  2.515512  11.540021  14.055533\n",
              "6      5  0.178128  1.830264  14.233660  16.063924\n",
              "7     72  0.000000  0.000000  16.063924  16.063924\n",
              "8     96  0.161141  2.516413  16.225065  18.741477\n",
              "9     85  0.178128  1.830264  18.919605  20.749869"
            ]
          },
          "execution_count": 66,
          "metadata": {},
          "output_type": "execute_result"
        }
      ],
      "source": [
        "generated_notes_1"
      ]
    },
    {
      "cell_type": "code",
      "execution_count": 67,
      "metadata": {
        "id": "8ebCHoY-XwX5"
      },
      "outputs": [],
      "source": [
        "def notes_to_midi(\n",
        "  notes: pd.DataFrame,\n",
        "  out_file: str,\n",
        "  instrument_name: str,\n",
        "  velocity: int = 100,  # note loudness\n",
        ") -> pretty_midi.PrettyMIDI:\n",
        "\n",
        "  pm = pretty_midi.PrettyMIDI()\n",
        "  instrument = pretty_midi.Instrument(\n",
        "      program=pretty_midi.instrument_name_to_program(     # again the pretty midi is converting the notes to midi\n",
        "          instrument_name))\n",
        "\n",
        "  prev_start = 0\n",
        "  for i, note in notes.iterrows():\n",
        "    start = float(note['start'])\n",
        "    end = float(note['end'])\n",
        "    note = pretty_midi.Note(\n",
        "        velocity=velocity,\n",
        "        pitch=int(note['pitch']),\n",
        "        start=start,\n",
        "        end=end,\n",
        "    )\n",
        "    instrument.notes.append(note)\n",
        "    prev_start = end\n",
        "\n",
        "  pm.instruments.append(instrument)\n",
        "  pm.write(out_file)\n",
        "  return pm"
      ]
    },
    {
      "cell_type": "code",
      "execution_count": 68,
      "metadata": {
        "colab": {
          "base_uri": "https://localhost:8080/",
          "height": 75
        },
        "id": "28bxlI6pjCJN",
        "outputId": "6d73a5dd-fcb1-4cc4-a0a9-b3c19913bdd2"
      },
      "outputs": [
        {
          "ename": "AttributeError",
          "evalue": "module 'fluidsynth' has no attribute 'Synth'",
          "output_type": "error",
          "traceback": [
            "\u001b[1;31m---------------------------------------------------------------------------\u001b[0m",
            "\u001b[1;31mAttributeError\u001b[0m                            Traceback (most recent call last)",
            "Cell \u001b[1;32mIn[68], line 4\u001b[0m\n\u001b[0;32m      1\u001b[0m out_file \u001b[38;5;241m=\u001b[39m \u001b[38;5;124m'\u001b[39m\u001b[38;5;124moutput.mid\u001b[39m\u001b[38;5;124m'\u001b[39m\n\u001b[0;32m      2\u001b[0m out_pm1 \u001b[38;5;241m=\u001b[39m notes_to_midi(\n\u001b[0;32m      3\u001b[0m     generated_notes_1, out_file\u001b[38;5;241m=\u001b[39mout_file, instrument_name\u001b[38;5;241m=\u001b[39minstrument_name)\n\u001b[1;32m----> 4\u001b[0m \u001b[43mdisplay_audio\u001b[49m\u001b[43m(\u001b[49m\u001b[43mout_pm1\u001b[49m\u001b[43m)\u001b[49m\n",
            "Cell \u001b[1;32mIn[17], line 2\u001b[0m, in \u001b[0;36mdisplay_audio\u001b[1;34m(pm, seconds)\u001b[0m\n\u001b[0;32m      1\u001b[0m \u001b[38;5;28;01mdef\u001b[39;00m \u001b[38;5;21mdisplay_audio\u001b[39m(pm: pretty_midi\u001b[38;5;241m.\u001b[39mPrettyMIDI, seconds\u001b[38;5;241m=\u001b[39m\u001b[38;5;241m60\u001b[39m):\n\u001b[1;32m----> 2\u001b[0m   waveform \u001b[38;5;241m=\u001b[39m \u001b[43mpm\u001b[49m\u001b[38;5;241;43m.\u001b[39;49m\u001b[43mfluidsynth\u001b[49m\u001b[43m(\u001b[49m\u001b[43mfs\u001b[49m\u001b[38;5;241;43m=\u001b[39;49m\u001b[43m_SAMPLING_RATE\u001b[49m\u001b[43m)\u001b[49m\n\u001b[0;32m      3\u001b[0m   \u001b[38;5;66;03m# Take a sample of the generated waveform to mitigate kernel resets\u001b[39;00m\n\u001b[0;32m      4\u001b[0m   waveform_short \u001b[38;5;241m=\u001b[39m waveform[:seconds\u001b[38;5;241m*\u001b[39m_SAMPLING_RATE]\n",
            "File \u001b[1;32mc:\\Users\\DELL\\AppData\\Local\\Programs\\Python\\Python311\\Lib\\site-packages\\pretty_midi\\pretty_midi.py:974\u001b[0m, in \u001b[0;36mPrettyMIDI.fluidsynth\u001b[1;34m(self, fs, sf2_path)\u001b[0m\n\u001b[0;32m    972\u001b[0m     \u001b[38;5;28;01mreturn\u001b[39;00m np\u001b[38;5;241m.\u001b[39marray([])\n\u001b[0;32m    973\u001b[0m \u001b[38;5;66;03m# Get synthesized waveform for each instrument\u001b[39;00m\n\u001b[1;32m--> 974\u001b[0m waveforms \u001b[38;5;241m=\u001b[39m \u001b[43m[\u001b[49m\u001b[43mi\u001b[49m\u001b[38;5;241;43m.\u001b[39;49m\u001b[43mfluidsynth\u001b[49m\u001b[43m(\u001b[49m\u001b[43mfs\u001b[49m\u001b[38;5;241;43m=\u001b[39;49m\u001b[43mfs\u001b[49m\u001b[43m,\u001b[49m\n\u001b[0;32m    975\u001b[0m \u001b[43m                          \u001b[49m\u001b[43msf2_path\u001b[49m\u001b[38;5;241;43m=\u001b[39;49m\u001b[43msf2_path\u001b[49m\u001b[43m)\u001b[49m\u001b[43m \u001b[49m\u001b[38;5;28;43;01mfor\u001b[39;49;00m\u001b[43m \u001b[49m\u001b[43mi\u001b[49m\u001b[43m \u001b[49m\u001b[38;5;129;43;01min\u001b[39;49;00m\u001b[43m \u001b[49m\u001b[38;5;28;43mself\u001b[39;49m\u001b[38;5;241;43m.\u001b[39;49m\u001b[43minstruments\u001b[49m\u001b[43m]\u001b[49m\n\u001b[0;32m    976\u001b[0m \u001b[38;5;66;03m# Allocate output waveform, with #sample = max length of all waveforms\u001b[39;00m\n\u001b[0;32m    977\u001b[0m synthesized \u001b[38;5;241m=\u001b[39m np\u001b[38;5;241m.\u001b[39mzeros(np\u001b[38;5;241m.\u001b[39mmax([w\u001b[38;5;241m.\u001b[39mshape[\u001b[38;5;241m0\u001b[39m] \u001b[38;5;28;01mfor\u001b[39;00m w \u001b[38;5;129;01min\u001b[39;00m waveforms]))\n",
            "File \u001b[1;32mc:\\Users\\DELL\\AppData\\Local\\Programs\\Python\\Python311\\Lib\\site-packages\\pretty_midi\\pretty_midi.py:974\u001b[0m, in \u001b[0;36m<listcomp>\u001b[1;34m(.0)\u001b[0m\n\u001b[0;32m    972\u001b[0m     \u001b[38;5;28;01mreturn\u001b[39;00m np\u001b[38;5;241m.\u001b[39marray([])\n\u001b[0;32m    973\u001b[0m \u001b[38;5;66;03m# Get synthesized waveform for each instrument\u001b[39;00m\n\u001b[1;32m--> 974\u001b[0m waveforms \u001b[38;5;241m=\u001b[39m [\u001b[43mi\u001b[49m\u001b[38;5;241;43m.\u001b[39;49m\u001b[43mfluidsynth\u001b[49m\u001b[43m(\u001b[49m\u001b[43mfs\u001b[49m\u001b[38;5;241;43m=\u001b[39;49m\u001b[43mfs\u001b[49m\u001b[43m,\u001b[49m\n\u001b[0;32m    975\u001b[0m \u001b[43m                          \u001b[49m\u001b[43msf2_path\u001b[49m\u001b[38;5;241;43m=\u001b[39;49m\u001b[43msf2_path\u001b[49m\u001b[43m)\u001b[49m \u001b[38;5;28;01mfor\u001b[39;00m i \u001b[38;5;129;01min\u001b[39;00m \u001b[38;5;28mself\u001b[39m\u001b[38;5;241m.\u001b[39minstruments]\n\u001b[0;32m    976\u001b[0m \u001b[38;5;66;03m# Allocate output waveform, with #sample = max length of all waveforms\u001b[39;00m\n\u001b[0;32m    977\u001b[0m synthesized \u001b[38;5;241m=\u001b[39m np\u001b[38;5;241m.\u001b[39mzeros(np\u001b[38;5;241m.\u001b[39mmax([w\u001b[38;5;241m.\u001b[39mshape[\u001b[38;5;241m0\u001b[39m] \u001b[38;5;28;01mfor\u001b[39;00m w \u001b[38;5;129;01min\u001b[39;00m waveforms]))\n",
            "File \u001b[1;32mc:\\Users\\DELL\\AppData\\Local\\Programs\\Python\\Python311\\Lib\\site-packages\\pretty_midi\\instrument.py:468\u001b[0m, in \u001b[0;36mInstrument.fluidsynth\u001b[1;34m(self, fs, sf2_path)\u001b[0m\n\u001b[0;32m    465\u001b[0m     \u001b[38;5;28;01mreturn\u001b[39;00m np\u001b[38;5;241m.\u001b[39marray([])\n\u001b[0;32m    467\u001b[0m \u001b[38;5;66;03m# Create fluidsynth instance\u001b[39;00m\n\u001b[1;32m--> 468\u001b[0m fl \u001b[38;5;241m=\u001b[39m \u001b[43mfluidsynth\u001b[49m\u001b[38;5;241;43m.\u001b[39;49m\u001b[43mSynth\u001b[49m(samplerate\u001b[38;5;241m=\u001b[39mfs)\n\u001b[0;32m    469\u001b[0m \u001b[38;5;66;03m# Load in the soundfont\u001b[39;00m\n\u001b[0;32m    470\u001b[0m sfid \u001b[38;5;241m=\u001b[39m fl\u001b[38;5;241m.\u001b[39msfload(sf2_path)\n",
            "\u001b[1;31mAttributeError\u001b[0m: module 'fluidsynth' has no attribute 'Synth'"
          ]
        }
      ],
      "source": [
        "out_file = 'output.mid'\n",
        "out_pm1 = notes_to_midi(\n",
        "    generated_notes_1, out_file=out_file, instrument_name=instrument_name)\n",
        "display_audio(out_pm1)"
      ]
    },
    {
      "cell_type": "code",
      "execution_count": null,
      "metadata": {
        "id": "AMQJrzJsjFRQ"
      },
      "outputs": [],
      "source": [
        "# from google.colab import files\n",
        "# files.download(out_file)"
      ]
    },
    {
      "cell_type": "code",
      "execution_count": null,
      "metadata": {
        "colab": {
          "base_uri": "https://localhost:8080/",
          "height": 245
        },
        "id": "6rIEdVIAjPxg",
        "outputId": "393edf4c-5449-4482-bf9a-6fdd6be057e6"
      },
      "outputs": [
        {
          "data": {
            "image/png": "[encoded data removed]",
            "text/plain": [
              "<Figure size 2000x400 with 1 Axes>"
            ]
          },
          "metadata": {},
          "output_type": "display_data"
        }
      ],
      "source": [
        "plot_piano_roll(generated_notes_1)"
      ]
    },
    {
      "cell_type": "code",
      "execution_count": null,
      "metadata": {
        "colab": {
          "base_uri": "https://localhost:8080/",
          "height": 362
        },
        "id": "nyyPqgmmjUbg",
        "outputId": "d3a276c0-c2f2-473c-82d9-39098aa8e497"
      },
      "outputs": [
        {
          "data": {
            "image/png": "[encoded data removed]",
            "text/plain": [
              "<Figure size 1500x500 with 3 Axes>"
            ]
          },
          "metadata": {},
          "output_type": "display_data"
        }
      ],
      "source": [
        "plot_distributions(generated_notes_1)"
      ]
    },
    {
      "cell_type": "code",
      "execution_count": null,
      "metadata": {
        "id": "6dxjLq5J_LmQ"
      },
      "outputs": [],
      "source": []
    }
  ],
  "metadata": {
    "accelerator": "GPU",
    "colab": {
      "gpuType": "T4",
      "provenance": []
    },
    "kernelspec": {
      "display_name": "Python 3",
      "name": "python3"
    },
    "language_info": {
      "codemirror_mode": {
        "name": "ipython",
        "version": 3
      },
      "file_extension": ".py",
      "mimetype": "text/x-python",
      "name": "python",
      "nbconvert_exporter": "python",
      "pygments_lexer": "ipython3",
      "version": "3.11.0"
    }
  },
  "nbformat": 4,
  "nbformat_minor": 0
}
