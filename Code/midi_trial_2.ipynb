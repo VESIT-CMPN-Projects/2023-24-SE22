{
  "cells": [
    {
      "cell_type": "markdown",
      "metadata": {
        "id": "MT8Y9M0xU3IF"
      },
      "source": []
    },
    {
      "cell_type": "markdown",
      "metadata": {
        "id": "PZt-BYcLaWRS"
      },
      "source": [
        "**L**"
      ]
    },
    {
      "cell_type": "code",
      "execution_count": 1,
      "metadata": {
        "colab": {
          "base_uri": "https://localhost:8080/"
        },
        "id": "DY_urllwSLxZ",
        "outputId": "4a89ba93-afdd-46a3-b6c6-29f07ee578e3"
      },
      "outputs": [],
      "source": [
        "# !pip show fluidsynth"
      ]
    },
    {
      "cell_type": "code",
      "execution_count": 2,
      "metadata": {
        "colab": {
          "base_uri": "https://localhost:8080/"
        },
        "id": "Z53TLHdOO8Pe",
        "outputId": "c93b133d-a951-41e4-837b-1dd6008ed019"
      },
      "outputs": [],
      "source": [
        "# !pip show tensorflow"
      ]
    },
    {
      "cell_type": "code",
      "execution_count": 3,
      "metadata": {
        "colab": {
          "base_uri": "https://localhost:8080/"
        },
        "id": "YFBVmmDvMgx0",
        "outputId": "9232aa77-0c66-4cb2-d308-08473e7e7a22"
      },
      "outputs": [],
      "source": [
        "# %pip install tensorflow\n"
      ]
    },
    {
      "cell_type": "code",
      "execution_count": 4,
      "metadata": {
        "colab": {
          "base_uri": "https://localhost:8080/"
        },
        "id": "wDkeqKBtJWqL",
        "outputId": "3945fef9-34b2-4e6a-e466-7fb62f7b8c47"
      },
      "outputs": [],
      "source": [
        "# !pip show keras"
      ]
    },
    {
      "cell_type": "code",
      "execution_count": 5,
      "metadata": {
        "id": "i2EKrNbFAlxl"
      },
      "outputs": [],
      "source": [
        "# from google.colab import drive\n",
        "# drive.mount('/content/dataset')"
      ]
    },
    {
      "cell_type": "code",
      "execution_count": 6,
      "metadata": {},
      "outputs": [],
      "source": [
        "# !choco install fluidsynth\n"
      ]
    },
    {
      "cell_type": "code",
      "execution_count": 7,
      "metadata": {
        "colab": {
          "base_uri": "https://localhost:8080/"
        },
        "id": "kYTW1LbvWhWl",
        "outputId": "32a3aab4-6570-419b-8f2b-a461e7542f8c"
      },
      "outputs": [],
      "source": [
        "# !sudo apt install -y fluidsynth\n",
        "# print(\"hi\")"
      ]
    },
    {
      "cell_type": "code",
      "execution_count": 8,
      "metadata": {
        "colab": {
          "base_uri": "https://localhost:8080/"
        },
        "id": "qQQc6gkEWpw_",
        "outputId": "a9f8df6e-e427-4db0-dd7c-a22e33667647"
      },
      "outputs": [],
      "source": [
        "# %pip install --upgrade pyfluidsynth"
      ]
    },
    {
      "cell_type": "code",
      "execution_count": 9,
      "metadata": {
        "colab": {
          "base_uri": "https://localhost:8080/"
        },
        "id": "yfrx1YwZW4Vp",
        "outputId": "0fb78baa-39e1-41ff-e381-1637d82d869f"
      },
      "outputs": [],
      "source": [
        "# %pip install pretty_midi"
      ]
    },
    {
      "cell_type": "code",
      "execution_count": null,
      "metadata": {},
      "outputs": [],
      "source": []
    },
    {
      "cell_type": "code",
      "execution_count": 10,
      "metadata": {
        "id": "dd5EjveAW8A8"
      },
      "outputs": [],
      "source": [
        "import collections\n",
        "import datetime\n",
        "import fluidsynth\n",
        "import glob\n",
        "import numpy as np\n",
        "import pathlib\n",
        "import pandas as pd\n",
        "import pretty_midi\n",
        "import seaborn as sns\n",
        "import tensorflow as tf\n",
        "\n",
        "from IPython import display\n",
        "from matplotlib import pyplot as plt\n",
        "from typing import Optional"
      ]
    },
    {
      "cell_type": "code",
      "execution_count": 11,
      "metadata": {
        "id": "LkVB8lu6XCZd"
      },
      "outputs": [],
      "source": [
        "seed = 42\n",
        "tf.random.set_seed(seed)\n",
        "np.random.seed(seed)\n",
        "\n",
        "# Sampling rate for audio playback\n",
        "_SAMPLING_RATE = 16000"
      ]
    },
    {
      "cell_type": "code",
      "execution_count": 12,
      "metadata": {
        "id": "XNhStZBbXNgT"
      },
      "outputs": [],
      "source": [
        "# data_dir = pathlib.Path('data/maestro-v2.0.0')\n",
        "# if not data_dir.exists():\n",
        "#   tf.keras.utils.get_file(\n",
        "#       'maestro-v2.0.0-midi.zip',\n",
        "#       origin='https://storage.googleapis.com/magentadata/datasets/maestro/v2.0.0/maestro-v2.0.0-midi.zip',\n",
        "#       extract=True,\n",
        "#       cache_dir='.', cache_subdir='data',\n",
        "#   )"
      ]
    },
    {
      "cell_type": "code",
      "execution_count": 13,
      "metadata": {
        "colab": {
          "base_uri": "https://localhost:8080/"
        },
        "id": "bnoLhO5TXVjf",
        "outputId": "83189c7d-63d4-41f4-aadd-ee7cb10715f1"
      },
      "outputs": [],
      "source": [
        "# filenames = glob.glob(str('*.mid*'))  #this is storing all the file in array\n",
        "# print('Number of files:', len(filenames))"
      ]
    },
    {
      "cell_type": "code",
      "execution_count": 14,
      "metadata": {},
      "outputs": [],
      "source": [
        "# import glob\n",
        "\n",
        "# # Specify the directory path where your MIDI files are located\n",
        "# directory_path = 'C:/Users/DELL/Downloads/mididataset sad songs/mididataset sad songs'\n",
        "\n",
        "# # Use the specified directory path with glob.glob to find MIDI files\n",
        "# filenames = glob.glob(directory_path + '*')\n",
        "\n",
        "# # Print the number of files found\n",
        "# print('Number of files:', len(filenames))\n",
        "\n",
        "# # Print the filenames for verification\n",
        "# print('Files:', filenames)\n"
      ]
    },
    {
      "cell_type": "code",
      "execution_count": 15,
      "metadata": {},
      "outputs": [
        {
          "name": "stdout",
          "output_type": "stream",
          "text": [
            "Number of files: 108\n",
            "Files: ['C:/Users/mruna/Downloads/dataset/mididataset sad songs/mididataset sad songs\\\\Abhagi Piya Ki Video Song  Kanika Kapoor  Ahmed  Mohammed Hussain  T-Series.mid', 'C:/Users/mruna/Downloads/dataset/mididataset sad songs/mididataset sad songs\\\\Abhagi Piya Ki Video Song  Tera Intezaar  Arbaaz Khan  Sunny Leone  Kanika Kapoor   T-Series.mid', 'C:/Users/mruna/Downloads/dataset/mididataset sad songs/mididataset sad songs\\\\AGAR TUM SAATH HO Full VIDEO song  Tamasha  Ranbir Kapoor, Deepika Padukone  T-Series.mid', 'C:/Users/mruna/Downloads/dataset/mididataset sad songs/mididataset sad songs\\\\Arijit Singh Pachtaoge  Vicky Kaushal, Nora Fatehi Jaani, B Praak, Arvindr Khaira  Bhushan Kumar.mid', 'C:/Users/mruna/Downloads/dataset/mididataset sad songs/mididataset sad songs\\\\ARIJIT SINGH VERSION Bekhayali Full Song  Kabir Singh  Shahid K,Kiara A  Sandeep Reddy V Irshad.mid', 'C:/Users/mruna/Downloads/dataset/mididataset sad songs/mididataset sad songs\\\\Arijit Singh Yeh Ishq Hai Full Video Song  Rangoon  Saif Ali Khan, Kangana Ranaut, Shahid Kapoor.mid', 'C:/Users/mruna/Downloads/dataset/mididataset sad songs/mididataset sad songs\\\\Armaan Malik Tootey Khaab (Official Video)  Songster, Kunaal Vermaa  Shabby  Bhushan Kumar.mid', 'C:/Users/mruna/Downloads/dataset/mididataset sad songs/mididataset sad songs\\\\Atif A Dekhte Dekhte Song  Batti Gul Meter Chalu  Shahid K Shraddha K  Nusrat Saab Rochak Manoj.mid', 'C:/Users/mruna/Downloads/dataset/mididataset sad songs/mididataset sad songs\\\\Atif Aslam Pehli Dafa Song (Video)  Ileana DCruz  Latest Hindi Song 2017  T-Series.mid', 'C:/Users/mruna/Downloads/dataset/mididataset sad songs/mididataset sad songs\\\\Baaghi 2 Lo Safar Song  Tiger Shroff  Disha P  Mithoon  Jubin N  Ahmed Khan Sajid Nadiadwala.mid', 'C:/Users/mruna/Downloads/dataset/mididataset sad songs/mididataset sad songs\\\\BAARISHEIN Song  Arko Feat. Atif Aslam   Nushrat Bharucha  New Romantic Song 2019  T-Series.mid', 'C:/Users/mruna/Downloads/dataset/mididataset sad songs/mididataset sad songs\\\\Banjaara Full Video Song  Ek Villain  Shraddha Kapoor, Siddharth Malhotra.mid', 'C:/Users/mruna/Downloads/dataset/mididataset sad songs/mididataset sad songs\\\\Boond Boond  Hate Story IV  Urvashi Rautela  Vivan B  Arko  Jubin N  Neeti Mohan Manoj M.mid', 'C:/Users/mruna/Downloads/dataset/mididataset sad songs/mididataset sad songs\\\\Bumro Full Song  Notebook  Zaheer Iqbal  Pranutan Bahl  Kamaal Khan  Vishal Mishra.mid', 'C:/Users/mruna/Downloads/dataset/mididataset sad songs/mididataset sad songs\\\\Chashni Reprise Song  Bharat  Salman Khan, Katrina Kaif  Vishal  Shekhar ft. Neha Bhasin.mid', 'C:/Users/mruna/Downloads/dataset/mididataset sad songs/mididataset sad songs\\\\Commando 2 Tere Dil Mein  Vidyut Jammwal, Adah Sharma, Esha Gupta, Freddy Daruwala, Armaan Malik.mid', 'C:/Users/mruna/Downloads/dataset/mididataset sad songs/mididataset sad songs\\\\CRAKK Dil Jhoom (Song)  Vidyut Jammwal  Nora Fatehi  Vishal Mishra  Shreya Ghoshal  Tanishk.mid', 'C:/Users/mruna/Downloads/dataset/mididataset sad songs/mididataset sad songs\\\\DIL JAANIYE Video  Khandaani Shafakhana  Sonakshi Sinha Jubin Nautiyal,Payal Dev  Love Song 2019 (1).mid', 'C:/Users/mruna/Downloads/dataset/mididataset sad songs/mididataset sad songs\\\\DIL JAANIYE Video  Khandaani Shafakhana  Sonakshi Sinha Jubin Nautiyal,Payal Dev  Love Song 2019.mid', 'C:/Users/mruna/Downloads/dataset/mididataset sad songs/mididataset sad songs\\\\Dilbara Full Video  Pati Patni Aur Woh  Kartik A, Bhumi P, Ananya P  Sachet-Parampara.mid', 'C:/Users/mruna/Downloads/dataset/mididataset sad songs/mididataset sad songs\\\\FIGHTER Bekaar Dil (Song) Hrithik Roshan, Deepika, Vishal-Sheykhar, Vishal M, Shilpa, Bosco-Caesar.mid', 'C:/Users/mruna/Downloads/dataset/mididataset sad songs/mididataset sad songs\\\\Full Song  DIL JAANIYE  Khandaani Shafakhana Sonakshi S, Priyansh Jubin N ,Tulsi Kumar,Payal Dev.mid', 'C:/Users/mruna/Downloads/dataset/mididataset sad songs/mididataset sad songs\\\\FULL SONG Chashni  Bharat  Salman Khan, Katrina Kaif  Vishal  Shekhar ft. Abhijeet Srivastava.mid', 'C:/Users/mruna/Downloads/dataset/mididataset sad songs/mididataset sad songs\\\\Full Song Sachiya Mohabbatan  Arjun Patiala  Diljit Dosanjh, Kriti  Sachet Tandon  Sachin-Jigar.mid', 'C:/Users/mruna/Downloads/dataset/mididataset sad songs/mididataset sad songs\\\\Full Song Safar  Zaheer Iqbal  Pranutan Bahl  Mohit Chauhan  Vishal Mishra.mid', 'C:/Users/mruna/Downloads/dataset/mididataset sad songs/mididataset sad songs\\\\FULL SONG Tere Bin  SIMMBA  Ranveer Singh, Sara Ali Khan  Tanishk B,Rahat Fateh Ali Khan,Asees K.mid', 'C:/Users/mruna/Downloads/dataset/mididataset sad songs/mididataset sad songs\\\\Full Song TU MILA TO HAINA  De De Pyaar De  Ajay Devgn, Rakul  Arijit Singh,Amaal Mallik,Kunaal.mid', 'C:/Users/mruna/Downloads/dataset/mididataset sad songs/mididataset sad songs\\\\Full Song Tujhe Kitna Chahein Aur (Film Version)  Kabir Singh  Shahid K, Kiara A  Mithoon Jubin.mid', 'C:/Users/mruna/Downloads/dataset/mididataset sad songs/mididataset sad songs\\\\Full SongTera Ban Jaunga  Kabir Singh  Shahid K, Kiara A, Sandeep V  Tulsi Kumar, Akhil Sachdeva.mid', 'C:/Users/mruna/Downloads/dataset/mididataset sad songs/mididataset sad songs\\\\Full Video CHALE AANA  De De Pyaar De I Ajay Devgn, Tabu, Rakul Preet l Armaan M, Amaal M,Kunaal V.mid', 'C:/Users/mruna/Downloads/dataset/mididataset sad songs/mididataset sad songs\\\\Full Video Enni Soni  Saaho  Prabhas, Shraddha Kapoor  Guru Randhawa, Tulsi Kumar.mid', 'C:/Users/mruna/Downloads/dataset/mididataset sad songs/mididataset sad songs\\\\Full Video Laila Song  Zaheer Iqbal  Pranutan Bahl  Dhvani Bhanushali  Vishal Mishra.mid', 'C:/Users/mruna/Downloads/dataset/mididataset sad songs/mididataset sad songs\\\\Full Video Lo Safar Song  Baaghi 2  Tiger Shroff  Disha P  Mithoon  Jubin N  Ahmed K Sajid N.mid', 'C:/Users/mruna/Downloads/dataset/mididataset sad songs/mididataset sad songs\\\\Full Video NAAD KHULA  Malaal  Sharmin Segal  Meezaan  Shreyas Puranik.mid', 'C:/Users/mruna/Downloads/dataset/mididataset sad songs/mididataset sad songs\\\\Full Video Naina Lade  Dabangg 3  Salman Khan, Saiee Manjrekar  Javed Ali  Sajid Wajid.mid', 'C:/Users/mruna/Downloads/dataset/mididataset sad songs/mididataset sad songs\\\\Full Video Nazar Na Lag Jaaye  STREE  Rajkummar Rao, Shraddha Kapoor  Ash King  Sachin-Jigar.mid', 'C:/Users/mruna/Downloads/dataset/mididataset sad songs/mididataset sad songs\\\\Full Video Tum Mere Ho Song  Hate Story IV  Vivan Bhathena Ihana Dhillon Mithoon Jubin N Manoj M.mid', 'C:/Users/mruna/Downloads/dataset/mididataset sad songs/mididataset sad songs\\\\Full Video Tum Se Hi  Jab We Met  Kareena Kapoor, Shahid Kapoor  Mohit Chauhan  Pritam.mid', 'C:/Users/mruna/Downloads/dataset/mididataset sad songs/mididataset sad songs\\\\Full VideoTu Hi Yaar Mera  Pati Patni Aur Woh  Kartik A,Bhumi P,Ananya P Rochak,Arijit S,Neha K.mid', 'C:/Users/mruna/Downloads/dataset/mididataset sad songs/mididataset sad songs\\\\Gal Sun Official Video Song  Akhil Sachdeva  Manoj Muntashir  Bhushan Kumar.mid', 'C:/Users/mruna/Downloads/dataset/mididataset sad songs/mididataset sad songs\\\\Gazab Ka Hai Din Video  DIL JUUNGLEE  Tanishk B Jubin N Prakriti K  Taapsee Pannu  Saqib S.mid', 'C:/Users/mruna/Downloads/dataset/mididataset sad songs/mididataset sad songs\\\\Ghar Se Nikalte Hi Song  Amaal Mallik Feat. Armaan Malik  Bhushan Kumar  Angel.mid', 'C:/Users/mruna/Downloads/dataset/mididataset sad songs/mididataset sad songs\\\\Guru Randhawa Ban Ja Rani  Tumhari Sulu Video Song  Vidya Balan Manav Kaul.mid', 'C:/Users/mruna/Downloads/dataset/mididataset sad songs/mididataset sad songs\\\\Guru Randhawa Ishq Tera (Official Video)  Nushrat Bharucha  Bhushan Kumar  T-Series.mid', 'C:/Users/mruna/Downloads/dataset/mididataset sad songs/mididataset sad songs\\\\Hai Pyaar Kya Video  Jubin Nautiyal, Kritika Kamra  Rocky - Jubin  Love Song 2019  T-Series.mid', 'C:/Users/mruna/Downloads/dataset/mididataset sad songs/mididataset sad songs\\\\Halka Halka Full Video  FANNEY KHAN  Aishwarya Rai Bachchan  Rajkummar Rao  Amit Trivedi.mid', 'C:/Users/mruna/Downloads/dataset/mididataset sad songs/mididataset sad songs\\\\HUMNE RAIT PE Song   HUME TUMSE PYAAR KITNA  Tony Kakkar, Neha Kakkar  Karanvir Bohra  Priya B.mid', 'C:/Users/mruna/Downloads/dataset/mididataset sad songs/mididataset sad songs\\\\Humsafar (Full Video)   Varun  Alia Bhatt  Akhil Sachdeva  Badrinath Ki Dulhania.mid', 'C:/Users/mruna/Downloads/dataset/mididataset sad songs/mididataset sad songs\\\\Ik Vaari Aa  Raabta  Sushant Singh Rajput  Kriti Sanon  Pritam Arijit Singh Amitabh Bhattacharya.mid', 'C:/Users/mruna/Downloads/dataset/mididataset sad songs/mididataset sad songs\\\\Ik Vaari Aa Full Song  Raabta  Sushant Singh Rajput  Kriti Sanon  Pritam Arijit Singh Amitabh B.mid', 'C:/Users/mruna/Downloads/dataset/mididataset sad songs/mididataset sad songs\\\\Intezaar Title Full Video Song  Tera Intezaar  Arbaaz Khan Sunny Leone  Shreya Ghoshal T-Series.mid', 'C:/Users/mruna/Downloads/dataset/mididataset sad songs/mididataset sad songs\\\\Ishquiya Full Song (Video) l Lipstick Under My Burkha  Songs 2017   T-Series.mid', 'C:/Users/mruna/Downloads/dataset/mididataset sad songs/mididataset sad songs\\\\Itna Tumhe  Full Video Song   Yaseer Desai  Shashaa Tirupati  Abbas-Mustan  T-Series.mid', 'C:/Users/mruna/Downloads/dataset/mididataset sad songs/mididataset sad songs\\\\Itni Si Baat Hain Full Video Song  AZHAR  Emraan Hashmi, Prachi Desai  Arijit Singh, Pritam.mid', 'C:/Users/mruna/Downloads/dataset/mididataset sad songs/mididataset sad songs\\\\JAB JAB (Official Music Video) Tanya Singgh, Arhhan Singgh  Jeff Hunt Gittanjali S Bhushan Kumar.mid', 'C:/Users/mruna/Downloads/dataset/mididataset sad songs/mididataset sad songs\\\\JAB TAK Full Video  M.S. DHONI -THE UNTOLD STORY  Armaan Malik, Amaal Mallik Sushant Singh Rajput.mid', 'C:/Users/mruna/Downloads/dataset/mididataset sad songs/mididataset sad songs\\\\Kali Kali Zulfon Ke (Song) Abhishek Singh,Adah Sharma  Jubin Nautiyal,Rochak K,NFAK  Bhushan K.mid', 'C:/Users/mruna/Downloads/dataset/mididataset sad songs/mididataset sad songs\\\\KATTHAI KATTHAI Video  Malaal  Sharmin Segal  Meezaan  Sanjay Leela Bhansali  Shreya Ghoshal.mid', 'C:/Users/mruna/Downloads/dataset/mididataset sad songs/mididataset sad songs\\\\Khuda Ka Noor Video  One Day Justice Delivered  Sunidhi Chauhan  Vikrant-Parijat.mid', 'C:/Users/mruna/Downloads/dataset/mididataset sad songs/mididataset sad songs\\\\Kinna Sona Video  Marjaavaan  Sidharth M, Tara S  Meet Bros, Kumaar, Jubin N, Dhvani Bhanushali.mid', 'C:/Users/mruna/Downloads/dataset/mididataset sad songs/mididataset sad songs\\\\Lag Ja Gale Full Video Song  Bhoomi  Rahat Fateh Ali Khan  Sachin-Jigar  Aditi Rao Hydari.mid', 'C:/Users/mruna/Downloads/dataset/mididataset sad songs/mididataset sad songs\\\\LOVE JAMS  THE ULTIMATE VALENTINE MASHUP OF 2024  NON STOP  DJ BASQUE  T-SERIES.mid', 'C:/Users/mruna/Downloads/dataset/mididataset sad songs/mididataset sad songs\\\\Luka Chuppi Duniyaa Full Video Song  Kartik Aaryan Kriti Sanon  Akhil  Dhvani B.mid', 'C:/Users/mruna/Downloads/dataset/mididataset sad songs/mididataset sad songs\\\\LYRICALDilbara (B Praak Version) Pati Patni Aur Woh Kartik A,Bhumi P,Ananya PSachet  Parampara.mid', 'C:/Users/mruna/Downloads/dataset/mididataset sad songs/mididataset sad songs\\\\Main Rahoon Ya Na Rahoon Full Video  Emraan Hashmi, Esha Gupta  Amaal Mallik, Armaan Malik.mid', 'C:/Users/mruna/Downloads/dataset/mididataset sad songs/mididataset sad songs\\\\Manmohini Video  HUME TUMSE PYAAR KITNA  Karanvir B  Priya B  Mika Singh, Kanika Kapoor, Ikka.mid', 'C:/Users/mruna/Downloads/dataset/mididataset sad songs/mididataset sad songs\\\\Mast Magan FULL Video Song  2 States  Arijit Singh  Arjun Kapoor, Alia Bhatt.mid', 'C:/Users/mruna/Downloads/dataset/mididataset sad songs/mididataset sad songs\\\\Mehfooz Reprise Video Song  Tera Intezaar   Arbaaz Khan  Sunny Leone.mid', 'C:/Users/mruna/Downloads/dataset/mididataset sad songs/mididataset sad songs\\\\Millind Gaba Zindagi Di Paudi  Bhushan Kumar  Jannat Zubair, Nirmaan, Shabby  Hindi New Song 2019.mid', 'C:/Users/mruna/Downloads/dataset/mididataset sad songs/mididataset sad songs\\\\MIRZA (Music Video) Tanishk Bagchi  Shehnaaz Gill  Bhushan Kumar.mid', 'C:/Users/mruna/Downloads/dataset/mididataset sad songs/mididataset sad songs\\\\Mohabbat Nasha Hai (FILM VERSION) Hate Story IV Neha Kakkar Tony Kakkar Urvashi Rautela Karan Wahi.mid', 'C:/Users/mruna/Downloads/dataset/mididataset sad songs/mididataset sad songs\\\\Muntashir Ki Diary Se Aaoge Jab Tum  Episode 16  Manoj Muntashir   T-Series.mid', 'C:/Users/mruna/Downloads/dataset/mididataset sad songs/mididataset sad songs\\\\Neha Kakkar Ring Song  Jatinder Jeetu  Surjit Khairhwala  New Punjabi Song 2017  T-Series.mid', 'C:/Users/mruna/Downloads/dataset/mididataset sad songs/mididataset sad songs\\\\NOTEBOOK Main Taare Full Video  Salman Khan  Pranutan Bahl  Zaheer Iqbal  Vishal M  Manoj M.mid', 'C:/Users/mruna/Downloads/dataset/mididataset sad songs/mididataset sad songs\\\\Notebook Safar Video  Zaheer Iqbal  Pranutan Bahl  Mohit Chauhan  Vishal Mishra.mid', 'C:/Users/mruna/Downloads/dataset/mididataset sad songs/mididataset sad songs\\\\O Saathi Video Song  Baaghi 2  Tiger Shroff  Disha Patani  Arko  Ahmed Khan  Sajid Nadiadwala.mid', 'C:/Users/mruna/Downloads/dataset/mididataset sad songs/mididataset sad songs\\\\O Saathiya Full Song  Sweetiee Weds NRI  Himansh Kohli, Zoya Afroz  Armaan Malik, Arko.mid', 'C:/Users/mruna/Downloads/dataset/mididataset sad songs/mididataset sad songs\\\\Official Video Harjai Song  Maniesh Paul, Iulia Vantur  Sachin Gupta  Hindi Songs 2018  T-Series.mid', 'C:/Users/mruna/Downloads/dataset/mididataset sad songs/mididataset sad songs\\\\Official Video Humnava Mere Song  Jubin Nautiyal  Manoj Muntashir  Rocky - Shiv  Bhushan Kumar.mid', 'C:/Users/mruna/Downloads/dataset/mididataset sad songs/mididataset sad songs\\\\Oh Humsafar Song  Neha Kakkar Himansh Kohli  Tony Kakkar  Bhushan Kumar  Manoj Muntashir (1).mid', 'C:/Users/mruna/Downloads/dataset/mididataset sad songs/mididataset sad songs\\\\Oh Humsafar Song  Neha Kakkar Himansh Kohli  Tony Kakkar  Bhushan Kumar  Manoj Muntashir.mid', 'C:/Users/mruna/Downloads/dataset/mididataset sad songs/mididataset sad songs\\\\Roke Na Ruke Naina Full Video Song  Arijit Singh  Varun, Alia Amaal MallikBadrinath Ki Dulhania.mid', 'C:/Users/mruna/Downloads/dataset/mididataset sad songs/mididataset sad songs\\\\Rom Rom Full Video  The Body  Rishi K, Emraan H, Sobhita, Vedhika  Sunny, Shamir T, Sameer A.mid', 'C:/Users/mruna/Downloads/dataset/mididataset sad songs/mididataset sad songs\\\\Saansein Video Song  Karwaan  Irrfan Khan, Dulquer Salmaan, Mithila Palkar  Prateek Kuhad (1).mid', 'C:/Users/mruna/Downloads/dataset/mididataset sad songs/mididataset sad songs\\\\Saansein Video Song  Karwaan  Irrfan Khan, Dulquer Salmaan, Mithila Palkar  Prateek Kuhad.mid', 'C:/Users/mruna/Downloads/dataset/mididataset sad songs/mididataset sad songs\\\\Sanu Ek Pal Chain Video  Raid  Ajay Devgn  Ileana DCruz Tanishk B Rahat Fateh Ali Khan Manoj M.mid', 'C:/Users/mruna/Downloads/dataset/mididataset sad songs/mididataset sad songs\\\\SIMMBA Tere Bin  Ranveer Singh, Sara Ali Khan  Tanishk Bagchi, Rahat Fateh Ali Khan, Asees Kaur.mid', 'C:/Users/mruna/Downloads/dataset/mididataset sad songs/mididataset sad songs\\\\Soch Na Sake FULL VIDEO SONG  AIRLIFT  Akshay Kumar, Nimrat Kaur  Arijit Singh, Tulsi Kumar.mid', 'C:/Users/mruna/Downloads/dataset/mididataset sad songs/mididataset sad songs\\\\Soniye Dil Nayi Full Video  Baaghi 2  Tiger Shroff, Disha Patani  Ankit Tiwari  Shruti Pathak.mid', 'C:/Users/mruna/Downloads/dataset/mididataset sad songs/mididataset sad songs\\\\Soniye Dil Nayi Video Song  Baaghi 2  Tiger Shroff  Disha Patani  Ankit Tiwari Shruti Pathak.mid', 'C:/Users/mruna/Downloads/dataset/mididataset sad songs/mididataset sad songs\\\\Starfish Bairaage (Full Video) Khushalii Kumar,Tusharr K,Ehan B Sachet-Parampara KumaarBhushan K.mid', 'C:/Users/mruna/Downloads/dataset/mididataset sad songs/mididataset sad songs\\\\Sunn Raha Hai Na Tu Aashiqui 2 Full Video Song  Aditya Roy Kapur, Shraddha Kapoor.mid', 'C:/Users/mruna/Downloads/dataset/mididataset sad songs/mididataset sad songs\\\\Tera Ban Jaunga (Reprise)  Akhil Sachdeva  T-Series Acoustics  Love Song 2019  T-Series.mid', 'C:/Users/mruna/Downloads/dataset/mididataset sad songs/mididataset sad songs\\\\Tera Hua Full Song  Loveyatri  Atif Aslam  Aayush Sharma Warina Hussain Tanishk Bagchi Manoj M.mid', 'C:/Users/mruna/Downloads/dataset/mididataset sad songs/mididataset sad songs\\\\Tera Intezaar Khali Khali Dil  Video Song  Sunny Leone  Arbaaz Khan.mid', 'C:/Users/mruna/Downloads/dataset/mididataset sad songs/mididataset sad songs\\\\Tera Junoon Full Video Song  Machine  Jubin Nautiyal  Mustafa Kiara Advani Eshan ShankerT-Series.mid', 'C:/Users/mruna/Downloads/dataset/mididataset sad songs/mididataset sad songs\\\\Tera Shehar Video  Himansh Kohli, Pia B  Amaal Mallik  Mohd. Kalam  Manoj Muntashir  Shabby.mid', 'C:/Users/mruna/Downloads/dataset/mididataset sad songs/mididataset sad songs\\\\Tera Yaar Hoon Main Video  Sonu Ke Titu Ki Sweety  Arijit Singh Rochak Kohli  Song 2018.mid', 'C:/Users/mruna/Downloads/dataset/mididataset sad songs/mididataset sad songs\\\\TERE JAISA  T-Series Acoustics  TULSI KUMAR  ARKO  SATYAMEVA JAYATE  Bollywood Songs.mid', 'C:/Users/mruna/Downloads/dataset/mididataset sad songs/mididataset sad songs\\\\Tere Sang Full Video  Satellite Shankar  Sooraj, Megha Mithoon Featuring Arijit Singh,Aakanksha S.mid', 'C:/Users/mruna/Downloads/dataset/mididataset sad songs/mididataset sad songs\\\\Tere Sang Video  Satellite Shankar  Sooraj, Megha  Mithoon Featuring Arijit Singh Aakanksha S.mid', 'C:/Users/mruna/Downloads/dataset/mididataset sad songs/mididataset sad songs\\\\Tu Hi Toh Mera Full Video Song  Machine  Mustafa   Kiara Advani  Yaseer Desai  Tanishk Bagchi.mid', 'C:/Users/mruna/Downloads/dataset/mididataset sad songs/mididataset sad songs\\\\TU MILA TO HAINA De De Pyaar De  Ajay Devgn, Rakul  Arijit Singh, Amaal Mallik, Kunaal Vermaa.mid', 'C:/Users/mruna/Downloads/dataset/mididataset sad songs/mididataset sad songs\\\\Tujhe Paane Ko Video  Shalin Bhanot,Priyanka Agrawal  Jubin Nautiyal Neeti Mohan Abhijit V Manoj M.mid', 'C:/Users/mruna/Downloads/dataset/mididataset sad songs/mididataset sad songs\\\\Tulsi Kumar Ik Yaad Purani Song Feat. Khushali Kumar  New Hindi Song  Jashan Singh, Shaarib Toshi.mid', 'C:/Users/mruna/Downloads/dataset/mididataset sad songs/mididataset sad songs\\\\Tum Hi Aana Full Video  Marjaavaan  Riteish D, Sidharth M, Tara S  Jubin N  Payal Dev Kunaal V (1).mid', 'C:/Users/mruna/Downloads/dataset/mididataset sad songs/mididataset sad songs\\\\Tum Hi Aana Full Video  Marjaavaan  Riteish D, Sidharth M, Tara S  Jubin N  Payal Dev Kunaal V.mid', 'C:/Users/mruna/Downloads/dataset/mididataset sad songs/mididataset sad songs\\\\ZERO Mere Naam Tu Full Song  Shah Rukh Khan, Anushka Sharma, Katrina Kaif  Ajay-Atul T-Series.mid']\n"
          ]
        }
      ],
      "source": [
        "import glob\n",
        "import os\n",
        "\n",
        "# Specify the directory path where your MIDI files are located\n",
        "directory_path = r\"C:/Users/mruna/Downloads/dataset/mididataset sad songs/mididataset sad songs/\"\n",
        "# Use os.path.join to handle paths with spaces and special characters\n",
        "pattern = os.path.join(directory_path, '*.mid*')\n",
        "\n",
        "# Use the specified directory path with glob.glob to find MIDI files\n",
        "filenames = glob.glob(pattern)\n",
        "\n",
        "# Print the number of files found\n",
        "print('Number of files:', len(filenames))\n",
        "\n",
        "# Print the filenames for verification\n",
        "print('Files:', filenames)\n"
      ]
    },
    {
      "cell_type": "code",
      "execution_count": 16,
      "metadata": {
        "colab": {
          "base_uri": "https://localhost:8080/"
        },
        "id": "hxY_HL40XbAb",
        "outputId": "3e2f2cae-b0af-4923-a07b-f24f91acbf6b"
      },
      "outputs": [
        {
          "name": "stdout",
          "output_type": "stream",
          "text": [
            "C:/Users/mruna/Downloads/dataset/mididataset sad songs/mididataset sad songs\\Abhagi Piya Ki Video Song  Tera Intezaar  Arbaaz Khan  Sunny Leone  Kanika Kapoor   T-Series.mid\n"
          ]
        }
      ],
      "source": [
        "sample_file = filenames[1]\n",
        "print(sample_file)"
      ]
    },
    {
      "cell_type": "markdown",
      "metadata": {
        "id": "LoNXC6QB4QLO"
      },
      "source": []
    },
    {
      "cell_type": "code",
      "execution_count": 17,
      "metadata": {
        "id": "0lBZG9uBXsiy"
      },
      "outputs": [],
      "source": [
        "pmc = pretty_midi.PrettyMIDI(sample_file)"
      ]
    },
    {
      "cell_type": "markdown",
      "metadata": {
        "id": "OOY8qn4C4RHK"
      },
      "source": [
        "the above library return the synthesized output means it will calculate all the stuff and return the data"
      ]
    },
    {
      "cell_type": "code",
      "execution_count": 18,
      "metadata": {
        "id": "9dEJKnuAXvoH"
      },
      "outputs": [],
      "source": [
        "def display_audio(pm: pretty_midi.PrettyMIDI, seconds=60):\n",
        "  waveform = pm.fluidsynth(fs=_SAMPLING_RATE)\n",
        "  # Take a sample of the generated waveform to mitigate kernel resets\n",
        "  waveform_short = waveform[:seconds*_SAMPLING_RATE]\n",
        "  return display.Audio(waveform_short, rate=_SAMPLING_RATE)"
      ]
    },
    {
      "cell_type": "code",
      "execution_count": 19,
      "metadata": {},
      "outputs": [],
      "source": [
        "# %pip uninstall fluidsynth"
      ]
    },
    {
      "cell_type": "code",
      "execution_count": 20,
      "metadata": {
        "colab": {
          "base_uri": "https://localhost:8080/",
          "height": 75
        },
        "id": "EMH4K5w2X2QB",
        "outputId": "84630990-2fda-4473-8ec5-5164e76ffcf8"
      },
      "outputs": [],
      "source": [
        "# display_audio(pmc)"
      ]
    },
    {
      "cell_type": "code",
      "execution_count": 21,
      "metadata": {
        "colab": {
          "base_uri": "https://localhost:8080/"
        },
        "id": "Cc4KuNtwX48f",
        "outputId": "6ee4e722-1099-4678-d253-79dbc04e2839"
      },
      "outputs": [
        {
          "name": "stdout",
          "output_type": "stream",
          "text": [
            "Instrument name: Acoustic Grand Piano\n"
          ]
        }
      ],
      "source": [
        "# print('Number of instruments:', len(pmc.instruments))\n",
        "instrument = pmc.instruments[0]\n",
        "instrument_name = pretty_midi.program_to_instrument_name(instrument.program)\n",
        "print('Instrument name:', instrument_name)"
      ]
    },
    {
      "cell_type": "markdown",
      "metadata": {
        "id": "ha3-VP5f59s2"
      },
      "source": [
        "Imp cell"
      ]
    },
    {
      "cell_type": "code",
      "execution_count": 22,
      "metadata": {
        "colab": {
          "base_uri": "https://localhost:8080/"
        },
        "id": "XHFrfUVqYIzm",
        "outputId": "b58e5b43-3354-40cf-b7f2-ef2117d851fb"
      },
      "outputs": [
        {
          "name": "stdout",
          "output_type": "stream",
          "text": [
            "0: pitch=61, note_name=C#4, duration=0.1522\n",
            "1: pitch=61, note_name=C#4, duration=0.0435\n",
            "2: pitch=68, note_name=G#4, duration=0.0978\n",
            "3: pitch=73, note_name=C#5, duration=0.2391\n",
            "4: pitch=41, note_name=F2, duration=0.0217\n",
            "5: pitch=65, note_name=F4, duration=0.0326\n",
            "6: pitch=103, note_name=G7, duration=0.0326\n",
            "7: pitch=66, note_name=F#4, duration=0.0109\n",
            "8: pitch=80, note_name=G#5, duration=0.0326\n",
            "9: pitch=58, note_name=A#3, duration=0.0217\n"
          ]
        }
      ],
      "source": [
        "for i, note in enumerate(instrument.notes[:10]):\n",
        "  note_name = pretty_midi.note_number_to_name(note.pitch)\n",
        "  duration = note.end - note.start\n",
        "  print(f'{i}: pitch={note.pitch}, note_name={note_name},'\n",
        "        f' duration={duration:.4f}')"
      ]
    },
    {
      "cell_type": "code",
      "execution_count": 23,
      "metadata": {
        "id": "cMlrj9rc9d5S"
      },
      "outputs": [],
      "source": [
        "# from google.colab import auth\n",
        "# auth.authenticate_user()\n",
        "\n",
        "\n",
        "# from google.colab import drive\n",
        "# drive.mount('/content/dataset')"
      ]
    },
    {
      "cell_type": "code",
      "execution_count": 24,
      "metadata": {
        "id": "qchj5rQMYUv9"
      },
      "outputs": [],
      "source": [
        "def midi_to_notes(midi_file: str) -> pd.DataFrame:\n",
        "  pm = pretty_midi.PrettyMIDI(midi_file)  #the main this pretty midi is doing giving all the data\n",
        "  instrument = pm.instruments[0]\n",
        "  notes = collections.defaultdict(list)\n",
        "\n",
        "  # Sort the notes by start time\n",
        "  sorted_notes = sorted(instrument.notes, key=lambda note: note.start)\n",
        "  prev_start = sorted_notes[0].start\n",
        "\n",
        "  for note in sorted_notes:\n",
        "    start = note.start\n",
        "    end = note.end\n",
        "    notes['pitch'].append(note.pitch)\n",
        "    notes['start'].append(start)\n",
        "    notes['end'].append(end)\n",
        "    notes['step'].append(start - prev_start)\n",
        "    notes['duration'].append(end - start)\n",
        "    prev_start = start\n",
        "\n",
        "  return pd.DataFrame({name: np.array(value) for name, value in notes.items()})"
      ]
    },
    {
      "cell_type": "markdown",
      "metadata": {
        "id": "77LDdix961-N"
      },
      "source": [
        "The above function we convert the midi to notes imp"
      ]
    },
    {
      "cell_type": "markdown",
      "metadata": {
        "id": "wBV_MVrHiRtv"
      },
      "source": [
        "Here the raw notes is the dataset variable name"
      ]
    },
    {
      "cell_type": "code",
      "execution_count": 25,
      "metadata": {
        "colab": {
          "base_uri": "https://localhost:8080/",
          "height": 206
        },
        "id": "F-hRIli7YjNy",
        "outputId": "65f2c5d7-85f8-43eb-a3d5-4931b04a8cdf"
      },
      "outputs": [
        {
          "data": {
            "text/html": [
              "<div>\n",
              "<style scoped>\n",
              "    .dataframe tbody tr th:only-of-type {\n",
              "        vertical-align: middle;\n",
              "    }\n",
              "\n",
              "    .dataframe tbody tr th {\n",
              "        vertical-align: top;\n",
              "    }\n",
              "\n",
              "    .dataframe thead th {\n",
              "        text-align: right;\n",
              "    }\n",
              "</style>\n",
              "<table border=\"1\" class=\"dataframe\">\n",
              "  <thead>\n",
              "    <tr style=\"text-align: right;\">\n",
              "      <th></th>\n",
              "      <th>pitch</th>\n",
              "      <th>start</th>\n",
              "      <th>end</th>\n",
              "      <th>step</th>\n",
              "      <th>duration</th>\n",
              "    </tr>\n",
              "  </thead>\n",
              "  <tbody>\n",
              "    <tr>\n",
              "      <th>0</th>\n",
              "      <td>47</td>\n",
              "      <td>0.000000</td>\n",
              "      <td>0.086957</td>\n",
              "      <td>0.000000</td>\n",
              "      <td>0.086957</td>\n",
              "    </tr>\n",
              "    <tr>\n",
              "      <th>1</th>\n",
              "      <td>66</td>\n",
              "      <td>0.000000</td>\n",
              "      <td>0.293478</td>\n",
              "      <td>0.000000</td>\n",
              "      <td>0.293478</td>\n",
              "    </tr>\n",
              "    <tr>\n",
              "      <th>2</th>\n",
              "      <td>47</td>\n",
              "      <td>0.097826</td>\n",
              "      <td>0.358696</td>\n",
              "      <td>0.097826</td>\n",
              "      <td>0.260870</td>\n",
              "    </tr>\n",
              "    <tr>\n",
              "      <th>3</th>\n",
              "      <td>66</td>\n",
              "      <td>0.326087</td>\n",
              "      <td>0.467391</td>\n",
              "      <td>0.228261</td>\n",
              "      <td>0.141304</td>\n",
              "    </tr>\n",
              "    <tr>\n",
              "      <th>4</th>\n",
              "      <td>47</td>\n",
              "      <td>0.369565</td>\n",
              "      <td>0.804348</td>\n",
              "      <td>0.043478</td>\n",
              "      <td>0.434783</td>\n",
              "    </tr>\n",
              "  </tbody>\n",
              "</table>\n",
              "</div>"
            ],
            "text/plain": [
              "   pitch     start       end      step  duration\n",
              "0     47  0.000000  0.086957  0.000000  0.086957\n",
              "1     66  0.000000  0.293478  0.000000  0.293478\n",
              "2     47  0.097826  0.358696  0.097826  0.260870\n",
              "3     66  0.326087  0.467391  0.228261  0.141304\n",
              "4     47  0.369565  0.804348  0.043478  0.434783"
            ]
          },
          "execution_count": 25,
          "metadata": {},
          "output_type": "execute_result"
        }
      ],
      "source": [
        "raw_notes = midi_to_notes(r\"C:\\Users\\mruna\\Downloads\\dataset\\mididataset sad songs\\mididataset sad songs/AGAR TUM SAATH HO Full VIDEO song  Tamasha  Ranbir Kapoor, Deepika Padukone  T-Series.mid\")  #this sample file was declared before\n",
        "raw_notes.head()"
      ]
    },
    {
      "cell_type": "code",
      "execution_count": 26,
      "metadata": {
        "colab": {
          "base_uri": "https://localhost:8080/"
        },
        "id": "BwYwFAzOYodQ",
        "outputId": "56101edc-565e-4af6-c3ed-6b4670c30538"
      },
      "outputs": [
        {
          "data": {
            "text/plain": [
              "array(['B2', 'F#4', 'B2', 'F#4', 'B2', 'A4', 'A4', 'A#2', 'A4', 'A4'],\n",
              "      dtype='<U3')"
            ]
          },
          "execution_count": 26,
          "metadata": {},
          "output_type": "execute_result"
        }
      ],
      "source": [
        "get_note_names = np.vectorize(pretty_midi.note_number_to_name)\n",
        "sample_note_names = get_note_names(raw_notes['pitch'])\n",
        "sample_note_names[:10]"
      ]
    },
    {
      "cell_type": "markdown",
      "metadata": {
        "id": "8DE-99ABiBqn"
      },
      "source": [
        "plot_piano_roll function plots graph on base pitch and time in notes"
      ]
    },
    {
      "cell_type": "code",
      "execution_count": 27,
      "metadata": {
        "id": "nS2AUqrdY4lu"
      },
      "outputs": [],
      "source": [
        "def plot_piano_roll(notes: pd.DataFrame, count: Optional[int] = None):\n",
        "  if count:\n",
        "    title = f'First {count} notes'\n",
        "  else:\n",
        "    title = f'Whole track'\n",
        "    count = len(notes['pitch'])\n",
        "  plt.figure(figsize=(20, 4))\n",
        "  plot_pitch = np.stack([notes['pitch'], notes['pitch']], axis=0)\n",
        "  plot_start_stop = np.stack([notes['start'], notes['end']], axis=0)\n",
        "  plt.plot(                       # this is mathplot library\n",
        "      plot_start_stop[:, :count], plot_pitch[:, :count], color=\"b\", marker=\".\")\n",
        "  plt.xlabel('Time [s]')\n",
        "  plt.ylabel('Pitch')\n",
        "  _ = plt.title(title)"
      ]
    },
    {
      "cell_type": "code",
      "execution_count": 28,
      "metadata": {
        "id": "szaeL3xAY8fg"
      },
      "outputs": [],
      "source": [
        "# plot_piano_roll(raw_notes, count=100)   #this is print the first 100 notes"
      ]
    },
    {
      "cell_type": "code",
      "execution_count": 29,
      "metadata": {
        "id": "IerqQuDsZFh-"
      },
      "outputs": [],
      "source": [
        "# plot_piano_roll(raw_notes)    #this will print the notes of whole song"
      ]
    },
    {
      "cell_type": "code",
      "execution_count": 30,
      "metadata": {
        "id": "yS264K9rZLOm"
      },
      "outputs": [],
      "source": [
        "def plot_distributions(notes: pd.DataFrame, drop_percentile=2.5):\n",
        "  plt.figure(figsize=[15, 5])\n",
        "  plt.subplot(1, 3, 1)\n",
        "  sns.histplot(notes, x=\"pitch\", bins=20)\n",
        "\n",
        "  plt.subplot(1, 3, 2)\n",
        "  max_step = np.percentile(notes['step'], 100 - drop_percentile)\n",
        "  sns.histplot(notes, x=\"step\", bins=np.linspace(0, max_step, 21))\n",
        "\n",
        "  plt.subplot(1, 3, 3)\n",
        "  max_duration = np.percentile(notes['duration'], 100 - drop_percentile)\n",
        "  sns.histplot(notes, x=\"duration\", bins=np.linspace(0, max_duration, 21))"
      ]
    },
    {
      "cell_type": "code",
      "execution_count": 31,
      "metadata": {
        "id": "FcN-aSz3ZW4X"
      },
      "outputs": [],
      "source": [
        "# plot_distributions(raw_notes)"
      ]
    },
    {
      "cell_type": "markdown",
      "metadata": {
        "id": "96dz7TEO9yFI"
      },
      "source": [
        "Here we again we are converting notes to midi"
      ]
    },
    {
      "cell_type": "code",
      "execution_count": 32,
      "metadata": {
        "id": "F9TQ5-TJZZUj"
      },
      "outputs": [],
      "source": [
        "# def notes_to_midi(\n",
        "#   notes: pd.DataFrame,\n",
        "#   out_file: str,\n",
        "#   instrument_name: str,\n",
        "#   velocity: int = 100,  # note loudness\n",
        "# ) -> pretty_midi.PrettyMIDI:\n",
        "\n",
        "#   pm = pretty_midi.PrettyMIDI()\n",
        "#   instrument = pretty_midi.Instrument(\n",
        "#       program=pretty_midi.instrument_name_to_program(     # again the pretty midi is converting the notes to midi\n",
        "#           instrument_name))\n",
        "\n",
        "#   prev_start = 0\n",
        "#   for i, note in notes.iterrows():\n",
        "#     start = float(prev_start + note['step'])\n",
        "#     end = float(start + note['duration'])\n",
        "#     note = pretty_midi.Note(\n",
        "#         velocity=velocity,\n",
        "#         pitch=int(note['pitch']),\n",
        "#         start=start,\n",
        "#         end=end,\n",
        "#     )\n",
        "#     instrument.notes.append(note)\n",
        "#     prev_start = start\n",
        "\n",
        "#   pm.instruments.append(instrument)\n",
        "#   pm.write(out_file)\n",
        "#   return pm"
      ]
    },
    {
      "cell_type": "code",
      "execution_count": 33,
      "metadata": {
        "id": "gVCBX4RbWCIt"
      },
      "outputs": [],
      "source": [
        "def notes_to_midi(\n",
        "  notes: pd.DataFrame,\n",
        "  out_file: str,\n",
        "  instrument_name: str,\n",
        "  velocity: int = 100,  # note loudness\n",
        ") -> pretty_midi.PrettyMIDI:\n",
        "\n",
        "  pm = pretty_midi.PrettyMIDI()\n",
        "  instrument = pretty_midi.Instrument(\n",
        "      program=pretty_midi.instrument_name_to_program(     # again the pretty midi is converting the notes to midi\n",
        "          instrument_name))\n",
        "\n",
        "  prev_start = 0\n",
        "  for i, note in notes.iterrows():\n",
        "    start = float(note['step'])\n",
        "    end = float(note['duration'])\n",
        "    note = pretty_midi.Note(\n",
        "        velocity=velocity,\n",
        "        pitch=int(note['pitch']),\n",
        "        start=start,\n",
        "        end=end,\n",
        "    )\n",
        "    instrument.notes.append(note)\n",
        "    prev_start = end\n",
        "\n",
        "  pm.instruments.append(instrument)\n",
        "  pm.write(out_file)\n",
        "  return pm"
      ]
    },
    {
      "cell_type": "code",
      "execution_count": 34,
      "metadata": {
        "id": "NHaNlM63ZeyH"
      },
      "outputs": [],
      "source": [
        "# example_file = 'example.midi'\n",
        "# example_pm = notes_to_midi(\n",
        "#     raw_notes, out_file=example_file, instrument_name=instrument_name)"
      ]
    },
    {
      "cell_type": "code",
      "execution_count": 35,
      "metadata": {
        "id": "CYanOa93ZlPZ"
      },
      "outputs": [],
      "source": [
        "# display_audio(example_pm)"
      ]
    },
    {
      "cell_type": "markdown",
      "metadata": {
        "id": "8oJmSSGPjnCd"
      },
      "source": [
        "Creating data set 5"
      ]
    },
    {
      "cell_type": "code",
      "execution_count": 36,
      "metadata": {
        "id": "cVS4v--3ZuW5"
      },
      "outputs": [
        {
          "name": "stdout",
          "output_type": "stream",
          "text": [
            "C:/Users/mruna/Downloads/dataset/mididataset sad songs/mididataset sad songs\\Abhagi Piya Ki Video Song  Kanika Kapoor  Ahmed  Mohammed Hussain  T-Series.mid\n"
          ]
        },
        {
          "name": "stdout",
          "output_type": "stream",
          "text": [
            "C:/Users/mruna/Downloads/dataset/mididataset sad songs/mididataset sad songs\\Abhagi Piya Ki Video Song  Tera Intezaar  Arbaaz Khan  Sunny Leone  Kanika Kapoor   T-Series.mid\n",
            "C:/Users/mruna/Downloads/dataset/mididataset sad songs/mididataset sad songs\\AGAR TUM SAATH HO Full VIDEO song  Tamasha  Ranbir Kapoor, Deepika Padukone  T-Series.mid\n",
            "C:/Users/mruna/Downloads/dataset/mididataset sad songs/mididataset sad songs\\Arijit Singh Pachtaoge  Vicky Kaushal, Nora Fatehi Jaani, B Praak, Arvindr Khaira  Bhushan Kumar.mid\n",
            "C:/Users/mruna/Downloads/dataset/mididataset sad songs/mididataset sad songs\\ARIJIT SINGH VERSION Bekhayali Full Song  Kabir Singh  Shahid K,Kiara A  Sandeep Reddy V Irshad.mid\n"
          ]
        }
      ],
      "source": [
        "num_files = 5\n",
        "all_notes = []\n",
        "for f in filenames[:num_files]:\n",
        "  print(f)\n",
        "  notes = midi_to_notes(f)         #notes of 5 files\n",
        "  all_notes.append(notes)\n",
        "\n",
        "all_notes = pd.concat(all_notes)"
      ]
    },
    {
      "cell_type": "code",
      "execution_count": 37,
      "metadata": {
        "colab": {
          "base_uri": "https://localhost:8080/"
        },
        "id": "t_RK6O5VJM9j",
        "outputId": "b5fb59b2-7c57-49be-8245-fcb7c231d789"
      },
      "outputs": [
        {
          "data": {
            "text/plain": [
              "136550"
            ]
          },
          "execution_count": 37,
          "metadata": {},
          "output_type": "execute_result"
        }
      ],
      "source": [
        "len(all_notes)"
      ]
    },
    {
      "cell_type": "code",
      "execution_count": 38,
      "metadata": {
        "colab": {
          "base_uri": "https://localhost:8080/"
        },
        "id": "TC5t-tEVpFlt",
        "outputId": "dce32c95-99ce-47b6-8da6-27de326c1a92"
      },
      "outputs": [],
      "source": [
        "# import os\n",
        "# import pandas as pd\n",
        "\n",
        "# # Assuming filenames is a list containing the MIDI file paths in Colab content\n",
        "# filenames = [os.path.join('/content', filename) for filename in os.listdir('/content') if filename.endswith('.MID') or filename.endswith('.mid')]\n",
        "\n",
        "# num_files = 10\n",
        "# all_notes = []\n",
        "\n",
        "# for f in filenames[:num_files]:\n",
        "#     print(f)\n",
        "#     notes = midi_to_notes(f)\n",
        "#     all_notes.append(notes)\n",
        "\n",
        "# all_notes = pd.concat(all_notes)\n"
      ]
    },
    {
      "cell_type": "code",
      "execution_count": 39,
      "metadata": {
        "colab": {
          "base_uri": "https://localhost:8080/"
        },
        "id": "0OGDShxsaGe3",
        "outputId": "ad12b405-0b5a-44cd-dab2-b3238cb242f0"
      },
      "outputs": [
        {
          "name": "stdout",
          "output_type": "stream",
          "text": [
            "Number of notes parsed: 136550\n"
          ]
        }
      ],
      "source": [
        "n_notes = len(all_notes)\n",
        "print('Number of notes parsed:', n_notes)"
      ]
    },
    {
      "cell_type": "code",
      "execution_count": 40,
      "metadata": {
        "id": "OLQ8RoftaXAt"
      },
      "outputs": [],
      "source": [
        "key_order = ['pitch', 'step', 'duration']\n",
        "train_notes = np.stack([all_notes[key] for key in key_order], axis=1)"
      ]
    },
    {
      "cell_type": "code",
      "execution_count": 41,
      "metadata": {
        "colab": {
          "base_uri": "https://localhost:8080/"
        },
        "id": "bv79mKVbabDC",
        "outputId": "2dde4361-ee7e-4d13-ffa1-757cdb20c2bf"
      },
      "outputs": [
        {
          "data": {
            "text/plain": [
              "TensorSpec(shape=(3,), dtype=tf.float64, name=None)"
            ]
          },
          "execution_count": 41,
          "metadata": {},
          "output_type": "execute_result"
        }
      ],
      "source": [
        "notes_ds = tf.data.Dataset.from_tensor_slices(train_notes)  #here it is making notes dataset\n",
        "notes_ds.element_spec"
      ]
    },
    {
      "cell_type": "code",
      "execution_count": 42,
      "metadata": {
        "id": "-WqjbdNmagEM"
      },
      "outputs": [],
      "source": [
        "def create_sequences(\n",
        "    dataset: tf.data.Dataset,\n",
        "    seq_length: int,\n",
        "    vocab_size = 128,\n",
        ") -> tf.data.Dataset:\n",
        "  \"\"\"Returns TF Dataset of sequence and label examples.\"\"\"\n",
        "  seq_length = seq_length+1\n",
        "\n",
        "  # Take 1 extra for the labels\n",
        "  windows = dataset.window(seq_length, shift=1, stride=1,\n",
        "                              drop_remainder=True)\n",
        "\n",
        "  # `flat_map` flattens the\" dataset of datasets\" into a dataset of tensors\n",
        "  flatten = lambda x: x.batch(seq_length, drop_remainder=True)\n",
        "  sequences = windows.flat_map(flatten)\n",
        "\n",
        "  # Normalize note pitch\n",
        "  def scale_pitch(x):\n",
        "    x = x/[vocab_size,3.0,4.0]\n",
        "    return x\n",
        "\n",
        "  # Split the labels\n",
        "  def split_labels(sequences):\n",
        "    inputs = sequences[:-1]\n",
        "    labels_dense = sequences[-1]\n",
        "    labels = {key:labels_dense[i] for i,key in enumerate(key_order)}\n",
        "\n",
        "    return scale_pitch(inputs), labels\n",
        "\n",
        "  return sequences.map(split_labels, num_parallel_calls=tf.data.AUTOTUNE)"
      ]
    },
    {
      "cell_type": "code",
      "execution_count": 43,
      "metadata": {
        "colab": {
          "base_uri": "https://localhost:8080/"
        },
        "id": "GDH4egtpasn3",
        "outputId": "5eedfa59-e291-40f6-b55c-8981a75da7f9"
      },
      "outputs": [
        {
          "data": {
            "text/plain": [
              "(TensorSpec(shape=(20, 3), dtype=tf.float64, name=None),\n",
              " {'pitch': TensorSpec(shape=(), dtype=tf.float64, name=None),\n",
              "  'step': TensorSpec(shape=(), dtype=tf.float64, name=None),\n",
              "  'duration': TensorSpec(shape=(), dtype=tf.float64, name=None)})"
            ]
          },
          "execution_count": 43,
          "metadata": {},
          "output_type": "execute_result"
        }
      ],
      "source": [
        "seq_length = 20\n",
        "vocab_size = 256\n",
        "seq_ds = create_sequences(notes_ds, seq_length, vocab_size)\n",
        "seq_ds.element_spec"
      ]
    },
    {
      "cell_type": "code",
      "execution_count": 44,
      "metadata": {
        "colab": {
          "base_uri": "https://localhost:8080/"
        },
        "id": "z7KVUb1ZbIdd",
        "outputId": "bd698d47-7c0f-4a08-ceec-8f63c5be2227"
      },
      "outputs": [
        {
          "name": "stdout",
          "output_type": "stream",
          "text": [
            "sequence shape: (20, 3)\n",
            "sequence elements (first 10): tf.Tensor(\n",
            "[[0.23828125 0.         0.0326087 ]\n",
            " [0.37890625 0.00724638 0.02173913]\n",
            " [0.37109375 0.00362319 0.0326087 ]\n",
            " [0.38671875 0.01449275 0.01358696]\n",
            " [0.2421875  0.01811594 0.01630435]\n",
            " [0.390625   0.00362319 0.01358696]\n",
            " [0.375      0.00724638 0.0298913 ]\n",
            " [0.24609375 0.01086957 0.0923913 ]\n",
            " [0.39453125 0.00724638 0.04347826]\n",
            " [0.37890625 0.02173913 0.07336957]], shape=(10, 3), dtype=float64)\n",
            "\n",
            "target: {'pitch': <tf.Tensor: shape=(), dtype=float64, numpy=102.0>, 'step': <tf.Tensor: shape=(), dtype=float64, numpy=0.0>, 'duration': <tf.Tensor: shape=(), dtype=float64, numpy=0.05434782608695654>}\n"
          ]
        }
      ],
      "source": [
        "for seq, target in seq_ds.take(1):\n",
        "  print('sequence shape:', seq.shape)\n",
        "  print('sequence elements (first 10):', seq[0: 10])\n",
        "  print()\n",
        "  print('target:', target)"
      ]
    },
    {
      "cell_type": "code",
      "execution_count": 45,
      "metadata": {
        "id": "Dqow1XJFbLbx"
      },
      "outputs": [],
      "source": [
        "batch_size = 128\n",
        "buffer_size = n_notes - seq_length  # the number of items in the dataset\n",
        "train_ds = (seq_ds\n",
        "            .shuffle(buffer_size)\n",
        "            .batch(batch_size, drop_remainder=True)\n",
        "            .cache()\n",
        "            .prefetch(tf.data.experimental.AUTOTUNE))"
      ]
    },
    {
      "cell_type": "code",
      "execution_count": 46,
      "metadata": {
        "colab": {
          "base_uri": "https://localhost:8080/"
        },
        "id": "IDnmS6OybRKS",
        "outputId": "35655a28-1b7a-4d49-a68f-447dbcc3b4d6"
      },
      "outputs": [
        {
          "data": {
            "text/plain": [
              "(TensorSpec(shape=(128, 20, 3), dtype=tf.float64, name=None),\n",
              " {'pitch': TensorSpec(shape=(128,), dtype=tf.float64, name=None),\n",
              "  'step': TensorSpec(shape=(128,), dtype=tf.float64, name=None),\n",
              "  'duration': TensorSpec(shape=(128,), dtype=tf.float64, name=None)})"
            ]
          },
          "execution_count": 46,
          "metadata": {},
          "output_type": "execute_result"
        }
      ],
      "source": [
        "train_ds.element_spec"
      ]
    },
    {
      "cell_type": "markdown",
      "metadata": {
        "id": "c-E_1LJ-acea"
      },
      "source": [
        "A"
      ]
    },
    {
      "cell_type": "markdown",
      "metadata": {
        "id": "g6o4GovjbbcN"
      },
      "source": [
        "**Model yaha hai**"
      ]
    },
    {
      "cell_type": "code",
      "execution_count": 47,
      "metadata": {
        "id": "flKSbEuTbURv"
      },
      "outputs": [],
      "source": [
        "def mse_with_positive_pressure(y_true: tf.Tensor, y_pred: tf.Tensor):\n",
        "  mse = (y_true - y_pred) ** 2\n",
        "  positive_pressure = 10 * tf.maximum(-y_pred, 0.0)\n",
        "  return tf.reduce_mean(mse + positive_pressure)"
      ]
    },
    {
      "cell_type": "code",
      "execution_count": 48,
      "metadata": {
        "colab": {
          "base_uri": "https://localhost:8080/"
        },
        "id": "hZZvYSEsb97q",
        "outputId": "2bdde3d3-f8fb-46c0-fdf0-41162e107844"
      },
      "outputs": [
        {
          "data": {
            "text/html": [
              "<pre style=\"white-space:pre;overflow-x:auto;line-height:normal;font-family:Menlo,'DejaVu Sans Mono',consolas,'Courier New',monospace\"><span style=\"font-weight: bold\">Model: \"functional_1\"</span>\n",
              "</pre>\n"
            ],
            "text/plain": [
              "\u001b[1mModel: \"functional_1\"\u001b[0m\n"
            ]
          },
          "metadata": {},
          "output_type": "display_data"
        },
        {
          "data": {
            "text/html": [
              "<pre style=\"white-space:pre;overflow-x:auto;line-height:normal;font-family:Menlo,'DejaVu Sans Mono',consolas,'Courier New',monospace\">┏━━━━━━━━━━━━━━━━━━━━━┳━━━━━━━━━━━━━━━━━━━┳━━━━━━━━━━━━┳━━━━━━━━━━━━━━━━━━━┓\n",
              "┃<span style=\"font-weight: bold\"> Layer (type)        </span>┃<span style=\"font-weight: bold\"> Output Shape      </span>┃<span style=\"font-weight: bold\">    Param # </span>┃<span style=\"font-weight: bold\"> Connected to      </span>┃\n",
              "┡━━━━━━━━━━━━━━━━━━━━━╇━━━━━━━━━━━━━━━━━━━╇━━━━━━━━━━━━╇━━━━━━━━━━━━━━━━━━━┩\n",
              "│ input_layer         │ (<span style=\"color: #00d7ff; text-decoration-color: #00d7ff\">None</span>, <span style=\"color: #00af00; text-decoration-color: #00af00\">20</span>, <span style=\"color: #00af00; text-decoration-color: #00af00\">3</span>)     │          <span style=\"color: #00af00; text-decoration-color: #00af00\">0</span> │ -                 │\n",
              "│ (<span style=\"color: #0087ff; text-decoration-color: #0087ff\">InputLayer</span>)        │                   │            │                   │\n",
              "├─────────────────────┼───────────────────┼────────────┼───────────────────┤\n",
              "│ lstm (<span style=\"color: #0087ff; text-decoration-color: #0087ff\">LSTM</span>)         │ (<span style=\"color: #00d7ff; text-decoration-color: #00d7ff\">None</span>, <span style=\"color: #00af00; text-decoration-color: #00af00\">128</span>)       │     <span style=\"color: #00af00; text-decoration-color: #00af00\">67,584</span> │ input_layer[<span style=\"color: #00af00; text-decoration-color: #00af00\">0</span>][<span style=\"color: #00af00; text-decoration-color: #00af00\">0</span>] │\n",
              "├─────────────────────┼───────────────────┼────────────┼───────────────────┤\n",
              "│ duration (<span style=\"color: #0087ff; text-decoration-color: #0087ff\">Dense</span>)    │ (<span style=\"color: #00d7ff; text-decoration-color: #00d7ff\">None</span>, <span style=\"color: #00af00; text-decoration-color: #00af00\">1</span>)         │        <span style=\"color: #00af00; text-decoration-color: #00af00\">129</span> │ lstm[<span style=\"color: #00af00; text-decoration-color: #00af00\">0</span>][<span style=\"color: #00af00; text-decoration-color: #00af00\">0</span>]        │\n",
              "├─────────────────────┼───────────────────┼────────────┼───────────────────┤\n",
              "│ pitch (<span style=\"color: #0087ff; text-decoration-color: #0087ff\">Dense</span>)       │ (<span style=\"color: #00d7ff; text-decoration-color: #00d7ff\">None</span>, <span style=\"color: #00af00; text-decoration-color: #00af00\">128</span>)       │     <span style=\"color: #00af00; text-decoration-color: #00af00\">16,512</span> │ lstm[<span style=\"color: #00af00; text-decoration-color: #00af00\">0</span>][<span style=\"color: #00af00; text-decoration-color: #00af00\">0</span>]        │\n",
              "├─────────────────────┼───────────────────┼────────────┼───────────────────┤\n",
              "│ step (<span style=\"color: #0087ff; text-decoration-color: #0087ff\">Dense</span>)        │ (<span style=\"color: #00d7ff; text-decoration-color: #00d7ff\">None</span>, <span style=\"color: #00af00; text-decoration-color: #00af00\">1</span>)         │        <span style=\"color: #00af00; text-decoration-color: #00af00\">129</span> │ lstm[<span style=\"color: #00af00; text-decoration-color: #00af00\">0</span>][<span style=\"color: #00af00; text-decoration-color: #00af00\">0</span>]        │\n",
              "└─────────────────────┴───────────────────┴────────────┴───────────────────┘\n",
              "</pre>\n"
            ],
            "text/plain": [
              "┏━━━━━━━━━━━━━━━━━━━━━┳━━━━━━━━━━━━━━━━━━━┳━━━━━━━━━━━━┳━━━━━━━━━━━━━━━━━━━┓\n",
              "┃\u001b[1m \u001b[0m\u001b[1mLayer (type)       \u001b[0m\u001b[1m \u001b[0m┃\u001b[1m \u001b[0m\u001b[1mOutput Shape     \u001b[0m\u001b[1m \u001b[0m┃\u001b[1m \u001b[0m\u001b[1m   Param #\u001b[0m\u001b[1m \u001b[0m┃\u001b[1m \u001b[0m\u001b[1mConnected to     \u001b[0m\u001b[1m \u001b[0m┃\n",
              "┡━━━━━━━━━━━━━━━━━━━━━╇━━━━━━━━━━━━━━━━━━━╇━━━━━━━━━━━━╇━━━━━━━━━━━━━━━━━━━┩\n",
              "│ input_layer         │ (\u001b[38;5;45mNone\u001b[0m, \u001b[38;5;34m20\u001b[0m, \u001b[38;5;34m3\u001b[0m)     │          \u001b[38;5;34m0\u001b[0m │ -                 │\n",
              "│ (\u001b[38;5;33mInputLayer\u001b[0m)        │                   │            │                   │\n",
              "├─────────────────────┼───────────────────┼────────────┼───────────────────┤\n",
              "│ lstm (\u001b[38;5;33mLSTM\u001b[0m)         │ (\u001b[38;5;45mNone\u001b[0m, \u001b[38;5;34m128\u001b[0m)       │     \u001b[38;5;34m67,584\u001b[0m │ input_layer[\u001b[38;5;34m0\u001b[0m][\u001b[38;5;34m0\u001b[0m] │\n",
              "├─────────────────────┼───────────────────┼────────────┼───────────────────┤\n",
              "│ duration (\u001b[38;5;33mDense\u001b[0m)    │ (\u001b[38;5;45mNone\u001b[0m, \u001b[38;5;34m1\u001b[0m)         │        \u001b[38;5;34m129\u001b[0m │ lstm[\u001b[38;5;34m0\u001b[0m][\u001b[38;5;34m0\u001b[0m]        │\n",
              "├─────────────────────┼───────────────────┼────────────┼───────────────────┤\n",
              "│ pitch (\u001b[38;5;33mDense\u001b[0m)       │ (\u001b[38;5;45mNone\u001b[0m, \u001b[38;5;34m128\u001b[0m)       │     \u001b[38;5;34m16,512\u001b[0m │ lstm[\u001b[38;5;34m0\u001b[0m][\u001b[38;5;34m0\u001b[0m]        │\n",
              "├─────────────────────┼───────────────────┼────────────┼───────────────────┤\n",
              "│ step (\u001b[38;5;33mDense\u001b[0m)        │ (\u001b[38;5;45mNone\u001b[0m, \u001b[38;5;34m1\u001b[0m)         │        \u001b[38;5;34m129\u001b[0m │ lstm[\u001b[38;5;34m0\u001b[0m][\u001b[38;5;34m0\u001b[0m]        │\n",
              "└─────────────────────┴───────────────────┴────────────┴───────────────────┘\n"
            ]
          },
          "metadata": {},
          "output_type": "display_data"
        },
        {
          "data": {
            "text/html": [
              "<pre style=\"white-space:pre;overflow-x:auto;line-height:normal;font-family:Menlo,'DejaVu Sans Mono',consolas,'Courier New',monospace\"><span style=\"font-weight: bold\"> Total params: </span><span style=\"color: #00af00; text-decoration-color: #00af00\">84,354</span> (329.51 KB)\n",
              "</pre>\n"
            ],
            "text/plain": [
              "\u001b[1m Total params: \u001b[0m\u001b[38;5;34m84,354\u001b[0m (329.51 KB)\n"
            ]
          },
          "metadata": {},
          "output_type": "display_data"
        },
        {
          "data": {
            "text/html": [
              "<pre style=\"white-space:pre;overflow-x:auto;line-height:normal;font-family:Menlo,'DejaVu Sans Mono',consolas,'Courier New',monospace\"><span style=\"font-weight: bold\"> Trainable params: </span><span style=\"color: #00af00; text-decoration-color: #00af00\">84,354</span> (329.51 KB)\n",
              "</pre>\n"
            ],
            "text/plain": [
              "\u001b[1m Trainable params: \u001b[0m\u001b[38;5;34m84,354\u001b[0m (329.51 KB)\n"
            ]
          },
          "metadata": {},
          "output_type": "display_data"
        },
        {
          "data": {
            "text/html": [
              "<pre style=\"white-space:pre;overflow-x:auto;line-height:normal;font-family:Menlo,'DejaVu Sans Mono',consolas,'Courier New',monospace\"><span style=\"font-weight: bold\"> Non-trainable params: </span><span style=\"color: #00af00; text-decoration-color: #00af00\">0</span> (0.00 B)\n",
              "</pre>\n"
            ],
            "text/plain": [
              "\u001b[1m Non-trainable params: \u001b[0m\u001b[38;5;34m0\u001b[0m (0.00 B)\n"
            ]
          },
          "metadata": {},
          "output_type": "display_data"
        }
      ],
      "source": [
        "input_shape = (seq_length, 3)\n",
        "learning_rate = 0.10\n",
        "\n",
        "inputs = tf.keras.Input(input_shape)\n",
        "x = tf.keras.layers.LSTM(128)(inputs)\n",
        "\n",
        "outputs = {\n",
        "  'pitch': tf.keras.layers.Dense(128, name='pitch')(x),\n",
        "  'step': tf.keras.layers.Dense(1, name='step')(x),\n",
        "  'duration': tf.keras.layers.Dense(1, name='duration')(x),\n",
        "}\n",
        "\n",
        "model = tf.keras.Model(inputs, outputs)\n",
        "\n",
        "loss = {\n",
        "      'pitch': tf.keras.losses.SparseCategoricalCrossentropy(\n",
        "          from_logits=True),\n",
        "      'step': mse_with_positive_pressure,\n",
        "      'duration': mse_with_positive_pressure,\n",
        "}\n",
        "\n",
        "optimizer = tf.keras.optimizers.Adam(learning_rate=learning_rate)\n",
        "\n",
        "model.compile(loss=loss, optimizer=optimizer)\n",
        "\n",
        "model.summary()"
      ]
    },
    {
      "cell_type": "code",
      "execution_count": 49,
      "metadata": {
        "id": "tbatNCaEhlmU"
      },
      "outputs": [],
      "source": [
        "# import tensorflow as tf\n",
        "\n",
        "# input_shape = (seq_length, 3)\n",
        "# learning_rate = 0.10\n",
        "\n",
        "# inputs = tf.keras.Input(input_shape)\n",
        "# x = tf.keras.layers.LSTM(128, recurrent_initializer='glorot_uniform')(inputs)\n",
        "\n",
        "# outputs = {\n",
        "#     'pitch': tf.keras.layers.Dense(128, name='pitch')(x),\n",
        "#     'step': tf.keras.layers.Dense(1, name='step')(x),\n",
        "#     'duration': tf.keras.layers.Dense(1, name='duration')(x),\n",
        "# }\n",
        "\n",
        "# model = tf.keras.Model(inputs, outputs)\n",
        "\n",
        "# loss = {\n",
        "#     'pitch': tf.keras.losses.SparseCategoricalCrossentropy(from_logits=True),\n",
        "#     'step': mse_with_positive_pressure,\n",
        "#     'duration': mse_with_positive_pressure,\n",
        "# }\n",
        "\n",
        "# optimizer = tf.keras.optimizers.Adam(learning_rate=learning_rate)\n",
        "\n",
        "# model.compile(loss=loss, optimizer=optimizer)\n",
        "\n",
        "# model.summary()\n"
      ]
    },
    {
      "cell_type": "code",
      "execution_count": 50,
      "metadata": {
        "colab": {
          "base_uri": "https://localhost:8080/"
        },
        "id": "MGH996cVcAaC",
        "outputId": "5aa91899-57b6-46b2-9bc1-16fe042fdfdc"
      },
      "outputs": [
        {
          "name": "stdout",
          "output_type": "stream",
          "text": [
            "\u001b[1m1066/1066\u001b[0m \u001b[32m━━━━━━━━━━━━━━━━━━━━\u001b[0m\u001b[37m\u001b[0m \u001b[1m38s\u001b[0m 15ms/step - loss: 4.8741\n"
          ]
        },
        {
          "name": "stderr",
          "output_type": "stream",
          "text": [
            "c:\\Users\\mruna\\AppData\\Local\\Programs\\Python\\Python310\\lib\\contextlib.py:153: UserWarning: Your input ran out of data; interrupting training. Make sure that your dataset or generator can generate at least `steps_per_epoch * epochs` batches. You may need to use the `.repeat()` function when building your dataset.\n",
            "  self.gen.throw(typ, value, traceback)\n"
          ]
        },
        {
          "data": {
            "text/plain": [
              "{'loss': 4.869734764099121}"
            ]
          },
          "execution_count": 50,
          "metadata": {},
          "output_type": "execute_result"
        }
      ],
      "source": [
        "losses = model.evaluate(train_ds, return_dict = True)\n",
        "losses"
      ]
    },
    {
      "cell_type": "code",
      "execution_count": 51,
      "metadata": {
        "id": "_TYWqO1pcE5J"
      },
      "outputs": [],
      "source": [
        "model.compile(\n",
        "    loss=loss,\n",
        "    loss_weights={\n",
        "        'pitch': 0.05,\n",
        "        'step': 0.5,\n",
        "        'duration':0.5,\n",
        "    },\n",
        "    optimizer=optimizer,\n",
        ")"
      ]
    },
    {
      "cell_type": "code",
      "execution_count": 52,
      "metadata": {
        "colab": {
          "base_uri": "https://localhost:8080/"
        },
        "id": "MfjK0JJhcTVc",
        "outputId": "9e898561-d4cb-4e32-8e53-b1db309d6a6a"
      },
      "outputs": [
        {
          "name": "stdout",
          "output_type": "stream",
          "text": [
            "\u001b[1m1066/1066\u001b[0m \u001b[32m━━━━━━━━━━━━━━━━━━━━\u001b[0m\u001b[37m\u001b[0m \u001b[1m17s\u001b[0m 16ms/step - loss: 0.2542\n"
          ]
        },
        {
          "data": {
            "text/plain": [
              "{'loss': 0.2540822923183441}"
            ]
          },
          "execution_count": 52,
          "metadata": {},
          "output_type": "execute_result"
        }
      ],
      "source": [
        "model.evaluate(train_ds, return_dict=True)"
      ]
    },
    {
      "cell_type": "markdown",
      "metadata": {
        "id": "Fo33j3qHcjqi"
      },
      "source": [
        "** training**"
      ]
    },
    {
      "cell_type": "code",
      "execution_count": 53,
      "metadata": {
        "id": "O6MELjZvcgXe"
      },
      "outputs": [],
      "source": [
        "callbacks = [\n",
        "    tf.keras.callbacks.ModelCheckpoint(\n",
        "        filepath='./training_checkpoints/ckpt_{epoch}.weights.h5',\n",
        "        save_weights_only=True),\n",
        "    tf.keras.callbacks.EarlyStopping(\n",
        "        monitor='loss',\n",
        "        patience=5,\n",
        "        verbose=1,\n",
        "        restore_best_weights=True),\n",
        "]"
      ]
    },
    {
      "cell_type": "code",
      "execution_count": 55,
      "metadata": {
        "colab": {
          "base_uri": "https://localhost:8080/"
        },
        "id": "4yJgkgrTcV01",
        "outputId": "59e1c8b0-94d4-4007-9437-8f595db7695e"
      },
      "outputs": [
        {
          "name": "stdout",
          "output_type": "stream",
          "text": [
            "Epoch 1/4\n",
            "\u001b[1m1066/1066\u001b[0m \u001b[32m━━━━━━━━━━━━━━━━━━━━\u001b[0m\u001b[37m\u001b[0m \u001b[1m31s\u001b[0m 29ms/step - loss: 0.9326\n",
            "Epoch 2/4\n",
            "\u001b[1m 909/1066\u001b[0m \u001b[32m━━━━━━━━━━━━━━━━━\u001b[0m\u001b[37m━━━\u001b[0m \u001b[1m4s\u001b[0m 29ms/step - loss: 0.9318"
          ]
        },
        {
          "ename": "KeyboardInterrupt",
          "evalue": "",
          "output_type": "error",
          "traceback": [
            "\u001b[1;31m---------------------------------------------------------------------------\u001b[0m",
            "\u001b[1;31mKeyboardInterrupt\u001b[0m                         Traceback (most recent call last)",
            "File \u001b[1;32m<timed exec>:3\u001b[0m\n",
            "File \u001b[1;32mc:\\Users\\mruna\\AppData\\Local\\Programs\\Python\\Python310\\lib\\site-packages\\keras\\src\\utils\\traceback_utils.py:117\u001b[0m, in \u001b[0;36mfilter_traceback.<locals>.error_handler\u001b[1;34m(*args, **kwargs)\u001b[0m\n\u001b[0;32m    115\u001b[0m filtered_tb \u001b[38;5;241m=\u001b[39m \u001b[38;5;28;01mNone\u001b[39;00m\n\u001b[0;32m    116\u001b[0m \u001b[38;5;28;01mtry\u001b[39;00m:\n\u001b[1;32m--> 117\u001b[0m     \u001b[38;5;28;01mreturn\u001b[39;00m fn(\u001b[38;5;241m*\u001b[39margs, \u001b[38;5;241m*\u001b[39m\u001b[38;5;241m*\u001b[39mkwargs)\n\u001b[0;32m    118\u001b[0m \u001b[38;5;28;01mexcept\u001b[39;00m \u001b[38;5;167;01mException\u001b[39;00m \u001b[38;5;28;01mas\u001b[39;00m e:\n\u001b[0;32m    119\u001b[0m     filtered_tb \u001b[38;5;241m=\u001b[39m _process_traceback_frames(e\u001b[38;5;241m.\u001b[39m__traceback__)\n",
            "File \u001b[1;32mc:\\Users\\mruna\\AppData\\Local\\Programs\\Python\\Python310\\lib\\site-packages\\keras\\src\\backend\\tensorflow\\trainer.py:325\u001b[0m, in \u001b[0;36mTensorFlowTrainer.fit\u001b[1;34m(self, x, y, batch_size, epochs, verbose, callbacks, validation_split, validation_data, shuffle, class_weight, sample_weight, initial_epoch, steps_per_epoch, validation_steps, validation_batch_size, validation_freq)\u001b[0m\n\u001b[0;32m    323\u001b[0m \u001b[38;5;28;01mfor\u001b[39;00m step, iterator \u001b[38;5;129;01min\u001b[39;00m epoch_iterator\u001b[38;5;241m.\u001b[39menumerate_epoch():\n\u001b[0;32m    324\u001b[0m     callbacks\u001b[38;5;241m.\u001b[39mon_train_batch_begin(step)\n\u001b[1;32m--> 325\u001b[0m     logs \u001b[38;5;241m=\u001b[39m \u001b[38;5;28;43mself\u001b[39;49m\u001b[38;5;241;43m.\u001b[39;49m\u001b[43mtrain_function\u001b[49m\u001b[43m(\u001b[49m\u001b[43miterator\u001b[49m\u001b[43m)\u001b[49m\n\u001b[0;32m    326\u001b[0m     callbacks\u001b[38;5;241m.\u001b[39mon_train_batch_end(\n\u001b[0;32m    327\u001b[0m         step, \u001b[38;5;28mself\u001b[39m\u001b[38;5;241m.\u001b[39m_pythonify_logs(logs)\n\u001b[0;32m    328\u001b[0m     )\n\u001b[0;32m    329\u001b[0m     \u001b[38;5;28;01mif\u001b[39;00m \u001b[38;5;28mself\u001b[39m\u001b[38;5;241m.\u001b[39mstop_training:\n",
            "File \u001b[1;32mc:\\Users\\mruna\\AppData\\Local\\Programs\\Python\\Python310\\lib\\site-packages\\tensorflow\\python\\util\\traceback_utils.py:150\u001b[0m, in \u001b[0;36mfilter_traceback.<locals>.error_handler\u001b[1;34m(*args, **kwargs)\u001b[0m\n\u001b[0;32m    148\u001b[0m filtered_tb \u001b[38;5;241m=\u001b[39m \u001b[38;5;28;01mNone\u001b[39;00m\n\u001b[0;32m    149\u001b[0m \u001b[38;5;28;01mtry\u001b[39;00m:\n\u001b[1;32m--> 150\u001b[0m   \u001b[38;5;28;01mreturn\u001b[39;00m fn(\u001b[38;5;241m*\u001b[39margs, \u001b[38;5;241m*\u001b[39m\u001b[38;5;241m*\u001b[39mkwargs)\n\u001b[0;32m    151\u001b[0m \u001b[38;5;28;01mexcept\u001b[39;00m \u001b[38;5;167;01mException\u001b[39;00m \u001b[38;5;28;01mas\u001b[39;00m e:\n\u001b[0;32m    152\u001b[0m   filtered_tb \u001b[38;5;241m=\u001b[39m _process_traceback_frames(e\u001b[38;5;241m.\u001b[39m__traceback__)\n",
            "File \u001b[1;32mc:\\Users\\mruna\\AppData\\Local\\Programs\\Python\\Python310\\lib\\site-packages\\tensorflow\\python\\eager\\polymorphic_function\\polymorphic_function.py:833\u001b[0m, in \u001b[0;36mFunction.__call__\u001b[1;34m(self, *args, **kwds)\u001b[0m\n\u001b[0;32m    830\u001b[0m compiler \u001b[38;5;241m=\u001b[39m \u001b[38;5;124m\"\u001b[39m\u001b[38;5;124mxla\u001b[39m\u001b[38;5;124m\"\u001b[39m \u001b[38;5;28;01mif\u001b[39;00m \u001b[38;5;28mself\u001b[39m\u001b[38;5;241m.\u001b[39m_jit_compile \u001b[38;5;28;01melse\u001b[39;00m \u001b[38;5;124m\"\u001b[39m\u001b[38;5;124mnonXla\u001b[39m\u001b[38;5;124m\"\u001b[39m\n\u001b[0;32m    832\u001b[0m \u001b[38;5;28;01mwith\u001b[39;00m OptionalXlaContext(\u001b[38;5;28mself\u001b[39m\u001b[38;5;241m.\u001b[39m_jit_compile):\n\u001b[1;32m--> 833\u001b[0m   result \u001b[38;5;241m=\u001b[39m \u001b[38;5;28mself\u001b[39m\u001b[38;5;241m.\u001b[39m_call(\u001b[38;5;241m*\u001b[39margs, \u001b[38;5;241m*\u001b[39m\u001b[38;5;241m*\u001b[39mkwds)\n\u001b[0;32m    835\u001b[0m new_tracing_count \u001b[38;5;241m=\u001b[39m \u001b[38;5;28mself\u001b[39m\u001b[38;5;241m.\u001b[39mexperimental_get_tracing_count()\n\u001b[0;32m    836\u001b[0m without_tracing \u001b[38;5;241m=\u001b[39m (tracing_count \u001b[38;5;241m==\u001b[39m new_tracing_count)\n",
            "File \u001b[1;32mc:\\Users\\mruna\\AppData\\Local\\Programs\\Python\\Python310\\lib\\site-packages\\tensorflow\\python\\eager\\polymorphic_function\\polymorphic_function.py:878\u001b[0m, in \u001b[0;36mFunction._call\u001b[1;34m(self, *args, **kwds)\u001b[0m\n\u001b[0;32m    875\u001b[0m \u001b[38;5;28mself\u001b[39m\u001b[38;5;241m.\u001b[39m_lock\u001b[38;5;241m.\u001b[39mrelease()\n\u001b[0;32m    876\u001b[0m \u001b[38;5;66;03m# In this case we have not created variables on the first call. So we can\u001b[39;00m\n\u001b[0;32m    877\u001b[0m \u001b[38;5;66;03m# run the first trace but we should fail if variables are created.\u001b[39;00m\n\u001b[1;32m--> 878\u001b[0m results \u001b[38;5;241m=\u001b[39m \u001b[43mtracing_compilation\u001b[49m\u001b[38;5;241;43m.\u001b[39;49m\u001b[43mcall_function\u001b[49m\u001b[43m(\u001b[49m\n\u001b[0;32m    879\u001b[0m \u001b[43m    \u001b[49m\u001b[43margs\u001b[49m\u001b[43m,\u001b[49m\u001b[43m \u001b[49m\u001b[43mkwds\u001b[49m\u001b[43m,\u001b[49m\u001b[43m \u001b[49m\u001b[38;5;28;43mself\u001b[39;49m\u001b[38;5;241;43m.\u001b[39;49m\u001b[43m_variable_creation_config\u001b[49m\n\u001b[0;32m    880\u001b[0m \u001b[43m\u001b[49m\u001b[43m)\u001b[49m\n\u001b[0;32m    881\u001b[0m \u001b[38;5;28;01mif\u001b[39;00m \u001b[38;5;28mself\u001b[39m\u001b[38;5;241m.\u001b[39m_created_variables:\n\u001b[0;32m    882\u001b[0m   \u001b[38;5;28;01mraise\u001b[39;00m \u001b[38;5;167;01mValueError\u001b[39;00m(\u001b[38;5;124m\"\u001b[39m\u001b[38;5;124mCreating variables on a non-first call to a function\u001b[39m\u001b[38;5;124m\"\u001b[39m\n\u001b[0;32m    883\u001b[0m                    \u001b[38;5;124m\"\u001b[39m\u001b[38;5;124m decorated with tf.function.\u001b[39m\u001b[38;5;124m\"\u001b[39m)\n",
            "File \u001b[1;32mc:\\Users\\mruna\\AppData\\Local\\Programs\\Python\\Python310\\lib\\site-packages\\tensorflow\\python\\eager\\polymorphic_function\\tracing_compilation.py:139\u001b[0m, in \u001b[0;36mcall_function\u001b[1;34m(args, kwargs, tracing_options)\u001b[0m\n\u001b[0;32m    137\u001b[0m bound_args \u001b[38;5;241m=\u001b[39m function\u001b[38;5;241m.\u001b[39mfunction_type\u001b[38;5;241m.\u001b[39mbind(\u001b[38;5;241m*\u001b[39margs, \u001b[38;5;241m*\u001b[39m\u001b[38;5;241m*\u001b[39mkwargs)\n\u001b[0;32m    138\u001b[0m flat_inputs \u001b[38;5;241m=\u001b[39m function\u001b[38;5;241m.\u001b[39mfunction_type\u001b[38;5;241m.\u001b[39munpack_inputs(bound_args)\n\u001b[1;32m--> 139\u001b[0m \u001b[38;5;28;01mreturn\u001b[39;00m \u001b[43mfunction\u001b[49m\u001b[38;5;241;43m.\u001b[39;49m\u001b[43m_call_flat\u001b[49m\u001b[43m(\u001b[49m\u001b[43m  \u001b[49m\u001b[38;5;66;43;03m# pylint: disable=protected-access\u001b[39;49;00m\n\u001b[0;32m    140\u001b[0m \u001b[43m    \u001b[49m\u001b[43mflat_inputs\u001b[49m\u001b[43m,\u001b[49m\u001b[43m \u001b[49m\u001b[43mcaptured_inputs\u001b[49m\u001b[38;5;241;43m=\u001b[39;49m\u001b[43mfunction\u001b[49m\u001b[38;5;241;43m.\u001b[39;49m\u001b[43mcaptured_inputs\u001b[49m\n\u001b[0;32m    141\u001b[0m \u001b[43m\u001b[49m\u001b[43m)\u001b[49m\n",
            "File \u001b[1;32mc:\\Users\\mruna\\AppData\\Local\\Programs\\Python\\Python310\\lib\\site-packages\\tensorflow\\python\\eager\\polymorphic_function\\concrete_function.py:1322\u001b[0m, in \u001b[0;36mConcreteFunction._call_flat\u001b[1;34m(self, tensor_inputs, captured_inputs)\u001b[0m\n\u001b[0;32m   1318\u001b[0m possible_gradient_type \u001b[38;5;241m=\u001b[39m gradients_util\u001b[38;5;241m.\u001b[39mPossibleTapeGradientTypes(args)\n\u001b[0;32m   1319\u001b[0m \u001b[38;5;28;01mif\u001b[39;00m (possible_gradient_type \u001b[38;5;241m==\u001b[39m gradients_util\u001b[38;5;241m.\u001b[39mPOSSIBLE_GRADIENT_TYPES_NONE\n\u001b[0;32m   1320\u001b[0m     \u001b[38;5;129;01mand\u001b[39;00m executing_eagerly):\n\u001b[0;32m   1321\u001b[0m   \u001b[38;5;66;03m# No tape is watching; skip to running the function.\u001b[39;00m\n\u001b[1;32m-> 1322\u001b[0m   \u001b[38;5;28;01mreturn\u001b[39;00m \u001b[38;5;28;43mself\u001b[39;49m\u001b[38;5;241;43m.\u001b[39;49m\u001b[43m_inference_function\u001b[49m\u001b[38;5;241;43m.\u001b[39;49m\u001b[43mcall_preflattened\u001b[49m\u001b[43m(\u001b[49m\u001b[43margs\u001b[49m\u001b[43m)\u001b[49m\n\u001b[0;32m   1323\u001b[0m forward_backward \u001b[38;5;241m=\u001b[39m \u001b[38;5;28mself\u001b[39m\u001b[38;5;241m.\u001b[39m_select_forward_and_backward_functions(\n\u001b[0;32m   1324\u001b[0m     args,\n\u001b[0;32m   1325\u001b[0m     possible_gradient_type,\n\u001b[0;32m   1326\u001b[0m     executing_eagerly)\n\u001b[0;32m   1327\u001b[0m forward_function, args_with_tangents \u001b[38;5;241m=\u001b[39m forward_backward\u001b[38;5;241m.\u001b[39mforward()\n",
            "File \u001b[1;32mc:\\Users\\mruna\\AppData\\Local\\Programs\\Python\\Python310\\lib\\site-packages\\tensorflow\\python\\eager\\polymorphic_function\\atomic_function.py:216\u001b[0m, in \u001b[0;36mAtomicFunction.call_preflattened\u001b[1;34m(self, args)\u001b[0m\n\u001b[0;32m    214\u001b[0m \u001b[38;5;28;01mdef\u001b[39;00m \u001b[38;5;21mcall_preflattened\u001b[39m(\u001b[38;5;28mself\u001b[39m, args: Sequence[core\u001b[38;5;241m.\u001b[39mTensor]) \u001b[38;5;241m-\u001b[39m\u001b[38;5;241m>\u001b[39m Any:\n\u001b[0;32m    215\u001b[0m \u001b[38;5;250m  \u001b[39m\u001b[38;5;124;03m\"\"\"Calls with flattened tensor inputs and returns the structured output.\"\"\"\u001b[39;00m\n\u001b[1;32m--> 216\u001b[0m   flat_outputs \u001b[38;5;241m=\u001b[39m \u001b[38;5;28;43mself\u001b[39;49m\u001b[38;5;241;43m.\u001b[39;49m\u001b[43mcall_flat\u001b[49m\u001b[43m(\u001b[49m\u001b[38;5;241;43m*\u001b[39;49m\u001b[43margs\u001b[49m\u001b[43m)\u001b[49m\n\u001b[0;32m    217\u001b[0m   \u001b[38;5;28;01mreturn\u001b[39;00m \u001b[38;5;28mself\u001b[39m\u001b[38;5;241m.\u001b[39mfunction_type\u001b[38;5;241m.\u001b[39mpack_output(flat_outputs)\n",
            "File \u001b[1;32mc:\\Users\\mruna\\AppData\\Local\\Programs\\Python\\Python310\\lib\\site-packages\\tensorflow\\python\\eager\\polymorphic_function\\atomic_function.py:251\u001b[0m, in \u001b[0;36mAtomicFunction.call_flat\u001b[1;34m(self, *args)\u001b[0m\n\u001b[0;32m    249\u001b[0m \u001b[38;5;28;01mwith\u001b[39;00m record\u001b[38;5;241m.\u001b[39mstop_recording():\n\u001b[0;32m    250\u001b[0m   \u001b[38;5;28;01mif\u001b[39;00m \u001b[38;5;28mself\u001b[39m\u001b[38;5;241m.\u001b[39m_bound_context\u001b[38;5;241m.\u001b[39mexecuting_eagerly():\n\u001b[1;32m--> 251\u001b[0m     outputs \u001b[38;5;241m=\u001b[39m \u001b[38;5;28;43mself\u001b[39;49m\u001b[38;5;241;43m.\u001b[39;49m\u001b[43m_bound_context\u001b[49m\u001b[38;5;241;43m.\u001b[39;49m\u001b[43mcall_function\u001b[49m\u001b[43m(\u001b[49m\n\u001b[0;32m    252\u001b[0m \u001b[43m        \u001b[49m\u001b[38;5;28;43mself\u001b[39;49m\u001b[38;5;241;43m.\u001b[39;49m\u001b[43mname\u001b[49m\u001b[43m,\u001b[49m\n\u001b[0;32m    253\u001b[0m \u001b[43m        \u001b[49m\u001b[38;5;28;43mlist\u001b[39;49m\u001b[43m(\u001b[49m\u001b[43margs\u001b[49m\u001b[43m)\u001b[49m\u001b[43m,\u001b[49m\n\u001b[0;32m    254\u001b[0m \u001b[43m        \u001b[49m\u001b[38;5;28;43mlen\u001b[39;49m\u001b[43m(\u001b[49m\u001b[38;5;28;43mself\u001b[39;49m\u001b[38;5;241;43m.\u001b[39;49m\u001b[43mfunction_type\u001b[49m\u001b[38;5;241;43m.\u001b[39;49m\u001b[43mflat_outputs\u001b[49m\u001b[43m)\u001b[49m\u001b[43m,\u001b[49m\n\u001b[0;32m    255\u001b[0m \u001b[43m    \u001b[49m\u001b[43m)\u001b[49m\n\u001b[0;32m    256\u001b[0m   \u001b[38;5;28;01melse\u001b[39;00m:\n\u001b[0;32m    257\u001b[0m     outputs \u001b[38;5;241m=\u001b[39m make_call_op_in_graph(\n\u001b[0;32m    258\u001b[0m         \u001b[38;5;28mself\u001b[39m,\n\u001b[0;32m    259\u001b[0m         \u001b[38;5;28mlist\u001b[39m(args),\n\u001b[0;32m    260\u001b[0m         \u001b[38;5;28mself\u001b[39m\u001b[38;5;241m.\u001b[39m_bound_context\u001b[38;5;241m.\u001b[39mfunction_call_options\u001b[38;5;241m.\u001b[39mas_attrs(),\n\u001b[0;32m    261\u001b[0m     )\n",
            "File \u001b[1;32mc:\\Users\\mruna\\AppData\\Local\\Programs\\Python\\Python310\\lib\\site-packages\\tensorflow\\python\\eager\\context.py:1500\u001b[0m, in \u001b[0;36mContext.call_function\u001b[1;34m(self, name, tensor_inputs, num_outputs)\u001b[0m\n\u001b[0;32m   1498\u001b[0m cancellation_context \u001b[38;5;241m=\u001b[39m cancellation\u001b[38;5;241m.\u001b[39mcontext()\n\u001b[0;32m   1499\u001b[0m \u001b[38;5;28;01mif\u001b[39;00m cancellation_context \u001b[38;5;129;01mis\u001b[39;00m \u001b[38;5;28;01mNone\u001b[39;00m:\n\u001b[1;32m-> 1500\u001b[0m   outputs \u001b[38;5;241m=\u001b[39m \u001b[43mexecute\u001b[49m\u001b[38;5;241;43m.\u001b[39;49m\u001b[43mexecute\u001b[49m\u001b[43m(\u001b[49m\n\u001b[0;32m   1501\u001b[0m \u001b[43m      \u001b[49m\u001b[43mname\u001b[49m\u001b[38;5;241;43m.\u001b[39;49m\u001b[43mdecode\u001b[49m\u001b[43m(\u001b[49m\u001b[38;5;124;43m\"\u001b[39;49m\u001b[38;5;124;43mutf-8\u001b[39;49m\u001b[38;5;124;43m\"\u001b[39;49m\u001b[43m)\u001b[49m\u001b[43m,\u001b[49m\n\u001b[0;32m   1502\u001b[0m \u001b[43m      \u001b[49m\u001b[43mnum_outputs\u001b[49m\u001b[38;5;241;43m=\u001b[39;49m\u001b[43mnum_outputs\u001b[49m\u001b[43m,\u001b[49m\n\u001b[0;32m   1503\u001b[0m \u001b[43m      \u001b[49m\u001b[43minputs\u001b[49m\u001b[38;5;241;43m=\u001b[39;49m\u001b[43mtensor_inputs\u001b[49m\u001b[43m,\u001b[49m\n\u001b[0;32m   1504\u001b[0m \u001b[43m      \u001b[49m\u001b[43mattrs\u001b[49m\u001b[38;5;241;43m=\u001b[39;49m\u001b[43mattrs\u001b[49m\u001b[43m,\u001b[49m\n\u001b[0;32m   1505\u001b[0m \u001b[43m      \u001b[49m\u001b[43mctx\u001b[49m\u001b[38;5;241;43m=\u001b[39;49m\u001b[38;5;28;43mself\u001b[39;49m\u001b[43m,\u001b[49m\n\u001b[0;32m   1506\u001b[0m \u001b[43m  \u001b[49m\u001b[43m)\u001b[49m\n\u001b[0;32m   1507\u001b[0m \u001b[38;5;28;01melse\u001b[39;00m:\n\u001b[0;32m   1508\u001b[0m   outputs \u001b[38;5;241m=\u001b[39m execute\u001b[38;5;241m.\u001b[39mexecute_with_cancellation(\n\u001b[0;32m   1509\u001b[0m       name\u001b[38;5;241m.\u001b[39mdecode(\u001b[38;5;124m\"\u001b[39m\u001b[38;5;124mutf-8\u001b[39m\u001b[38;5;124m\"\u001b[39m),\n\u001b[0;32m   1510\u001b[0m       num_outputs\u001b[38;5;241m=\u001b[39mnum_outputs,\n\u001b[1;32m   (...)\u001b[0m\n\u001b[0;32m   1514\u001b[0m       cancellation_manager\u001b[38;5;241m=\u001b[39mcancellation_context,\n\u001b[0;32m   1515\u001b[0m   )\n",
            "File \u001b[1;32mc:\\Users\\mruna\\AppData\\Local\\Programs\\Python\\Python310\\lib\\site-packages\\tensorflow\\python\\eager\\execute.py:53\u001b[0m, in \u001b[0;36mquick_execute\u001b[1;34m(op_name, num_outputs, inputs, attrs, ctx, name)\u001b[0m\n\u001b[0;32m     51\u001b[0m \u001b[38;5;28;01mtry\u001b[39;00m:\n\u001b[0;32m     52\u001b[0m   ctx\u001b[38;5;241m.\u001b[39mensure_initialized()\n\u001b[1;32m---> 53\u001b[0m   tensors \u001b[38;5;241m=\u001b[39m \u001b[43mpywrap_tfe\u001b[49m\u001b[38;5;241;43m.\u001b[39;49m\u001b[43mTFE_Py_Execute\u001b[49m\u001b[43m(\u001b[49m\u001b[43mctx\u001b[49m\u001b[38;5;241;43m.\u001b[39;49m\u001b[43m_handle\u001b[49m\u001b[43m,\u001b[49m\u001b[43m \u001b[49m\u001b[43mdevice_name\u001b[49m\u001b[43m,\u001b[49m\u001b[43m \u001b[49m\u001b[43mop_name\u001b[49m\u001b[43m,\u001b[49m\n\u001b[0;32m     54\u001b[0m \u001b[43m                                      \u001b[49m\u001b[43minputs\u001b[49m\u001b[43m,\u001b[49m\u001b[43m \u001b[49m\u001b[43mattrs\u001b[49m\u001b[43m,\u001b[49m\u001b[43m \u001b[49m\u001b[43mnum_outputs\u001b[49m\u001b[43m)\u001b[49m\n\u001b[0;32m     55\u001b[0m \u001b[38;5;28;01mexcept\u001b[39;00m core\u001b[38;5;241m.\u001b[39m_NotOkStatusException \u001b[38;5;28;01mas\u001b[39;00m e:\n\u001b[0;32m     56\u001b[0m   \u001b[38;5;28;01mif\u001b[39;00m name \u001b[38;5;129;01mis\u001b[39;00m \u001b[38;5;129;01mnot\u001b[39;00m \u001b[38;5;28;01mNone\u001b[39;00m:\n",
            "\u001b[1;31mKeyboardInterrupt\u001b[0m: "
          ]
        }
      ],
      "source": [
        "%%time\n",
        "epochs = 4\n",
        "\n",
        "history = model.fit(\n",
        "    train_ds,\n",
        "    epochs=epochs,\n",
        "    callbacks=callbacks,\n",
        ")"
      ]
    },
    {
      "cell_type": "code",
      "execution_count": null,
      "metadata": {
        "colab": {
          "base_uri": "https://localhost:8080/",
          "height": 430
        },
        "id": "ytU3vgbpcx6q",
        "outputId": "9d7122aa-3954-4a23-a16c-410b4efa9939"
      },
      "outputs": [
        {
          "data": {
            "image/png": "[encoded data removed]",
            "text/plain": [
              "<Figure size 640x480 with 1 Axes>"
            ]
          },
          "metadata": {},
          "output_type": "display_data"
        }
      ],
      "source": [
        "plt.plot(history.epoch, history.history['loss'], label='total loss')\n",
        "plt.show()"
      ]
    },
    {
      "cell_type": "code",
      "execution_count": null,
      "metadata": {
        "colab": {
          "base_uri": "https://localhost:8080/"
        },
        "id": "vKFf5lRHjY-0",
        "outputId": "dbcf27b7-d878-4195-f6fe-06b19464ed8c"
      },
      "outputs": [
        {
          "name": "stderr",
          "output_type": "stream",
          "text": [
            "WARNING:absl:You are saving your model as an HDF5 file via `model.save()` or `keras.saving.save_model(model)`. This file format is considered legacy. We recommend using instead the native Keras format, e.g. `model.save('my_model.keras')` or `keras.saving.save_model(model, 'my_model.keras')`. \n"
          ]
        },
        {
          "name": "stdout",
          "output_type": "stream",
          "text": [
            "Trained model saved successfully.\n"
          ]
        }
      ],
      "source": [
        "model.save('./model_midi_20.h5')\n",
        "print(\"Trained model saved successfully.\")"
      ]
    },
    {
      "cell_type": "code",
      "execution_count": null,
      "metadata": {
        "id": "lMJnjiMf9EUH"
      },
      "outputs": [],
      "source": [
        "# model.save('new.keras')"
      ]
    },
    {
      "cell_type": "code",
      "execution_count": null,
      "metadata": {
        "id": "whoRxfKhyDHm"
      },
      "outputs": [],
      "source": [
        "model.save('./model_midi_20.keras')"
      ]
    },
    {
      "cell_type": "code",
      "execution_count": null,
      "metadata": {
        "colab": {
          "base_uri": "https://localhost:8080/"
        },
        "id": "f5muWEBVTadM",
        "outputId": "f17f2b93-0887-49eb-d9e4-c64b56ffcdab"
      },
      "outputs": [],
      "source": [
        "# !pip show tensorflow"
      ]
    },
    {
      "cell_type": "code",
      "execution_count": null,
      "metadata": {
        "id": "D0wcoHgnIFoG"
      },
      "outputs": [
        {
          "name": "stderr",
          "output_type": "stream",
          "text": [
            "WARNING:absl:Compiled the loaded model, but the compiled metrics have yet to be built. `model.compile_metrics` will be empty until you train or evaluate the model.\n"
          ]
        }
      ],
      "source": [
        "import tensorflow as tf\n",
        "from tensorflow.keras.models import load_model\n",
        "\n",
        "# Define the custom loss function\n",
        "def mse_with_positive_pressure(y_true: tf.Tensor, y_pred: tf.Tensor):\n",
        "  mse = (y_true - y_pred) ** 2\n",
        "  positive_pressure = 10 * tf.maximum(-y_pred, 0.0)\n",
        "  return tf.reduce_mean(mse + positive_pressure)\n",
        "\n",
        "# Register the custom loss function with Keras\n",
        "losses = {'mse_with_positive_pressure': mse_with_positive_pressure}\n",
        "\n",
        "# Load the model with custom loss function\n",
        "model = load_model(r\"C:\\Users\\mruna\\OneDrive\\Desktop\\tarangAI\\model_midi_20.h5\", custom_objects=losses)\n"
      ]
    },
    {
      "cell_type": "code",
      "execution_count": null,
      "metadata": {
        "colab": {
          "base_uri": "https://localhost:8080/",
          "height": 356
        },
        "id": "BXorV1ZbHHaj",
        "outputId": "bbb8d6d8-4051-40ca-9a00-432ed17d0193"
      },
      "outputs": [],
      "source": [
        "# from tensorflow.keras.models import load_model\n",
        "# model=load_model(\"/content/new_model.h5\")"
      ]
    },
    {
      "cell_type": "code",
      "execution_count": null,
      "metadata": {
        "id": "RCL3T6CeifDG"
      },
      "outputs": [],
      "source": [
        "def predict_next_note(\n",
        "    notes: np.ndarray,\n",
        "    model: tf.keras.Model,\n",
        "    temperature: float = 1.0) -> tuple[int, float, float]:\n",
        "  \"\"\"Generates a note as a tuple of (pitch, step, duration), using a trained sequence model.\"\"\"\n",
        "\n",
        "  assert temperature > 0\n",
        "\n",
        "  # Add batch dimension\n",
        "  inputs = tf.expand_dims(notes, 0)\n",
        "\n",
        "  predictions = model.predict(inputs)\n",
        "  pitch_logits = predictions['pitch']\n",
        "  step = predictions['step']\n",
        "  duration = predictions['duration']\n",
        "  print(pitch_logits)\n",
        "  print(step)\n",
        "  print(duration)\n",
        "\n",
        "  pitch_logits /= temperature\n",
        "  pitch = tf.random.categorical(pitch_logits, num_samples=1)\n",
        "  pitch = tf.squeeze(pitch, axis=-1)\n",
        "  duration = tf.squeeze(duration, axis=-1)\n",
        "  step = tf.squeeze(step, axis=-1)\n",
        "\n",
        "  # `step` and `duration` values should be non-negative\n",
        "  step = tf.maximum(0, step)\n",
        "  duration = tf.maximum(0, duration)\n",
        "  duration=float(duration)/10\n",
        "  step = float(step)/30\n",
        "  print(\"----------------------------------------------------------------\")\n",
        "  print(int(pitch))\n",
        "  print(float(step))\n",
        "  print(float(duration))\n",
        "  print(\"----------------------------------------------------------------\")\n",
        "\n",
        "\n",
        "  return int(pitch), float(step), float(duration)"
      ]
    },
    {
      "cell_type": "code",
      "execution_count": null,
      "metadata": {
        "colab": {
          "base_uri": "https://localhost:8080/"
        },
        "id": "-BOj6dw8iycR",
        "outputId": "b6447351-7e05-4971-9676-cf0d64eb6d8b"
      },
      "outputs": [],
      "source": [
        "# temperature = 10.0\n",
        "# num_predictions = 10\n",
        "\n",
        "# sample_notes = np.stack([raw_notes[key] for key in key_order], axis=1)\n",
        "\n",
        "# # The initial sequence of notes; pitch is normalized similar to training\n",
        "\n",
        "# # sequences\n",
        "# input_notes = (\n",
        "#     [[80,0.12,0.36]])\n",
        "# print(len(input_notes))\n",
        "# print('///////////////////////////////////')\n",
        "# generated_notes_1 = []\n",
        "# prev_start = 0\n",
        "# for _ in range(num_predictions):\n",
        "#   pitch, step, duration = predict_next_note(input_notes, model, temperature)\n",
        "#   start = prev_start + step\n",
        "#   end = start + duration\n",
        "#   input_note = (pitch, step, duration)\n",
        "#   generated_notes_1.append((*input_note, start, end))\n",
        "#   input_notes = np.delete(input_notes, 0, axis=0)\n",
        "#   input_notes = np.append(input_notes, np.expand_dims(input_note, 0), axis=0)\n",
        "#   prev_start = end\n",
        "\n",
        "# generated_notes_1 = pd.DataFrame(\n",
        "#     generated_notes_1, columns=(*key_order, 'start', 'end'))"
      ]
    },
    {
      "cell_type": "code",
      "execution_count": null,
      "metadata": {},
      "outputs": [
        {
          "name": "stdout",
          "output_type": "stream",
          "text": [
            "20\n",
            "///////////////////////////////////\n",
            "\u001b[1m1/1\u001b[0m \u001b[32m━━━━━━━━━━━━━━━━━━━━\u001b[0m\u001b[37m\u001b[0m \u001b[1m0s\u001b[0m 64ms/step\n",
            "[[-12.0903425   -9.519159    -9.917285   -12.518652    -9.867851\n",
            "   -6.689284   -10.256323    -4.722225    -4.5234127   -4.1549897\n",
            "  -12.0090885  -11.718814    -6.278387    -4.3961973   -5.5315504\n",
            "   -2.3852696   -5.694593    -2.1656675   -0.20198387  -4.631318\n",
            "    4.9205117   -2.1371298   -0.321071     3.583015     3.7238445\n",
            "    4.592195     5.163697     6.3750067    6.421725     6.134106\n",
            "    4.1786084    3.6596837    5.2646637    5.263344     6.686768\n",
            "    5.5530825    4.7969       5.59724      4.07471      4.962364\n",
            "    4.9125094    2.3146532    3.4499736    4.9958706    4.343634\n",
            "    4.811408     4.630747     5.74143      5.8752556    2.3026195\n",
            "    7.2339973    5.340283     5.581896     3.8324366    5.221556\n",
            "    3.9313173    5.9213734    4.8228445    5.60779      7.48227\n",
            "    5.615282     5.5395184    5.203112     6.391732     5.8326197\n",
            "    4.3887887    5.3358283    6.669039     4.4271073    5.86626\n",
            "    4.340021     4.026674     5.999995     4.0315046    4.4689827\n",
            "    6.984477     4.758622     5.7073374    5.225998     4.927702\n",
            "    3.7225788    3.7630708    5.2235603    5.7051125    5.1784973\n",
            "    6.0527706    4.7586923    5.5508513    4.389727     4.4999633\n",
            "    4.968379     5.259975     5.440276     6.369388     6.762381\n",
            "    4.488331     5.7327194    4.539582     5.395085     5.251779\n",
            "    4.6705785    5.668201     5.086067     5.5940285  -12.392867\n",
            "  -12.1948     -12.050928   -12.220934   -12.275498   -12.784538\n",
            "  -12.00193    -12.922303   -11.613246   -12.38769    -12.215255\n",
            "  -11.96914    -11.97864    -12.041984   -12.131953   -12.425098\n",
            "  -12.5512905  -12.464135   -12.163759   -12.06286    -11.736001\n",
            "  -12.563474   -11.669228   -12.044878  ]]\n",
            "[[1.052213]]\n",
            "[[2.062667]]\n",
            "----------------------------------------------------------------\n",
            "28\n",
            "0.03507376511891683\n",
            "0.2062666893005371\n",
            "----------------------------------------------------------------\n",
            "\u001b[1m1/1\u001b[0m \u001b[32m━━━━━━━━━━━━━━━━━━━━\u001b[0m\u001b[37m\u001b[0m \u001b[1m0s\u001b[0m 47ms/step\n",
            "[[-12.254322    -9.677195   -10.0654     -12.699661    -9.912149\n",
            "   -6.769551   -10.3532715   -4.6786847   -4.47412     -4.1328783\n",
            "  -12.174558   -11.795194    -6.2450085   -4.3943825   -5.306694\n",
            "   -2.3193696   -5.616706    -2.0982988   -0.12301856  -4.600881\n",
            "    5.183691    -2.0574327   -0.17021626   3.7605047    3.8930244\n",
            "    4.731662     5.3101487    6.581198     6.515509     6.2331843\n",
            "    4.293036     3.712557     5.4089293    5.313411     6.750697\n",
            "    5.714594     4.899043     5.6533723    4.107864     5.11515\n",
            "    5.0096345    2.357234     3.4682214    5.1719213    4.5008593\n",
            "    5.0370245    4.7819953    5.7849326    5.978528     2.3400462\n",
            "    7.409153     5.5077806    5.741724     4.047908     5.366597\n",
            "    3.961813     5.985779     4.810993     5.77997      7.6683846\n",
            "    5.6685834    5.6168327    5.240658     6.478961     5.8930845\n",
            "    4.457379     5.4662347    6.7171865    4.5623283    5.8833637\n",
            "    4.317561     4.1691246    6.0693774    4.1540303    4.456629\n",
            "    7.1556206    4.768389     5.7554827    5.425413     5.0019608\n",
            "    3.7388256    3.7926579    5.335231     5.863779     5.2495003\n",
            "    6.215142     4.8750095    5.6303573    4.413428     4.6865535\n",
            "    4.9982815    5.2442455    5.4819784    6.4149523    6.9233394\n",
            "    4.5679884    5.81081      4.586844     5.52156      5.4136147\n",
            "    4.7557626    5.7559443    5.1063433    5.730981   -12.5610895\n",
            "  -12.362617   -12.244764   -12.410184   -12.461999   -12.934616\n",
            "  -12.169149   -13.074969   -11.834711   -12.560337   -12.38695\n",
            "  -12.156869   -12.175698   -12.243717   -12.330617   -12.616838\n",
            "  -12.710806   -12.639058   -12.3671665  -12.291238   -11.9299555\n",
            "  -12.707116   -11.945623   -12.249155  ]]\n",
            "[[1.119951]]\n",
            "[[2.0436752]]\n",
            "----------------------------------------------------------------\n",
            "84\n",
            "0.03733170032501221\n",
            "0.2043675184249878\n",
            "----------------------------------------------------------------\n",
            "\u001b[1m1/1\u001b[0m \u001b[32m━━━━━━━━━━━━━━━━━━━━\u001b[0m\u001b[37m\u001b[0m \u001b[1m0s\u001b[0m 60ms/step\n",
            "[[-12.090367    -9.519184    -9.917308   -12.51868     -9.867859\n",
            "   -6.6892967  -10.256338    -4.7222185   -4.523405    -4.1549864\n",
            "  -12.009114   -11.718825    -6.278382    -4.3961973   -5.5315156\n",
            "   -2.3852592   -5.6945815   -2.165657    -0.20197147  -4.6313133\n",
            "    4.9205537   -2.137117    -0.3210472    3.5830436    3.7238712\n",
            "    4.5922165    5.16372      6.375039     6.4217396    6.134122\n",
            "    4.1786265    3.659692     5.264686     5.263352     6.686778\n",
            "    5.5531077    4.796916     5.597249     4.074715     4.962388\n",
            "    4.912525     2.31466      3.4499764    4.9958982    4.343659\n",
            "    4.8114433    4.6307707    5.7414365    5.8752723    2.3026252\n",
            "    7.2340255    5.340309     5.581921     3.8324704    5.221579\n",
            "    3.931322     5.921384     4.8228426    5.607817     7.482299\n",
            "    5.6152897    5.5395303    5.2031183    6.3917456    5.8326283\n",
            "    4.388799     5.335849     6.669046     4.427128     5.866262\n",
            "    4.3400173    4.026696     6.000006     4.031524     4.4689803\n",
            "    6.9845037    4.7586236    5.707345     5.2260294    4.9277134\n",
            "    3.7225811    3.7630756    5.2235775    5.7051373    5.1785083\n",
            "    6.052796     4.758711     5.5508637    4.3897305    4.499993\n",
            "    4.9683833    5.2599726    5.440283     6.369395     6.7624063\n",
            "    4.4883432    5.732732     4.539589     5.3951044    5.2518044\n",
            "    4.670592     5.668215     5.0860705    5.59405    -12.392894\n",
            "  -12.194827   -12.050959   -12.2209635  -12.275527   -12.784562\n",
            "  -12.001956   -12.922327   -11.61328    -12.387716   -12.2152815\n",
            "  -11.96917    -11.97867    -12.042015   -12.131984   -12.425128\n",
            "  -12.551315   -12.464163   -12.163791   -12.062896   -11.736032\n",
            "  -12.563496   -11.669271   -12.04491   ]]\n",
            "[[1.0522234]]\n",
            "[[2.0626638]]\n",
            "----------------------------------------------------------------\n",
            "118\n",
            "0.03507411479949951\n",
            "0.20626637935638428\n",
            "----------------------------------------------------------------\n"
          ]
        },
        {
          "name": "stdout",
          "output_type": "stream",
          "text": [
            "\u001b[1m1/1\u001b[0m \u001b[32m━━━━━━━━━━━━━━━━━━━━\u001b[0m\u001b[37m\u001b[0m \u001b[1m0s\u001b[0m 57ms/step\n",
            "[[-12.090342    -9.519158    -9.917284   -12.518651    -9.867851\n",
            "   -6.689284   -10.256323    -4.7222257   -4.5234127   -4.15499\n",
            "  -12.0090885  -11.718814    -6.278387    -4.3961973   -5.531551\n",
            "   -2.3852696   -5.694594    -2.1656675   -0.20198411  -4.631319\n",
            "    4.9205112   -2.1371298   -0.3210715    3.583015     3.723844\n",
            "    4.592194     5.1636963    6.375006     6.4217243    6.134106\n",
            "    4.1786084    3.6596832    5.2646637    5.263344     6.686768\n",
            "    5.553082     4.7969       5.5972395    4.0747094    4.9623637\n",
            "    4.9125094    2.3146532    3.4499736    4.99587      4.3436337\n",
            "    4.8114076    4.6307464    5.74143      5.8752556    2.3026192\n",
            "    7.2339973    5.340283     5.581896     3.8324363    5.2215557\n",
            "    3.931317     5.9213734    4.8228445    5.6077895    7.4822693\n",
            "    5.6152816    5.539518     5.203112     6.391732     5.8326187\n",
            "    4.388788     5.335828     6.669039     4.427107     5.86626\n",
            "    4.340021     4.0266733    5.999995     4.0315046    4.4689827\n",
            "    6.9844766    4.758622     5.7073374    5.225998     4.9277015\n",
            "    3.7225788    3.7630708    5.2235603    5.705112     5.1784973\n",
            "    6.05277      4.7586923    5.550851     4.389727     4.4999633\n",
            "    4.968379     5.2599754    5.440276     6.369388     6.762381\n",
            "    4.488331     5.732719     4.5395823    5.3950844    5.2517786\n",
            "    4.6705785    5.668201     5.086067     5.594028   -12.392867\n",
            "  -12.1948     -12.050928   -12.220934   -12.275498   -12.784538\n",
            "  -12.001929   -12.922302   -11.613246   -12.387689   -12.215255\n",
            "  -11.969139   -11.978639   -12.041983   -12.131952   -12.425097\n",
            "  -12.5512905  -12.464135   -12.163758   -12.06286    -11.736\n",
            "  -12.563474   -11.669228   -12.044878  ]]\n",
            "[[1.0522128]]\n",
            "[[2.062667]]\n",
            "----------------------------------------------------------------\n",
            "125\n",
            "0.035073761145273843\n",
            "0.2062666893005371\n",
            "----------------------------------------------------------------\n",
            "\u001b[1m1/1\u001b[0m \u001b[32m━━━━━━━━━━━━━━━━━━━━\u001b[0m\u001b[37m\u001b[0m \u001b[1m0s\u001b[0m 50ms/step\n",
            "[[-12.090335    -9.519152    -9.917278   -12.518644    -9.867847\n",
            "   -6.6892805  -10.256317    -4.7222266   -4.523414    -4.1549892\n",
            "  -12.009081   -11.718809    -6.278388    -4.3961964   -5.5315576\n",
            "   -2.38527     -5.694596    -2.165668    -0.20198584  -4.631319\n",
            "    4.920503    -2.1371307   -0.32107538   3.5830097    3.723837\n",
            "    4.59219      5.163692     6.3749986    6.4217234    6.134101\n",
            "    4.1786065    3.659681     5.2646585    5.2633424    6.6867647\n",
            "    5.553077     4.796896     5.597236     4.074706     4.962358\n",
            "    4.9125056    2.3146524    3.449973     4.995863     4.343628\n",
            "    4.8113995    4.6307397    5.7414293    5.8752537    2.3026168\n",
            "    7.2339916    5.340277     5.581887     3.8324273    5.2215505\n",
            "    3.9313161    5.9213705    4.8228426    5.6077843    7.4822626\n",
            "    5.6152787    5.539517     5.2031107    6.391728     5.832615\n",
            "    4.388787     5.3358235    6.6690354    4.427101     5.866259\n",
            "    4.340021     4.0266676    5.999994     4.0315003    4.4689827\n",
            "    6.9844694    4.7586193    5.7073355    5.22599      4.9276977\n",
            "    3.7225778    3.7630684    5.2235556    5.7051044    5.1784935\n",
            "    6.052764     4.758687     5.550848     4.3897243    4.499956\n",
            "    4.968377     5.259974     5.440274     6.369387     6.7623754\n",
            "    4.488328     5.732716     4.5395803    5.395078     5.2517724\n",
            "    4.6705723    5.6681967    5.0860662    5.5940237  -12.392861\n",
            "  -12.194794   -12.0509205  -12.220927   -12.275493   -12.784534\n",
            "  -12.001924   -12.922297   -11.613238   -12.387682   -12.215249\n",
            "  -11.969132   -11.978633   -12.041974   -12.131946   -12.425091\n",
            "  -12.551287   -12.4641285  -12.163752   -12.062854   -11.735993\n",
            "  -12.563467   -11.669221   -12.04487   ]]\n",
            "[[1.05221]]\n",
            "[[2.0626674]]\n",
            "----------------------------------------------------------------\n",
            "30\n",
            "0.035073665777842204\n",
            "0.20626673698425294\n",
            "----------------------------------------------------------------\n",
            "\u001b[1m1/1\u001b[0m \u001b[32m━━━━━━━━━━━━━━━━━━━━\u001b[0m\u001b[37m\u001b[0m \u001b[1m0s\u001b[0m 58ms/step\n",
            "[[-12.253341    -9.676347   -10.064558   -12.698608    -9.911768\n",
            "   -6.768931   -10.352728    -4.6788044   -4.4743776   -4.132949\n",
            "  -12.173579   -11.794769    -6.245272    -4.394417    -5.3079495\n",
            "   -2.319906    -5.617292    -2.0982888   -0.12363988  -4.601618\n",
            "    5.181574    -2.0582883   -0.17158216   3.7589245    3.891696\n",
            "    4.7300816    5.308469     6.579313     6.5143137    6.232264\n",
            "    4.2919617    3.711738     5.4080186    5.3128123    6.750186\n",
            "    5.7134814    4.898128     5.652723     4.107138     5.114265\n",
            "    5.0087385    2.3565757    3.4680429    5.1709127    4.4995484\n",
            "    5.0361423    4.7808475    5.7848415    5.9776945    2.339848\n",
            "    7.407906     5.506796     5.7405357    4.0466413    5.3658566\n",
            "    3.9615817    5.9849386    4.8109813    5.7788205    7.667487\n",
            "    5.6685147    5.6163483    5.2401853    6.4788036    5.89266\n",
            "    4.457193     5.4656653    6.7173734    4.5618725    5.8832045\n",
            "    4.318136     4.1685505    6.0692654    4.1531415    4.457\n",
            "    7.155103     4.76832      5.75541      5.4242682    5.0016155\n",
            "    3.7389913    3.7924526    5.335061     5.8630586    5.2493906\n",
            "    6.2141438    4.874187     5.6296606    4.413398     4.685607\n",
            "    4.99834      5.2446246    5.481872     6.41491      6.922826\n",
            "    4.567694     5.8105316    4.587013     5.52125      5.4130754\n",
            "    4.755244     5.7555737    5.106133     5.7301836  -12.560103\n",
            "  -12.361638   -12.243645   -12.409083   -12.460894   -12.933732\n",
            "  -12.168162   -13.074065   -11.833439   -12.559313   -12.385936\n",
            "  -12.155787   -12.174587   -12.242587   -12.3294525  -12.61574\n",
            "  -12.709854   -12.638014   -12.365998   -12.289935   -11.928841\n",
            "  -12.706255   -11.944078   -12.24799   ]]\n",
            "[[1.1198744]]\n",
            "[[2.0440645]]\n",
            "----------------------------------------------------------------\n",
            "114\n",
            "0.03732914527257283\n",
            "0.2044064521789551\n",
            "----------------------------------------------------------------\n",
            "\u001b[1m1/1\u001b[0m \u001b[32m━━━━━━━━━━━━━━━━━━━━\u001b[0m\u001b[37m\u001b[0m \u001b[1m0s\u001b[0m 48ms/step\n",
            "[[-12.090333    -9.51915     -9.917276   -12.518643    -9.867847\n",
            "   -6.68928    -10.256315    -4.722227    -4.5234146   -4.1549892\n",
            "  -12.009079   -11.718807    -6.278388    -4.3961964   -5.53156\n",
            "   -2.38527     -5.694597    -2.165668    -0.20198637  -4.631319\n",
            "    4.9205008   -2.1371312   -0.3210765    3.5830083    3.7238345\n",
            "    4.5921884    5.1636906    6.374996     6.421723     6.1340995\n",
            "    4.178606     3.6596806    5.264657     5.263342     6.686764\n",
            "    5.5530753    4.796895     5.597235     4.074705     4.9623566\n",
            "    4.9125047    2.3146522    3.449973     4.9958606    4.3436265\n",
            "    4.811397     4.630738     5.741429     5.8752537    2.3026161\n",
            "    7.2339897    5.340276     5.5818844    3.8324249    5.221549\n",
            "    3.931316     5.9213696    4.822842     5.607783     7.4822607\n",
            "    5.615278     5.5395164    5.20311      6.391727     5.832614\n",
            "    4.3887863    5.335822     6.6690345    4.427099     5.866259\n",
            "    4.340021     4.0266666    5.9999933    4.031499     4.4689827\n",
            "    6.9844675    4.758619     5.7073345    5.2259874    4.9276967\n",
            "    3.7225773    3.7630675    5.2235546    5.705102     5.1784925\n",
            "    6.0527625    4.7586856    5.550847     4.389724     4.499954\n",
            "    4.9683766    5.2599735    5.440273     6.3693867    6.7623734\n",
            "    4.4883275    5.732715     4.53958      5.3950768    5.2517705\n",
            "    4.6705704    5.6681952    5.086066     5.5940228  -12.39286\n",
            "  -12.194791   -12.050919   -12.220925   -12.275491   -12.7845335\n",
            "  -12.001922   -12.922296   -11.613236   -12.38768    -12.215247\n",
            "  -11.9691305  -11.978631   -12.041971   -12.131944   -12.425089\n",
            "  -12.551285   -12.464127   -12.16375    -12.062852   -11.7359915\n",
            "  -12.563465   -11.669218   -12.044868  ]]\n",
            "[[1.0522093]]\n",
            "[[2.0626674]]\n",
            "----------------------------------------------------------------\n",
            "100\n",
            "0.03507364193598429\n",
            "0.20626673698425294\n",
            "----------------------------------------------------------------\n",
            "\u001b[1m1/1\u001b[0m \u001b[32m━━━━━━━━━━━━━━━━━━━━\u001b[0m\u001b[37m\u001b[0m \u001b[1m0s\u001b[0m 41ms/step\n",
            "[[-12.090337    -9.519153    -9.917279   -12.518645    -9.867847\n",
            "   -6.689281   -10.256317    -4.722226    -4.523414    -4.1549892\n",
            "  -12.009082   -11.718809    -6.2783875   -4.3961973   -5.5315576\n",
            "   -2.3852699   -5.694596    -2.1656678   -0.20198566  -4.6313186\n",
            "    4.920504    -2.1371305   -0.3210749    3.5830097    3.7238374\n",
            "    4.5921907    5.163692     6.374999     6.4217234    6.1341014\n",
            "    4.1786065    3.6596813    5.264659     5.2633424    6.686765\n",
            "    5.553077     4.796896     5.5972366    4.0747066    4.9623585\n",
            "    4.9125056    2.3146527    3.4499736    4.995864     4.343629\n",
            "    4.8114004    4.6307406    5.7414293    5.8752537    2.302617\n",
            "    7.2339916    5.3402777    5.5818872    3.832428     5.221551\n",
            "    3.9313166    5.9213705    4.822843     5.6077847    7.4822636\n",
            "    5.615279     5.539517     5.2031107    6.3917284    5.832616\n",
            "    4.388787     5.335824     6.6690354    4.4271016    5.866259\n",
            "    4.340021     4.0266685    5.9999943    4.0315003    4.4689827\n",
            "    6.9844704    4.75862      5.7073355    5.2259903    4.927698\n",
            "    3.7225778    3.7630684    5.2235565    5.705105     5.1784945\n",
            "    6.052765     4.7586875    5.5508485    4.3897247    4.4999566\n",
            "    4.968377     5.2599735    5.440274     6.369387     6.7623754\n",
            "    4.4883285    5.7327166    4.539581     5.395079     5.2517734\n",
            "    4.6705728    5.6681967    5.0860662    5.5940247  -12.392862\n",
            "  -12.194794   -12.050922   -12.220927   -12.275493   -12.784534\n",
            "  -12.0019245  -12.922298   -11.61324    -12.387682   -12.215249\n",
            "  -11.969133   -11.978634   -12.041975   -12.131946   -12.425091\n",
            "  -12.551287   -12.464129   -12.1637535  -12.062854   -11.735994\n",
            "  -12.563467   -11.669221   -12.04487   ]]\n",
            "[[1.0522102]]\n",
            "[[2.0626674]]\n",
            "----------------------------------------------------------------\n",
            "36\n",
            "0.03507367372512817\n",
            "0.20626673698425294\n",
            "----------------------------------------------------------------\n",
            "\u001b[1m1/1\u001b[0m \u001b[32m━━━━━━━━━━━━━━━━━━━━\u001b[0m\u001b[37m\u001b[0m \u001b[1m0s\u001b[0m 44ms/step\n",
            "[[-12.245245    -9.668702   -10.057316   -12.689721    -9.909395\n",
            "   -6.764745   -10.347998    -4.680729    -4.4767523   -4.133942\n",
            "  -12.165426   -11.791052    -6.247023    -4.3945436   -5.3189096\n",
            "   -2.3233876   -5.621329    -2.1009574   -0.12777656  -4.604005\n",
            "    5.1677127   -2.062828    -0.17976996   3.7493353    3.8828382\n",
            "    4.722005     5.299957     6.5680943    6.5086703    6.2268505\n",
            "    4.2856894    3.7083263    5.4008203    5.309864     6.7468247\n",
            "    5.705273     4.892599     5.6494527    4.104661     5.106767\n",
            "    5.003442     2.3538303    3.4670312    5.1622906    4.4911957\n",
            "    5.0257473    4.7729936    5.7829633    5.972251     2.3380413\n",
            "    7.3989406    5.4985533    5.732274     4.0360394    5.358897\n",
            "    3.959998     5.9810343    4.811434     5.7701283    7.658642\n",
            "    5.666282     5.612495     5.237936     6.475079     5.889576\n",
            "    4.4541645    5.459563     6.7157536    4.555759     5.8822703\n",
            "    4.319948     4.161959     6.066322     4.146844     4.458083\n",
            "    7.1474595    4.767821     5.753378     5.4144993    4.998108\n",
            "    3.7386084    3.7909477    5.3303423    5.8555884    5.246388\n",
            "    6.2060843    4.8682423    5.6253824    4.4124055    4.6766644\n",
            "    4.9972434    5.2458553    5.4800425    6.4130273    6.915593\n",
            "    4.5640516    5.8069763    4.5853977    5.5157185    5.405768\n",
            "    4.751025     5.751487     5.1049905    5.7234564  -12.551829\n",
            "  -12.3533945  -12.234135   -12.399789   -12.451701   -12.926343\n",
            "  -12.159926   -13.066543   -11.82259    -12.550802   -12.37748\n",
            "  -12.146586   -12.164963   -12.232749   -12.319682   -12.606348\n",
            "  -12.701981   -12.62938    -12.35603    -12.27876    -11.919335\n",
            "  -12.69916    -11.930603   -12.237993  ]]\n",
            "[[1.1170536]]\n",
            "[[2.0454423]]\n",
            "----------------------------------------------------------------\n",
            "111\n",
            "0.03723512093226115\n",
            "0.20454423427581786\n",
            "----------------------------------------------------------------\n",
            "\u001b[1m1/1\u001b[0m \u001b[32m━━━━━━━━━━━━━━━━━━━━\u001b[0m\u001b[37m\u001b[0m \u001b[1m0s\u001b[0m 48ms/step\n",
            "[[-12.090338    -9.519155    -9.917281   -12.518647    -9.867849\n",
            "   -6.689282   -10.256319    -4.722226    -4.5234137   -4.1549897\n",
            "  -12.009085   -11.718811    -6.2783875   -4.3961973   -5.5315547\n",
            "   -2.3852699   -5.694595    -2.1656678   -0.201985    -4.631319\n",
            "    4.920507    -2.1371303   -0.32107356   3.583012     3.7238402\n",
            "    4.5921917    5.163694     6.375002     6.421724     6.1341033\n",
            "    4.1786075    3.659682     5.264661     5.263343     6.686766\n",
            "    5.553079     4.796898     5.5972376    4.0747075    4.9623604\n",
            "    4.9125075    2.3146527    3.4499736    4.9958663    4.343631\n",
            "    4.8114038    4.630743     5.7414293    5.8752546    2.302618\n",
            "    7.2339945    5.34028      5.581891     3.8324316    5.2215533\n",
            "    3.9313169    5.9213724    4.8228436    5.6077867    7.482266\n",
            "    5.61528      5.5395174    5.203111     6.39173      5.832617\n",
            "    4.3887873    5.335826     6.669037     4.4271035    5.86626\n",
            "    4.340021     4.0266705    5.9999948    4.0315022    4.4689827\n",
            "    6.984473     4.7586207    5.7073364    5.2259936    4.9276996\n",
            "    3.7225783    3.7630694    5.2235575    5.7051077    5.1784954\n",
            "    6.0527673    4.7586894    5.5508494    4.3897257    4.4999595\n",
            "    4.968378     5.259975     5.4402747    6.3693876    6.762378\n",
            "    4.4883294    5.7327175    4.5395813    5.395081     5.2517757\n",
            "    4.670575     5.6681986    5.0860667    5.5940256  -12.392864\n",
            "  -12.194797   -12.050924   -12.22093    -12.275495   -12.784536\n",
            "  -12.001926   -12.922299   -11.613242   -12.387685   -12.215251\n",
            "  -11.969136   -11.978637   -12.041978   -12.131948   -12.425094\n",
            "  -12.551289   -12.464131   -12.163754   -12.062857   -11.735997\n",
            "  -12.56347    -11.669224   -12.044874  ]]\n",
            "[[1.0522114]]\n",
            "[[2.0626671]]\n",
            "----------------------------------------------------------------\n",
            "113\n",
            "0.03507371346155803\n",
            "0.20626671314239503\n",
            "----------------------------------------------------------------\n"
          ]
        }
      ],
      "source": [
        "temperature = 100.0\n",
        "num_predictions = 10\n",
        "\n",
        "sample_notes = np.stack([raw_notes[key] for key in key_order], axis=1)\n",
        "\n",
        "# The initial sequence of notes; pitch is normalized similar to training\n",
        "\n",
        "# sequences\n",
        "# input_notes = (\n",
        "#     [[80,0.12,0.36]])\n",
        "# print(len(input_notes))\n",
        "# raw_notes=raw_notes['pitch','step','duration']\n",
        "# raw_notes = raw_notes.drop(['start', 'end'], axis=1)\n",
        "\n",
        "input_notes_df = raw_notes.head(20)\n",
        "input_notes = input_notes_df.to_numpy()\n",
        "print(len(input_notes))\n",
        "print('///////////////////////////////////')\n",
        "generated_notes_1 = []\n",
        "prev_start = 0\n",
        "for _ in range(num_predictions):\n",
        "  pitch, step, duration = predict_next_note(input_notes, model, temperature)\n",
        "  start = prev_start + step\n",
        "  end = start + duration\n",
        "  input_note = (pitch, step, duration)\n",
        "  generated_notes_1.append((*input_note, start, end))\n",
        "  input_notes = np.delete(input_notes, 0, axis=0)\n",
        "  input_notes = np.append(input_notes, np.expand_dims(input_note, 0), axis=0)\n",
        "  prev_start = end\n",
        "\n",
        "generated_notes_1 = pd.DataFrame(\n",
        "    generated_notes_1, columns=(*key_order, 'start', 'end'))"
      ]
    },
    {
      "cell_type": "code",
      "execution_count": null,
      "metadata": {
        "colab": {
          "base_uri": "https://localhost:8080/",
          "height": 424
        },
        "id": "BA7zXW9vi8Jm",
        "outputId": "a8a133bf-3fd5-4711-cf4f-f86fd9996249"
      },
      "outputs": [
        {
          "data": {
            "text/html": [
              "<div>\n",
              "<style scoped>\n",
              "    .dataframe tbody tr th:only-of-type {\n",
              "        vertical-align: middle;\n",
              "    }\n",
              "\n",
              "    .dataframe tbody tr th {\n",
              "        vertical-align: top;\n",
              "    }\n",
              "\n",
              "    .dataframe thead th {\n",
              "        text-align: right;\n",
              "    }\n",
              "</style>\n",
              "<table border=\"1\" class=\"dataframe\">\n",
              "  <thead>\n",
              "    <tr style=\"text-align: right;\">\n",
              "      <th></th>\n",
              "      <th>pitch</th>\n",
              "      <th>step</th>\n",
              "      <th>duration</th>\n",
              "      <th>start</th>\n",
              "      <th>end</th>\n",
              "    </tr>\n",
              "  </thead>\n",
              "  <tbody>\n",
              "    <tr>\n",
              "      <th>0</th>\n",
              "      <td>28</td>\n",
              "      <td>0.035074</td>\n",
              "      <td>0.206267</td>\n",
              "      <td>0.035074</td>\n",
              "      <td>0.241340</td>\n",
              "    </tr>\n",
              "    <tr>\n",
              "      <th>1</th>\n",
              "      <td>84</td>\n",
              "      <td>0.037332</td>\n",
              "      <td>0.204368</td>\n",
              "      <td>0.278672</td>\n",
              "      <td>0.483040</td>\n",
              "    </tr>\n",
              "    <tr>\n",
              "      <th>2</th>\n",
              "      <td>118</td>\n",
              "      <td>0.035074</td>\n",
              "      <td>0.206266</td>\n",
              "      <td>0.518114</td>\n",
              "      <td>0.724380</td>\n",
              "    </tr>\n",
              "    <tr>\n",
              "      <th>3</th>\n",
              "      <td>125</td>\n",
              "      <td>0.035074</td>\n",
              "      <td>0.206267</td>\n",
              "      <td>0.759454</td>\n",
              "      <td>0.965721</td>\n",
              "    </tr>\n",
              "    <tr>\n",
              "      <th>4</th>\n",
              "      <td>30</td>\n",
              "      <td>0.035074</td>\n",
              "      <td>0.206267</td>\n",
              "      <td>1.000794</td>\n",
              "      <td>1.207061</td>\n",
              "    </tr>\n",
              "    <tr>\n",
              "      <th>5</th>\n",
              "      <td>114</td>\n",
              "      <td>0.037329</td>\n",
              "      <td>0.204406</td>\n",
              "      <td>1.244390</td>\n",
              "      <td>1.448797</td>\n",
              "    </tr>\n",
              "    <tr>\n",
              "      <th>6</th>\n",
              "      <td>100</td>\n",
              "      <td>0.035074</td>\n",
              "      <td>0.206267</td>\n",
              "      <td>1.483870</td>\n",
              "      <td>1.690137</td>\n",
              "    </tr>\n",
              "    <tr>\n",
              "      <th>7</th>\n",
              "      <td>36</td>\n",
              "      <td>0.035074</td>\n",
              "      <td>0.206267</td>\n",
              "      <td>1.725211</td>\n",
              "      <td>1.931477</td>\n",
              "    </tr>\n",
              "    <tr>\n",
              "      <th>8</th>\n",
              "      <td>111</td>\n",
              "      <td>0.037235</td>\n",
              "      <td>0.204544</td>\n",
              "      <td>1.968713</td>\n",
              "      <td>2.173257</td>\n",
              "    </tr>\n",
              "    <tr>\n",
              "      <th>9</th>\n",
              "      <td>113</td>\n",
              "      <td>0.035074</td>\n",
              "      <td>0.206267</td>\n",
              "      <td>2.208330</td>\n",
              "      <td>2.414597</td>\n",
              "    </tr>\n",
              "  </tbody>\n",
              "</table>\n",
              "</div>"
            ],
            "text/plain": [
              "   pitch      step  duration     start       end\n",
              "0     28  0.035074  0.206267  0.035074  0.241340\n",
              "1     84  0.037332  0.204368  0.278672  0.483040\n",
              "2    118  0.035074  0.206266  0.518114  0.724380\n",
              "3    125  0.035074  0.206267  0.759454  0.965721\n",
              "4     30  0.035074  0.206267  1.000794  1.207061\n",
              "5    114  0.037329  0.204406  1.244390  1.448797\n",
              "6    100  0.035074  0.206267  1.483870  1.690137\n",
              "7     36  0.035074  0.206267  1.725211  1.931477\n",
              "8    111  0.037235  0.204544  1.968713  2.173257\n",
              "9    113  0.035074  0.206267  2.208330  2.414597"
            ]
          },
          "execution_count": 200,
          "metadata": {},
          "output_type": "execute_result"
        }
      ],
      "source": [
        "generated_notes_1"
      ]
    },
    {
      "cell_type": "code",
      "execution_count": null,
      "metadata": {
        "id": "8ebCHoY-XwX5"
      },
      "outputs": [],
      "source": [
        "def notes_to_midi(\n",
        "  notes: pd.DataFrame,\n",
        "  out_file: str,\n",
        "  instrument_name: str,\n",
        "  velocity: int = 100,  # note loudness\n",
        ") -> pretty_midi.PrettyMIDI:\n",
        "\n",
        "  pm = pretty_midi.PrettyMIDI()\n",
        "  instrument = pretty_midi.Instrument(\n",
        "      program=pretty_midi.instrument_name_to_program(     # again the pretty midi is converting the notes to midi\n",
        "          instrument_name))\n",
        "\n",
        "  prev_start = 0\n",
        "  for i, note in notes.iterrows():\n",
        "    start = float(note['start'])\n",
        "    end = float(note['end'])\n",
        "    note = pretty_midi.Note(\n",
        "        velocity=velocity,\n",
        "        pitch=int(note['pitch']),\n",
        "        start=start,\n",
        "        end=end,\n",
        "    )\n",
        "    instrument.notes.append(note)\n",
        "    prev_start = end\n",
        "\n",
        "  pm.instruments.append(instrument)\n",
        "  pm.write(out_file)\n",
        "  return pm"
      ]
    },
    {
      "cell_type": "code",
      "execution_count": null,
      "metadata": {
        "colab": {
          "base_uri": "https://localhost:8080/",
          "height": 75
        },
        "id": "28bxlI6pjCJN",
        "outputId": "6d73a5dd-fcb1-4cc4-a0a9-b3c19913bdd2"
      },
      "outputs": [],
      "source": [
        "# out_file = 'output.mid'\n",
        "# out_pm1 = notes_to_midi(\n",
        "#     generated_notes_1, out_file=out_file, instrument_name=instrument_name)\n",
        "# display_audio(out_pm1)"
      ]
    },
    {
      "cell_type": "code",
      "execution_count": null,
      "metadata": {
        "id": "AMQJrzJsjFRQ"
      },
      "outputs": [],
      "source": [
        "# from google.colab import files\n",
        "# files.download(out_file)"
      ]
    },
    {
      "cell_type": "code",
      "execution_count": null,
      "metadata": {
        "colab": {
          "base_uri": "https://localhost:8080/",
          "height": 245
        },
        "id": "6rIEdVIAjPxg",
        "outputId": "393edf4c-5449-4482-bf9a-6fdd6be057e6"
      },
      "outputs": [
        {
          "data": {
            "image/png": "[encoded data removed]",
            "text/plain": [
              "<Figure size 2000x400 with 1 Axes>"
            ]
          },
          "metadata": {},
          "output_type": "display_data"
        }
      ],
      "source": [
        "plot_piano_roll(generated_notes_1)"
      ]
    },
    {
      "cell_type": "code",
      "execution_count": null,
      "metadata": {
        "colab": {
          "base_uri": "https://localhost:8080/",
          "height": 362
        },
        "id": "nyyPqgmmjUbg",
        "outputId": "d3a276c0-c2f2-473c-82d9-39098aa8e497"
      },
      "outputs": [
        {
          "data": {
            "image/png": "[encoded data removed]",
            "text/plain": [
              "<Figure size 1500x500 with 3 Axes>"
            ]
          },
          "metadata": {},
          "output_type": "display_data"
        }
      ],
      "source": [
        "plot_distributions(generated_notes_1)"
      ]
    },
    {
      "cell_type": "code",
      "execution_count": null,
      "metadata": {
        "id": "6dxjLq5J_LmQ"
      },
      "outputs": [],
      "source": []
    }
  ],
  "metadata": {
    "accelerator": "GPU",
    "colab": {
      "gpuType": "T4",
      "provenance": []
    },
    "kernelspec": {
      "display_name": "Python 3",
      "name": "python3"
    },
    "language_info": {
      "codemirror_mode": {
        "name": "ipython",
        "version": 3
      },
      "file_extension": ".py",
      "mimetype": "text/x-python",
      "name": "python",
      "nbconvert_exporter": "python",
      "pygments_lexer": "ipython3",
      "version": "3.10.10"
    }
  },
  "nbformat": 4,
  "nbformat_minor": 0
}
